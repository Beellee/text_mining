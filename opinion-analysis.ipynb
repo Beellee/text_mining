{
 "cells": [
  {
   "cell_type": "markdown",
   "id": "1894f082",
   "metadata": {
    "id": "1894f082"
   },
   "source": [
    "<div style=\"width: 100%; clear: both;\">\n",
    "<div style=\"float: left; width: 50%;\">\n",
    "<img src=\"https://www.uoc.edu/content/dam/news/images/noticies/2016/202-nova-marca-uoc.jpg\", align=\"left\" width=\"380\" height=\"120\">\n",
    "</div>\n",
    "</div>\n",
    "<div style=\"float: right; width: 50%;\">\n",
    "<p style=\"margin: 0; padding-top: 22px; text-align:right;\">22.520 - Minería de textos</p>\n",
    "<p style=\"margin: 0; text-align:right;\">Grado en Ciencia de Datos Aplicada</p>\n",
    "<p style=\"margin: 0; text-align:right; padding-button: 100px;\">Estudios de Informática, Multimedia y Telecomunicaciones</p>\n",
    "</div>\n",
    "</div>\n",
    "<div style=\"width: 100%; clear: both;\">\n",
    "<div style=\"width:100%;\">&nbsp;</div>\n",
    "\n",
    "\n",
    "# Procesamiento y análisis de información textual (PRA1)\n",
    "\n",
    "En la PRA1 trabajaremos con un dataset de reseñas (opiniones o reviews) y lo analizaremos siguiendo un conjunto de tareas: pasando por la preparación y limpieza de los datos, hasta la evaluación de modelos de clasificación de sentimientos. Por lo tanto, los objetivos de esta actividad son:\n",
    "\n",
    "- Aplicar técnicas de procesamiento de lenguaje natural para limpiar y preprocesar los datos del dataset elegido.\n",
    "- Implementar algoritmos de aprendizaje automático, como LDA y clasificación supervisada, para analizar los textos de las reseñas.\n",
    "- Evaluar el rendimiento de los modelos creados, utilizando las métricas adecuadas\n",
    "\n",
    "Por tanto, en esta primera práctica, revisaremos y aplicaremos los conocimientos aprendidos en los módulos 2, 3 y 4 de la asignatura. Concretamente trataremos 5 temas.\n",
    "\n",
    "<ul>\n",
    "<li>1. Elección y preparación del dataset (10%).\n",
    "<li>2. Obtención de datos (30%).\n",
    "<li>3. Detección de temas (30%).\n",
    "<li>4. Clasificación automática de opiniones positivas y negativas (20%).\n",
    "<li>5. Evaluación (10%).\n",
    "</ul>\n",
    "  \n",
    "A continuación, se describe la estructura de la práctica a realizar. Considerar que por cada apartado, se han planteado varios ejercicios a resolver; y en algunos pocos casos, se deja la solución para orientar un poco mejor el desarrollo."
   ]
  },
  {
   "cell_type": "code",
   "execution_count": null,
   "id": "e07f3005",
   "metadata": {},
   "outputs": [],
   "source": [
    "#!pip3 install kaggle\n",
    "#!pip3 install pyspellchecker tqdm\n",
    "#!pip3 install contractions\n",
    "#!pip3 install seaborn\n",
    "#!pip3 install gensim\n",
    "#!pip3 install pyLDAvis\n",
    "#Instalar la versión pandas 1.5.3 si usas Google Colab como entorno de ejecución.\n",
    "#!pip install pandas==1.5.3\n",
    "#!pip install wordcloud"
   ]
  },
  {
   "cell_type": "code",
   "execution_count": null,
   "id": "02783e52-8d17-47ea-aa0b-8d32613cac63",
   "metadata": {
    "id": "02783e52-8d17-47ea-aa0b-8d32613cac63"
   },
   "outputs": [],
   "source": [
    "import warnings\n",
    "warnings.filterwarnings('ignore', category=DeprecationWarning)\n",
    "\n",
    "import pandas as pd\n",
    "import os\n",
    "from zipfile import ZipFile\n",
    "import matplotlib.pyplot as plt\n",
    "import seaborn as sns\n",
    "import re\n",
    "import string\n",
    "from spellchecker import SpellChecker\n",
    "from tqdm import tqdm\n",
    "import contractions\n",
    "\n",
    "import nltk\n",
    "#nltk.download('all')\n",
    "from nltk import pos_tag, word_tokenize\n",
    "from nltk.collocations import *\n",
    "\n",
    "nltk.download('stopwords')\n",
    "nltk.download('punkt')\n",
    "nltk.download('averaged_perceptron_tagger')\n",
    "\n",
    "from nltk.collocations import BigramAssocMeasures, TrigramAssocMeasures, BigramCollocationFinder, TrigramCollocationFinder\n",
    "from nltk.corpus import stopwords\n",
    "from collections import Counter\n",
    "from nltk.tokenize import word_tokenize\n",
    "\n",
    "from gensim.models import Phrases\n",
    "from gensim.models.phrases import Phraser\n",
    "\n",
    "from nltk.util import ngrams\n",
    "nltk.download('wordnet')\n",
    "\n",
    "from nltk.stem.wordnet import WordNetLemmatizer\n",
    "from nltk.stem import WordNetLemmatizer\n",
    "from nltk.corpus import wordnet\n",
    "from nltk.corpus import wordnet as wn\n",
    "from gensim.models import Word2Vec\n",
    "\n",
    "from gensim.models import CoherenceModel\n",
    "\n",
    "from sklearn.feature_extraction.text import TfidfVectorizer\n",
    "from sklearn.linear_model import LogisticRegression\n",
    "from sklearn.model_selection import train_test_split\n",
    "import time\n",
    "import numpy as np\n",
    "import textwrap\n",
    "\n",
    "from gensim import corpora\n",
    "\n",
    "from gensim.models.ldamodel import LdaModel\n",
    "\n",
    "import pyLDAvis\n",
    "import pyLDAvis.gensim_models as gensimvis\n",
    "\n",
    "from wordcloud import WordCloud\n",
    "\n",
    "from sklearn.metrics import classification_report, confusion_matrix, accuracy_score\n",
    "from sklearn.svm import LinearSVC\n",
    "from sklearn.metrics import classification_report, accuracy_score, confusion_matrix\n",
    "from sklearn.naive_bayes import MultinomialNB\n",
    "from sklearn.metrics import classification_report, accuracy_score, confusion_matrix\n"
   ]
  },
  {
   "cell_type": "markdown",
   "id": "1ce11941-7b11-4a49-8a18-6fe3bdd9e3dc",
   "metadata": {
    "id": "1ce11941-7b11-4a49-8a18-6fe3bdd9e3dc"
   },
   "source": [
    "# 1. Elección y preparación del dataset\n"
   ]
  },
  {
   "cell_type": "markdown",
   "id": "bb0bf012",
   "metadata": {
    "id": "bb0bf012"
   },
   "source": [
    "## 1.1. Descripción y carga del dataset\n",
    "\n",
    "<div style=\"background-color: #EDF7FF; border-color: #7C9DBF; border-left: 5px solid #7C9DBF; padding: 1em;\">\n",
    "\n",
    "<strong>Ejercicio 1.1.1:</strong> En palabras, describir el título del dataset seleccionado, la dirección original (fuente), y una descripción del mismo.\n",
    "\n",
    "</div>"
   ]
  },
  {
   "cell_type": "markdown",
   "id": "NxjFYJeLuorD",
   "metadata": {
    "id": "NxjFYJeLuorD"
   },
   "source": [
    "Título del dataset seleccionado:\n",
    "Amazon Books Reviews\n",
    "\n",
    "Fuente: Kaggle - [Amazon Books Reviews](https://www.kaggle.com/datasets/mohamedbakhet/amazon-books-reviews)\n",
    "\n",
    "Descripción del dataset:\n",
    "Este conjunto de datos contiene reseñas de libros publicadas en Amazon por usuarios reales. Cada registro incluye el titulo y texto de la opinión escrita por el usuario, junto con información adicional como el título del libro, el nombre del usuario, la puntuación asignada (rating), y otras posibles variables relacionadas con la reseña."
   ]
  },
  {
   "cell_type": "markdown",
   "id": "vJpqjBndVvFT",
   "metadata": {
    "id": "vJpqjBndVvFT"
   },
   "source": [
    "<div style=\"background-color: #EDF7FF; border-color: #7C9DBF; border-left: 5px solid #7C9DBF; padding: 1em;\">\n",
    "\n",
    "<strong>Ejercicio 1.1.2:</strong> Carga del dataset y descripción de sus principales características: tamaño, estructura, distribución de clase/rating, distribución de longitudes de texto, exploración preliminar del texto de las opiniones (orientada a descubrir potenciales tareas de limpieza a realizar).\n",
    "\n",
    "</div>\n",
    "\n",
    "<b>Importante</b>: En caso de haber elegido un dataset sin una columna que denote el sentimiento de cada texto, pero, sí el rating, en este ejercicio, agregar una nueva columna de sentimiento. Por ejemplo, si tenemos los valores 1 a 5 para rating, podríamos considerar a los valores de 1 y 2, como sentimiento negativo (0), y a los valores 4 y 5 como positivo (1). Por ahora, nos vamos a centrar en la clasificación binaria, por tanto, no es necesario considerar a los valores de sentimiento “neutral” o rating=3\n",
    "\n",
    "\n"
   ]
  },
  {
   "cell_type": "code",
   "execution_count": null,
   "id": "bbf74bac",
   "metadata": {
    "id": "bbf74bac"
   },
   "outputs": [],
   "source": [
    "#############################################\n",
    "#                 SOLUCIÓN                  #\n",
    "#############################################"
   ]
  },
  {
   "cell_type": "code",
   "execution_count": 11,
   "id": "Qe1pfu4bdJiy",
   "metadata": {
    "colab": {
     "base_uri": "https://localhost:8080/"
    },
    "executionInfo": {
     "elapsed": 102825,
     "status": "ok",
     "timestamp": 1744314240355,
     "user": {
      "displayName": "Pato PatoPato",
      "userId": "05389761250347138911"
     },
     "user_tz": -120
    },
    "id": "Qe1pfu4bdJiy",
    "outputId": "2d7ec0a0-8411-4479-9254-144a5ec9fb88"
   },
   "outputs": [
    {
     "name": "stdout",
     "output_type": "stream",
     "text": [
      "/Users/belle/Library/Python/3.9/lib/python/site-packages/urllib3/__init__.py:35: NotOpenSSLWarning: urllib3 v2 only supports OpenSSL 1.1.1+, currently the 'ssl' module is compiled with 'LibreSSL 2.8.3'. See: https://github.com/urllib3/urllib3/issues/3020\n",
      "  warnings.warn(\n",
      "Dataset URL: https://www.kaggle.com/datasets/mohamedbakhet/amazon-books-reviews\n",
      "License(s): CC0-1.0\n",
      "amazon-books-reviews.zip: Skipping, found more recently modified local copy (use --force to force download)\n"
     ]
    }
   ],
   "source": [
    "# Configurar la API de Kaggle\n",
    "os.environ['KAGGLE_USERNAME'] = 'paulaalvarz'\n",
    "os.environ['KAGGLE_KEY'] = '589d59b84ecb445b3d54d18823644a3b'\n",
    "\n",
    "# Descargar el dataset\n",
    "!kaggle datasets download -d mohamedbakhet/amazon-books-reviews\n",
    "\n",
    "# Descomprimir el archivo\n",
    "with ZipFile(\"amazon-books-reviews.zip\", 'r') as zip_ref:\n",
    "    zip_ref.extractall(\"amazon_books_reviews\")\n",
    "\n",
    "# Cargar el dataset\n",
    "df = pd.read_csv(\"amazon_books_reviews/Books_rating.csv\")"
   ]
  },
  {
   "cell_type": "code",
   "execution_count": 3,
   "id": "8BjfqEoMfxYx",
   "metadata": {
    "colab": {
     "base_uri": "https://localhost:8080/",
     "height": 310
    },
    "executionInfo": {
     "elapsed": 52,
     "status": "ok",
     "timestamp": 1744314272550,
     "user": {
      "displayName": "Pato PatoPato",
      "userId": "05389761250347138911"
     },
     "user_tz": -120
    },
    "id": "8BjfqEoMfxYx",
    "outputId": "488ba113-0fe0-4328-9140-4f0c24cc03b2"
   },
   "outputs": [
    {
     "data": {
      "text/html": [
       "<div>\n",
       "<style scoped>\n",
       "    .dataframe tbody tr th:only-of-type {\n",
       "        vertical-align: middle;\n",
       "    }\n",
       "\n",
       "    .dataframe tbody tr th {\n",
       "        vertical-align: top;\n",
       "    }\n",
       "\n",
       "    .dataframe thead th {\n",
       "        text-align: right;\n",
       "    }\n",
       "</style>\n",
       "<table border=\"1\" class=\"dataframe\">\n",
       "  <thead>\n",
       "    <tr style=\"text-align: right;\">\n",
       "      <th></th>\n",
       "      <th>Id</th>\n",
       "      <th>Title</th>\n",
       "      <th>Price</th>\n",
       "      <th>User_id</th>\n",
       "      <th>profileName</th>\n",
       "      <th>review/helpfulness</th>\n",
       "      <th>review/score</th>\n",
       "      <th>review/time</th>\n",
       "      <th>review/summary</th>\n",
       "      <th>review/text</th>\n",
       "    </tr>\n",
       "  </thead>\n",
       "  <tbody>\n",
       "    <tr>\n",
       "      <th>0</th>\n",
       "      <td>1882931173</td>\n",
       "      <td>Its Only Art If Its Well Hung!</td>\n",
       "      <td>NaN</td>\n",
       "      <td>AVCGYZL8FQQTD</td>\n",
       "      <td>Jim of Oz \"jim-of-oz\"</td>\n",
       "      <td>7/7</td>\n",
       "      <td>4.0</td>\n",
       "      <td>940636800</td>\n",
       "      <td>Nice collection of Julie Strain images</td>\n",
       "      <td>This is only for Julie Strain fans. It's a col...</td>\n",
       "    </tr>\n",
       "    <tr>\n",
       "      <th>1</th>\n",
       "      <td>0826414346</td>\n",
       "      <td>Dr. Seuss: American Icon</td>\n",
       "      <td>NaN</td>\n",
       "      <td>A30TK6U7DNS82R</td>\n",
       "      <td>Kevin Killian</td>\n",
       "      <td>10/10</td>\n",
       "      <td>5.0</td>\n",
       "      <td>1095724800</td>\n",
       "      <td>Really Enjoyed It</td>\n",
       "      <td>I don't care much for Dr. Seuss but after read...</td>\n",
       "    </tr>\n",
       "    <tr>\n",
       "      <th>2</th>\n",
       "      <td>0826414346</td>\n",
       "      <td>Dr. Seuss: American Icon</td>\n",
       "      <td>NaN</td>\n",
       "      <td>A3UH4UZ4RSVO82</td>\n",
       "      <td>John Granger</td>\n",
       "      <td>10/11</td>\n",
       "      <td>5.0</td>\n",
       "      <td>1078790400</td>\n",
       "      <td>Essential for every personal and Public Library</td>\n",
       "      <td>If people become the books they read and if \"t...</td>\n",
       "    </tr>\n",
       "    <tr>\n",
       "      <th>3</th>\n",
       "      <td>0826414346</td>\n",
       "      <td>Dr. Seuss: American Icon</td>\n",
       "      <td>NaN</td>\n",
       "      <td>A2MVUWT453QH61</td>\n",
       "      <td>Roy E. Perry \"amateur philosopher\"</td>\n",
       "      <td>7/7</td>\n",
       "      <td>4.0</td>\n",
       "      <td>1090713600</td>\n",
       "      <td>Phlip Nel gives silly Seuss a serious treatment</td>\n",
       "      <td>Theodore Seuss Geisel (1904-1991), aka &amp;quot;D...</td>\n",
       "    </tr>\n",
       "    <tr>\n",
       "      <th>4</th>\n",
       "      <td>0826414346</td>\n",
       "      <td>Dr. Seuss: American Icon</td>\n",
       "      <td>NaN</td>\n",
       "      <td>A22X4XUPKF66MR</td>\n",
       "      <td>D. H. Richards \"ninthwavestore\"</td>\n",
       "      <td>3/3</td>\n",
       "      <td>4.0</td>\n",
       "      <td>1107993600</td>\n",
       "      <td>Good academic overview</td>\n",
       "      <td>Philip Nel - Dr. Seuss: American IconThis is b...</td>\n",
       "    </tr>\n",
       "  </tbody>\n",
       "</table>\n",
       "</div>"
      ],
      "text/plain": [
       "           Id                           Title  Price         User_id  \\\n",
       "0  1882931173  Its Only Art If Its Well Hung!    NaN   AVCGYZL8FQQTD   \n",
       "1  0826414346        Dr. Seuss: American Icon    NaN  A30TK6U7DNS82R   \n",
       "2  0826414346        Dr. Seuss: American Icon    NaN  A3UH4UZ4RSVO82   \n",
       "3  0826414346        Dr. Seuss: American Icon    NaN  A2MVUWT453QH61   \n",
       "4  0826414346        Dr. Seuss: American Icon    NaN  A22X4XUPKF66MR   \n",
       "\n",
       "                          profileName review/helpfulness  review/score  \\\n",
       "0               Jim of Oz \"jim-of-oz\"                7/7           4.0   \n",
       "1                       Kevin Killian              10/10           5.0   \n",
       "2                        John Granger              10/11           5.0   \n",
       "3  Roy E. Perry \"amateur philosopher\"                7/7           4.0   \n",
       "4     D. H. Richards \"ninthwavestore\"                3/3           4.0   \n",
       "\n",
       "   review/time                                   review/summary  \\\n",
       "0    940636800           Nice collection of Julie Strain images   \n",
       "1   1095724800                                Really Enjoyed It   \n",
       "2   1078790400  Essential for every personal and Public Library   \n",
       "3   1090713600  Phlip Nel gives silly Seuss a serious treatment   \n",
       "4   1107993600                           Good academic overview   \n",
       "\n",
       "                                         review/text  \n",
       "0  This is only for Julie Strain fans. It's a col...  \n",
       "1  I don't care much for Dr. Seuss but after read...  \n",
       "2  If people become the books they read and if \"t...  \n",
       "3  Theodore Seuss Geisel (1904-1991), aka &quot;D...  \n",
       "4  Philip Nel - Dr. Seuss: American IconThis is b...  "
      ]
     },
     "execution_count": 3,
     "metadata": {},
     "output_type": "execute_result"
    }
   ],
   "source": [
    "df.head()"
   ]
  },
  {
   "cell_type": "code",
   "execution_count": 7,
   "id": "07db0c76",
   "metadata": {},
   "outputs": [
    {
     "data": {
      "text/plain": [
       "Id                     object\n",
       "Title                  object\n",
       "Price                 float64\n",
       "User_id                object\n",
       "profileName            object\n",
       "review/helpfulness     object\n",
       "review/score          float64\n",
       "review/time             int64\n",
       "review/summary         object\n",
       "review/text            object\n",
       "dtype: object"
      ]
     },
     "execution_count": 7,
     "metadata": {},
     "output_type": "execute_result"
    }
   ],
   "source": [
    "df.dtypes"
   ]
  },
  {
   "cell_type": "code",
   "execution_count": 4,
   "id": "8824960f",
   "metadata": {},
   "outputs": [
    {
     "data": {
      "image/png": "[encoded data removed]",
      "text/plain": [
       "<Figure size 1000x400 with 1 Axes>"
      ]
     },
     "metadata": {},
     "output_type": "display_data"
    },
    {
     "data": {
      "image/png": "[encoded data removed]",
      "text/plain": [
       "<Figure size 1000x400 with 1 Axes>"
      ]
     },
     "metadata": {},
     "output_type": "display_data"
    }
   ],
   "source": [
    "# preprocesado para graficar\n",
    "plot_df = df.copy()\n",
    "plot_df['review/text'] = plot_df['review/text'].fillna(\"\").astype(str)\n",
    "plot_df['num_chars'] = plot_df['review/text'].apply(len)\n",
    "plot_df['num_words'] = plot_df['review/text'].apply(lambda x: len(x.split()))\n",
    "\n",
    "# distribución de longitud en caracteres\n",
    "plt.figure(figsize=(10, 4))\n",
    "sns.histplot(plot_df['num_chars'], bins=50, kde=True)\n",
    "plt.title(\"Distribución de la longitud de las reseñas (en caracteres)\")\n",
    "plt.xlabel(\"Número de caracteres\")\n",
    "plt.ylabel(\"Frecuencia\")\n",
    "plt.show()\n",
    "\n",
    "# distribución de longitud en palabras\n",
    "plt.figure(figsize=(10, 4))\n",
    "sns.histplot(plot_df['num_words'], bins=50, kde=True)\n",
    "plt.title(\"Distribución de la longitud de las reseñas (en palabras)\")\n",
    "plt.xlabel(\"Número de palabras\")\n",
    "plt.ylabel(\"Frecuencia\")\n",
    "plt.show()\n"
   ]
  },
  {
   "cell_type": "markdown",
   "id": "eed8b7d3",
   "metadata": {},
   "source": [
    "Los caracteres componen letras, espacios, signos de puntuación etc. mientras que las palabras cuentan aquello que está dividido por espacios por ejemplo:\n",
    "\"Me encantó el libro!\" → 20 caracteres || 4 palabras"
   ]
  },
  {
   "cell_type": "code",
   "execution_count": 5,
   "id": "Ft554Utwgch5",
   "metadata": {
    "colab": {
     "base_uri": "https://localhost:8080/"
    },
    "executionInfo": {
     "elapsed": 812,
     "status": "ok",
     "timestamp": 1744122571372,
     "user": {
      "displayName": "Pato PatoPato",
      "userId": "05389761250347138911"
     },
     "user_tz": -120
    },
    "id": "Ft554Utwgch5",
    "outputId": "9018eab8-be40-4d03-d0b9-bca9353efb25"
   },
   "outputs": [
    {
     "name": "stdout",
     "output_type": "stream",
     "text": [
      "El dataframe tiene 3000000 registros.\n",
      "Reseñas con puntuación 1 o 2 (negativas): 352746,  (11.76% de los registros)\n",
      "Reseñas con puntuación 3 (neutras): 254295, (8.48% de los registros)\n",
      "Reseñas con puntuación 4 o 5 (positivas): 2392959, (79.77% de los registros)\n"
     ]
    }
   ],
   "source": [
    "total = df.shape[0]\n",
    "count_1_2 = df[df['review/score'].isin([1, 2])].shape[0]\n",
    "count_3 = df[df['review/score'] == 3].shape[0]\n",
    "count_4_5 = df[df['review/score'].isin([4, 5])].shape[0]\n",
    "\n",
    "print(f'El dataframe tiene {total} registros.')\n",
    "print(f'Reseñas con puntuación 1 o 2 (negativas): {count_1_2},  ({round(count_1_2 / total * 100, 2)}% de los registros)')\n",
    "print(f'Reseñas con puntuación 3 (neutras): {count_3}, ({round(count_3/total *100, 2)}% de los registros)')\n",
    "print(f'Reseñas con puntuación 4 o 5 (positivas): {count_4_5}, ({round(count_4_5/total *100, 2)}% de los registros)')"
   ]
  },
  {
   "cell_type": "markdown",
   "id": "ie8FTcH5nVIE",
   "metadata": {
    "id": "ie8FTcH5nVIE"
   },
   "source": [
    "Como se puede observar, el dataset está desbalanceado: hay muchas más reseñas positivas que negativas.\n",
    "\n",
    "Una posible solución sería considerar las reseñas con puntuación igual a 3 como negativas. Sin embargo, esto podría generar ambigüedad en el modelo, ya que las reseñas con puntuación 3 probablemente no sean tan claramente negativas como aquellas con puntuación 1 o 2.\n",
    "\n",
    "Dado que el dataset cuenta con una gran cantidad de registros —incluso más de los necesarios, lo que podría afectar negativamente los tiempos de ejecución—, optaremos por reducir el número de reseñas positivas. De esta manera, obtendremos un conjunto de datos más ligero y equilibrado."
   ]
  },
  {
   "cell_type": "code",
   "execution_count": null,
   "id": "MXsnq84-gwh5",
   "metadata": {
    "id": "MXsnq84-gwh5",
    "outputId": "fff57655-b75e-4c8f-9d6a-a33282787533"
   },
   "outputs": [],
   "source": [
    "# descartamos los registros con rating 3\n",
    "df = df[df['review/score'].isin([1, 2, 4, 5])]\n",
    "\n",
    "# creamos la columna 'feeling' que representa el sentimiento positivo/negativo\n",
    "df['feeling'] = df['review/score'].apply(lambda x: 0 if x in [1., 2.] else 1)"
   ]
  },
  {
   "cell_type": "code",
   "execution_count": 10,
   "id": "Mf4WCzl5QGe8",
   "metadata": {
    "id": "Mf4WCzl5QGe8",
    "outputId": "e5cedbc8-f3df-4801-caa6-b0f3ff645e04"
   },
   "outputs": [
    {
     "data": {
      "text/html": [
       "<div>\n",
       "<style scoped>\n",
       "    .dataframe tbody tr th:only-of-type {\n",
       "        vertical-align: middle;\n",
       "    }\n",
       "\n",
       "    .dataframe tbody tr th {\n",
       "        vertical-align: top;\n",
       "    }\n",
       "\n",
       "    .dataframe thead th {\n",
       "        text-align: right;\n",
       "    }\n",
       "</style>\n",
       "<table border=\"1\" class=\"dataframe\">\n",
       "  <thead>\n",
       "    <tr style=\"text-align: right;\">\n",
       "      <th></th>\n",
       "      <th>Id</th>\n",
       "      <th>Title</th>\n",
       "      <th>Price</th>\n",
       "      <th>User_id</th>\n",
       "      <th>profileName</th>\n",
       "      <th>review/helpfulness</th>\n",
       "      <th>review/score</th>\n",
       "      <th>review/time</th>\n",
       "      <th>review/summary</th>\n",
       "      <th>review/text</th>\n",
       "      <th>feeling</th>\n",
       "    </tr>\n",
       "  </thead>\n",
       "  <tbody>\n",
       "    <tr>\n",
       "      <th>0</th>\n",
       "      <td>069452607X</td>\n",
       "      <td>Good to Great</td>\n",
       "      <td>26.95</td>\n",
       "      <td>AUYL5G0TFOLOH</td>\n",
       "      <td>Lane Coonrod</td>\n",
       "      <td>0/0</td>\n",
       "      <td>5.0</td>\n",
       "      <td>1267660800</td>\n",
       "      <td>good book</td>\n",
       "      <td>good material. I like the concept of the study...</td>\n",
       "      <td>1</td>\n",
       "    </tr>\n",
       "    <tr>\n",
       "      <th>1</th>\n",
       "      <td>B000NSK0WC</td>\n",
       "      <td>Introduction to Solid State Physics</td>\n",
       "      <td>NaN</td>\n",
       "      <td>A25EISBHF55C4O</td>\n",
       "      <td>green</td>\n",
       "      <td>2/2</td>\n",
       "      <td>2.0</td>\n",
       "      <td>1216598400</td>\n",
       "      <td>Generations of solid state students suffered</td>\n",
       "      <td>Generations of solid state physics students, i...</td>\n",
       "      <td>0</td>\n",
       "    </tr>\n",
       "    <tr>\n",
       "      <th>2</th>\n",
       "      <td>0738702757</td>\n",
       "      <td>Sticks, Stones, Roots &amp; Bones: Hoodoo, Mojo &amp; ...</td>\n",
       "      <td>11.50</td>\n",
       "      <td>A31GZ2FFI3OUFU</td>\n",
       "      <td>Jeffrey Bunting \"Jeff\"</td>\n",
       "      <td>5/12</td>\n",
       "      <td>2.0</td>\n",
       "      <td>1179187200</td>\n",
       "      <td>murky at best sexist at worse</td>\n",
       "      <td>First off when I bought this book I had a lot ...</td>\n",
       "      <td>0</td>\n",
       "    </tr>\n",
       "    <tr>\n",
       "      <th>3</th>\n",
       "      <td>B000K19KMI</td>\n",
       "      <td>The Cyberiad</td>\n",
       "      <td>NaN</td>\n",
       "      <td>ANTGGAQYPSWHF</td>\n",
       "      <td>owookiee \"owookiee\"</td>\n",
       "      <td>3/34</td>\n",
       "      <td>1.0</td>\n",
       "      <td>1216080000</td>\n",
       "      <td>Hugely disappointing</td>\n",
       "      <td>This book received such great reviews, but I f...</td>\n",
       "      <td>0</td>\n",
       "    </tr>\n",
       "    <tr>\n",
       "      <th>4</th>\n",
       "      <td>0974521272</td>\n",
       "      <td>Leaving Lancaster County</td>\n",
       "      <td>NaN</td>\n",
       "      <td>A2BYXWQ8V5DB70</td>\n",
       "      <td>Judy Wiebe</td>\n",
       "      <td>5/17</td>\n",
       "      <td>1.0</td>\n",
       "      <td>1159833600</td>\n",
       "      <td>very Disappointed</td>\n",
       "      <td>I am fascinated by the Amish and read every bo...</td>\n",
       "      <td>0</td>\n",
       "    </tr>\n",
       "  </tbody>\n",
       "</table>\n",
       "</div>"
      ],
      "text/plain": [
       "           Id                                              Title  Price  \\\n",
       "0  069452607X                                      Good to Great  26.95   \n",
       "1  B000NSK0WC                Introduction to Solid State Physics    NaN   \n",
       "2  0738702757  Sticks, Stones, Roots & Bones: Hoodoo, Mojo & ...  11.50   \n",
       "3  B000K19KMI                                       The Cyberiad    NaN   \n",
       "4  0974521272                           Leaving Lancaster County    NaN   \n",
       "\n",
       "          User_id             profileName review/helpfulness  review/score  \\\n",
       "0   AUYL5G0TFOLOH            Lane Coonrod                0/0           5.0   \n",
       "1  A25EISBHF55C4O                   green                2/2           2.0   \n",
       "2  A31GZ2FFI3OUFU  Jeffrey Bunting \"Jeff\"               5/12           2.0   \n",
       "3   ANTGGAQYPSWHF     owookiee \"owookiee\"               3/34           1.0   \n",
       "4  A2BYXWQ8V5DB70              Judy Wiebe               5/17           1.0   \n",
       "\n",
       "   review/time                                review/summary  \\\n",
       "0   1267660800                                     good book   \n",
       "1   1216598400  Generations of solid state students suffered   \n",
       "2   1179187200                 murky at best sexist at worse   \n",
       "3   1216080000                          Hugely disappointing   \n",
       "4   1159833600                             very Disappointed   \n",
       "\n",
       "                                         review/text  feeling  \n",
       "0  good material. I like the concept of the study...        1  \n",
       "1  Generations of solid state physics students, i...        0  \n",
       "2  First off when I bought this book I had a lot ...        0  \n",
       "3  This book received such great reviews, but I f...        0  \n",
       "4  I am fascinated by the Amish and read every bo...        0  "
      ]
     },
     "execution_count": 10,
     "metadata": {},
     "output_type": "execute_result"
    }
   ],
   "source": [
    "# reducimos el tamaño del dataset\n",
    "# seleccionamos 10,000 reseñas negativas (feeling = 0)\n",
    "negativas = df[df['feeling'] == 0].sample(n=5000, random_state=42)\n",
    "\n",
    "# seleccionamos 10,000 reseñas positivas (feeling = 1)\n",
    "positivas = df[df['feeling'] == 1].sample(n=5000, random_state=42)\n",
    "\n",
    "# unimos ambas muestras\n",
    "df = pd.concat([negativas, positivas]).sample(frac=1, random_state=42).reset_index(drop=True)\n",
    "df.head()"
   ]
  },
  {
   "cell_type": "code",
   "execution_count": 8,
   "id": "211d0eac",
   "metadata": {},
   "outputs": [
    {
     "name": "stdout",
     "output_type": "stream",
     "text": [
      "El dataframe tiene 10000 registros.\n",
      "Reseñas con puntuación 1 o 2 (negativas): 5000,  (50.0% de los registros)\n",
      "Reseñas con puntuación 3 (neutras): 0, (0.0% de los registros)\n",
      "Reseñas con puntuación 4 o 5 (positivas): 5000, (50.0% de los registros)\n"
     ]
    }
   ],
   "source": [
    "total = df.shape[0]\n",
    "count_1_2 = df[df['review/score'].isin([1, 2])].shape[0]\n",
    "count_3 = df[df['review/score'] == 3].shape[0]\n",
    "count_4_5 = df[df['review/score'].isin([4, 5])].shape[0]\n",
    "\n",
    "print(f'El dataframe tiene {total} registros.')\n",
    "print(f'Reseñas con puntuación 1 o 2 (negativas): {count_1_2},  ({round(count_1_2 / total * 100, 2)}% de los registros)')\n",
    "print(f'Reseñas con puntuación 3 (neutras): {count_3}, ({round(count_3/total *100, 2)}% de los registros)')\n",
    "print(f'Reseñas con puntuación 4 o 5 (positivas): {count_4_5}, ({round(count_4_5/total *100, 2)}% de los registros)')"
   ]
  },
  {
   "cell_type": "markdown",
   "id": "gmUCKPB5xGjC",
   "metadata": {
    "id": "gmUCKPB5xGjC"
   },
   "source": [
    "## 1.2 Limpieza de texto\n",
    "\n",
    "Antes de trabajar con los textos de las reseñas, hay que limpiarlos. En general, dependiendo del dataset podría ser necesario:\n",
    "\n",
    "1. Eliminar menciones (@), hashtags (#), o código HTML.\n",
    "2. Eliminar páginas web.\n",
    "3. Corregir palabras mal escritas (las que resalten en el corpus).\n",
    "4. Eliminar duplicados.\n",
    "5. Convertir contracciones, (por ejemplo, en lugar de wouldn't, se cambiaría a would not).\n",
    "6. Filtrar tokens no alfabéticos.\n",
    "7. Filtrar signos de puntuación (!) y quitar espacios doble. Se recomienda no quitar el \".\" porque luego se usará este signo para crear la lista de sentencias. Como referencia ver el ejemplo de PRA proporcionado (*Ejemplo_PRA1.ipynb*).\n",
    "9. Convertir texto a minúsculas.\n",
    "\n",
    "Por cada punto, realizar las verificaciones necesarias para determinar la existencia de cada elemento mencionado en el punto anterior (menciones, hashtags, código HTML, páginas web, etc.) e implementar las acciones de limpieza (según se requiera).\n",
    "\n",
    "<b>IMPORTANTE</b>:\n",
    "- Antes de implementar cualquier acción, se sugiere crear una columna, llamada *text*, a partir del contenido de la columna de texto original del datset elegido; y sobre la nueva columna aplicar las tareas de limpieza.\n",
    "- Por cada acción de limpieza realizada, enlistar al menos una reseña que muestre que la función implementada funciona. Es decir, presentar el texto original y el texto transformado (*text*).\n",
    "- Agregar las celdas de texto y código necesarias, de tal manera que se realice las verificaciones sugeridas, y se dé solución a los problemas de calidad de datos encontrados. Como orientación, se recomienda revisar el archivo <b>Ejemplo_PRA1.ipynb</b> para ver la mejor forma de organanizar la solución."
   ]
  },
  {
   "cell_type": "code",
   "execution_count": 12,
   "id": "14f55c4a-d217-4b77-800b-e03ce9913f1f",
   "metadata": {
    "id": "14f55c4a-d217-4b77-800b-e03ce9913f1f"
   },
   "outputs": [],
   "source": [
    "#Crear la columna 'text' para aplicar en ella las tareas de preprocesamiento y limpieza:\n",
    "df['text'] = df['review/text']"
   ]
  },
  {
   "cell_type": "code",
   "execution_count": 10,
   "id": "a315473d-7e70-467b-b966-229eb0c6d835",
   "metadata": {
    "id": "a315473d-7e70-467b-b966-229eb0c6d835"
   },
   "outputs": [],
   "source": [
    "#############################################\n",
    "#                 SOLUCIÓN\n",
    "#############################################"
   ]
  },
  {
   "cell_type": "code",
   "execution_count": 13,
   "id": "LrP674yAEr-2",
   "metadata": {
    "id": "LrP674yAEr-2"
   },
   "outputs": [],
   "source": [
    "def show_and_clean(pattern_name, pattern, df, column='text', replacement=''):\n",
    "\n",
    "    \"\"\"\n",
    "    Funcion que busca las coincidencias para un patrón, muestra el texto,\n",
    "    lo limpia y muestra el resultado.\n",
    "    \"\"\"\n",
    "    # compilamos para ahorrar tiempo de ejecucion \n",
    "    pattern = re.compile(pattern)\n",
    "\n",
    "    # buscamos coincidencias\n",
    "    matches = df[df[column].str.contains(pattern, na=False)]\n",
    "\n",
    "    if not matches.empty:\n",
    "        # mostramos ejemplo antes\n",
    "        idx = matches.index[0]\n",
    "        print(f\"Ejemplo antes ({pattern_name}):\")\n",
    "        print(df.loc[idx, column])\n",
    "\n",
    "        # limpiamos\n",
    "        df[column] = df[column].apply(lambda x: re.sub(pattern, replacement, str(x)))\n",
    "\n",
    "        # mostramos ejemplo después\n",
    "        print(f\"Ejemplo después de eliminar {pattern_name}:\")\n",
    "        print(df.loc[idx, column])\n",
    "        print(\"─────────────────────────────────────────────\\n\")\n",
    "    else:\n",
    "        print(f\"No se encontraron ejemplos con {pattern_name}.\\n\")"
   ]
  },
  {
   "cell_type": "markdown",
   "id": "pC1E6DVzs9oV",
   "metadata": {
    "id": "pC1E6DVzs9oV"
   },
   "source": [
    "### 1. Eliminar menciones (@), hashtags (#), o código HTML."
   ]
  },
  {
   "cell_type": "code",
   "execution_count": 14,
   "id": "YODDpTKvFPM9",
   "metadata": {
    "colab": {
     "base_uri": "https://localhost:8080/"
    },
    "executionInfo": {
     "elapsed": 20964,
     "status": "ok",
     "timestamp": 1744122594815,
     "user": {
      "displayName": "Pato PatoPato",
      "userId": "05389761250347138911"
     },
     "user_tz": -120
    },
    "id": "YODDpTKvFPM9",
    "outputId": "7f3f2ca8-1f97-4b38-e183-e2bdd95f6cf8"
   },
   "outputs": [
    {
     "name": "stdout",
     "output_type": "stream",
     "text": [
      "Ejemplo antes (mención):\n",
      "I first encountered Bob Kane's skill with the daedal discipline of free will in his book *The Significance of Free Will.* At that time, I realized that Kane had an almost suspicious talent for articulating my own objections, and then articulating a response that would often satisfy me more than my own.While such a talent may be a bit threatening for readers aiming to claim their own victories, Kane's affability and enthusiasm always leave the reader not only with the necessary knowledge, but with a sense of pride in having participated in his well-authenticated jaunts.This work, in particular, highlights Kane's skills as both an original author and an editor with an honest eye for the best arguments of his opponents. It will certainly become a staple, if it has not already, for professional scholars of free will and curious by-standers alike. The *Oxford Handbook of Free Will* draws together balanced selections from the most relevant authors in the field, and-despite its depth-manages to cover a range broad enough that the book would be equally well placed on the shelves of theologians, philosophers, and physicians.My main criticism is that the compilation elides some selections that, to me, seem indispensable. Then again, such a problem *should* be inevitable for a field as factious as free will, and is blunted by Kane's need to balance his equations.The Oxford group has again demonstrated their wisdom in selecting Kane as the editor of this volume. Compared to its competitors in the prosy pantheon of free-will texts, this selection will leave you energized to gnaw through the next puzzle (rather than feeling deflated by the fact that there remain more arguments to be broached).-Christian P. Erickson, M.D.christianerickson@alumni.duke.edu\n",
      "Ejemplo después de eliminar mención:\n",
      "I first encountered Bob Kane's skill with the daedal discipline of free will in his book *The Significance of Free Will.* At that time, I realized that Kane had an almost suspicious talent for articulating my own objections, and then articulating a response that would often satisfy me more than my own.While such a talent may be a bit threatening for readers aiming to claim their own victories, Kane's affability and enthusiasm always leave the reader not only with the necessary knowledge, but with a sense of pride in having participated in his well-authenticated jaunts.This work, in particular, highlights Kane's skills as both an original author and an editor with an honest eye for the best arguments of his opponents. It will certainly become a staple, if it has not already, for professional scholars of free will and curious by-standers alike. The *Oxford Handbook of Free Will* draws together balanced selections from the most relevant authors in the field, and-despite its depth-manages to cover a range broad enough that the book would be equally well placed on the shelves of theologians, philosophers, and physicians.My main criticism is that the compilation elides some selections that, to me, seem indispensable. Then again, such a problem *should* be inevitable for a field as factious as free will, and is blunted by Kane's need to balance his equations.The Oxford group has again demonstrated their wisdom in selecting Kane as the editor of this volume. Compared to its competitors in the prosy pantheon of free-will texts, this selection will leave you energized to gnaw through the next puzzle (rather than feeling deflated by the fact that there remain more arguments to be broached).-Christian P. Erickson, M.D.christianerickson.duke.edu\n",
      "─────────────────────────────────────────────\n",
      "\n",
      "Ejemplo antes (hashtag):\n",
      "Wondering what the hell has happened to the moral aspect of modern American culture ? This book is a lucid, well argued explanation of the simple fact that we have become so totally focused on our individual RIGHTS that we have completely ignored, and even mocked, our personal and public responsibilities. The final response and indictment of Robert Ringer's best seller, LOOKING OUT FOR #1. This is a great time for anyone who is disgusted with the boorish state of American media, politics and discourse in general, to clear their heads for the substantial challenges that lie before us not only as Americans, but as human beings. A great book\n",
      "Ejemplo después de eliminar hashtag:\n",
      "Wondering what the hell has happened to the moral aspect of modern American culture ? This book is a lucid, well argued explanation of the simple fact that we have become so totally focused on our individual RIGHTS that we have completely ignored, and even mocked, our personal and public responsibilities. The final response and indictment of Robert Ringer's best seller, LOOKING OUT FOR . This is a great time for anyone who is disgusted with the boorish state of American media, politics and discourse in general, to clear their heads for the substantial challenges that lie before us not only as Americans, but as human beings. A great book\n",
      "─────────────────────────────────────────────\n",
      "\n",
      "No se encontraron ejemplos con HTML.\n",
      "\n"
     ]
    }
   ],
   "source": [
    "show_and_clean(\"mención\", r'@\\w+', df) \n",
    "show_and_clean(\"hashtag\", r'#\\w+', df)\n",
    "show_and_clean(\"HTML\", r'<.*?>', df)"
   ]
  },
  {
   "cell_type": "markdown",
   "id": "v0ieiP4FtTCl",
   "metadata": {
    "id": "v0ieiP4FtTCl"
   },
   "source": [
    "### Paso adicional: eliminar direcciones de correo\n",
    "\n",
    "En el paso anterior pudimos comprobar que había una direccion de correo elecronico, esto no aporta valor a nuestro modelo así que podemos eliminarlos también\n",
    "\n",
    "A continuación eliminaremos dominios y direcciones de correo"
   ]
  },
  {
   "cell_type": "code",
   "execution_count": 15,
   "id": "47DbU1A0JkhQ",
   "metadata": {
    "colab": {
     "base_uri": "https://localhost:8080/"
    },
    "executionInfo": {
     "elapsed": 305521,
     "status": "ok",
     "timestamp": 1744122901316,
     "user": {
      "displayName": "Pato PatoPato",
      "userId": "05389761250347138911"
     },
     "user_tz": -120
    },
    "id": "47DbU1A0JkhQ",
    "outputId": "1f70f1bd-17e6-412c-f44d-ee7e395feffe"
   },
   "outputs": [
    {
     "name": "stderr",
     "output_type": "stream",
     "text": [
      "/var/folders/x8/8kqsdc8s6txfbp4y2y7hk8br0000gn/T/ipykernel_1134/3839851707.py:11: UserWarning: This pattern is interpreted as a regular expression, and has match groups. To actually get the groups, use str.extract.\n",
      "  matches = df[df[column].str.contains(pattern, na=False)]\n"
     ]
    },
    {
     "name": "stdout",
     "output_type": "stream",
     "text": [
      "Ejemplo antes (dominios):\n",
      "I first encountered Bob Kane's skill with the daedal discipline of free will in his book *The Significance of Free Will.* At that time, I realized that Kane had an almost suspicious talent for articulating my own objections, and then articulating a response that would often satisfy me more than my own.While such a talent may be a bit threatening for readers aiming to claim their own victories, Kane's affability and enthusiasm always leave the reader not only with the necessary knowledge, but with a sense of pride in having participated in his well-authenticated jaunts.This work, in particular, highlights Kane's skills as both an original author and an editor with an honest eye for the best arguments of his opponents. It will certainly become a staple, if it has not already, for professional scholars of free will and curious by-standers alike. The *Oxford Handbook of Free Will* draws together balanced selections from the most relevant authors in the field, and-despite its depth-manages to cover a range broad enough that the book would be equally well placed on the shelves of theologians, philosophers, and physicians.My main criticism is that the compilation elides some selections that, to me, seem indispensable. Then again, such a problem *should* be inevitable for a field as factious as free will, and is blunted by Kane's need to balance his equations.The Oxford group has again demonstrated their wisdom in selecting Kane as the editor of this volume. Compared to its competitors in the prosy pantheon of free-will texts, this selection will leave you energized to gnaw through the next puzzle (rather than feeling deflated by the fact that there remain more arguments to be broached).-Christian P. Erickson, M.D.christianerickson.duke.edu\n",
      "Ejemplo después de eliminar dominios:\n",
      "I first encountered Bob Kane's skill with the daedal discipline of free will in his book *The Significance of Free Will.* At that time, I realized that Kane had an almost suspicious talent for articulating my own objections, and then articulating a response that would often satisfy me more than my own.While such a talent may be a bit threatening for readers aiming to claim their own victories, Kane's affability and enthusiasm always leave the reader not only with the necessary knowledge, but with a sense of pride in having participated in his well-authenticated jaunts.This work, in particular, highlights Kane's skills as both an original author and an editor with an honest eye for the best arguments of his opponents. It will certainly become a staple, if it has not already, for professional scholars of free will and curious by-standers alike. The *Oxford Handbook of Free Will* draws together balanced selections from the most relevant authors in the field, and-despite its depth-manages to cover a range broad enough that the book would be equally well placed on the shelves of theologians, philosophers, and physicians.My main criticism is that the compilation elides some selections that, to me, seem indispensable. Then again, such a problem *should* be inevitable for a field as factious as free will, and is blunted by Kane's need to balance his equations.The Oxford group has again demonstrated their wisdom in selecting Kane as the editor of this volume. Compared to its competitors in the prosy pantheon of free-will texts, this selection will leave you energized to gnaw through the next puzzle (rather than feeling deflated by the fact that there remain more arguments to be broached).-Christian P. Erickson, \n",
      "─────────────────────────────────────────────\n",
      "\n",
      "Ejemplo antes (direcciones de correo):\n",
      "As someone who has watched with dismay as rich Yuppies searching for the ultimate `edge' adventure have been allowed to buy their way into the \"Everest experience\", I was quite interested in this personal account by one such adventurer lucky enough to survive one of the most disastrous accidents on the mountain. Based on her narrative, my own conclusion was that most of them simply had no business being that high on a mountain like Everest where there is no room for error, no forgiveness shown, and no way out once things go awry. Still, this young woman is an interesting combination of gung-ho enthusiasm and thoughtful consideration, although one wonders if she had a potential book deal in mind when she bought her way into the \"adventure' in the first place. After all, there are a lot of sister women out there willing to buy into this pseudo-\"bought and paid for adventure experience\" nonsense. Of all things, this book reminds me of the recent pseudo-adventure memoir by Jon Katz, \"Running To The Mountain\". At least Jon had the sense to leave the crampons home and settle for a broken down cabin to repair in the Adirondacks.There seem to be two schools of thought in the reviews for this book. The first seems to be a single-minded endorsement of the experience full of the \"yahoo!\" Nike-like \"just do it\" credo that such hardy denizens of faux-macho tri-athletic events and celebrators of philosophies of personal punishment parading as self-discovery are wont to believe. I trust all of these ardent adventurers have never been to war, and come from backgrounds of affluence and comfort. The search for \"edge experience\" appear to be drowning in pools of pathetic self-absorption and petulant self-importance, as these otherwise safe and banal souls seem desperate for the ultimate experience like author Stephen Crane's fabled \"Red Badge Of Courage\". Why not just get somebody to take potshots at you? In this sense it seems more an expression of an immature inchoate longing for validation as a worthwhile adult than a native yearn for adventure. Of course, there are exceptions, and as far as I am concerned the author of the book may be one, given her own careful consideration of the risks and the care with which she approached the whole venture.The other predominant school of criticism seems to enthusiastically denigrate the way in which such foolhardy amateurs have deliberately endangered both themselves and their Expedition colleagues by venturing into realms they have no business climbing into. It isn't a coincidence that most of the people expressing these views seem to be both older and more experienced. Those of us who have been deliberately shot at by other human beings who meant us malice and harm rarely find a need to express our sense of adventure afterward. Life has already shown us that aspect of existence, and driving in traffic provides all of the elements of risk taking without any need to backpack into the rugged interior of Nepal. Still, as someone always fascinated by mountaineering and rock climbing, I hail those with the yearning and the willingness to experience their own innate curiosity by venturing up the slope and through the craggy precipices in search of whatever demons as propel them there.My real problem with the book is that like many other such well-organized contrived commercial pseudo-adventures, it allows the wealthy amateurs who can buy into the expedition to stand in the shadows of titans like Tenzing, Hilary, Mallory and Irving who sometimes struggled and even crawled toward the heights with their own hands and feet, often carrying their own provisions, quite unlike these pampered affluent \"clients\" who expect to be deferred to and helped by their \"guides\", and who seem to expect to be given the experience of reaching the pinnacle on the virtual backs of others because they have \"paid for it\". Such ideas and expectations not only vulgarize the quest for excellence into a craven management slogan but also give adventurers a bad name. In that sense, let the disaster on Everest give fair warning. When all else is said and done, man is still just an inconsequential visitor to the roof of the world, an intruder perilously perched on the quicksilver hope for good luck and good weather, and no one is safe if and when Mother Nature suddenly turns [ugly]. Enjoy!\n",
      "Ejemplo después de eliminar direcciones de correo:\n",
      "As someone who has watched with dismay as rich Yuppies searching for the ultimate `edge' adventure have been allowed to buy their way into the \"Everest experience\", I was quite interested in this personal account by one such adventurer lucky enough to survive one of the most disastrous accidents on the mountain. Based on her narrative, my own conclusion was that most of them simply had no business being that high on a mountain like Everest where there is no room for error, no forgiveness shown, and no way out once things go awry. Still, this young woman is an interesting combination of gung-ho enthusiasm and thoughtful consideration, although one wonders if she had a potential book deal in mind when she bought her way into the \"adventure' in the first place. After all, there are a lot of sister women out there willing to buy into this pseudo-\"bought and paid for adventure experience\" nonsense. Of all things, this book reminds me of the recent pseudo-adventure memoir by Jon Katz, \"Running To The Mountain\". At least Jon had the sense to leave the crampons home and settle for a broken down cabin to repair in the Adirondacks.There seem to be two schools of thought in the reviews for this book. The first seems to be a single-minded endorsement of the experience full of the \"!\" Nike-like \"just do it\" credo that such hardy denizens of faux-macho tri-athletic events and celebrators of philosophies of personal punishment parading as self-discovery are wont to believe. I trust all of these ardent adventurers have never been to war, and come from backgrounds of affluence and comfort. The search for \"edge experience\" appear to be drowning in pools of pathetic self-absorption and petulant self-importance, as these otherwise safe and banal souls seem desperate for the ultimate experience like author Stephen Crane's fabled \"Red Badge Of Courage\". Why not just get somebody to take potshots at you? In this sense it seems more an expression of an immature inchoate longing for validation as a worthwhile adult than a native yearn for adventure. Of course, there are exceptions, and as far as I am concerned the author of the book may be one, given her own careful consideration of the risks and the care with which she approached the whole venture.The other predominant school of criticism seems to enthusiastically denigrate the way in which such foolhardy amateurs have deliberately endangered both themselves and their Expedition colleagues by venturing into realms they have no business climbing into. It isn't a coincidence that most of the people expressing these views seem to be both older and more experienced. Those of us who have been deliberately shot at by other human beings who meant us malice and harm rarely find a need to express our sense of adventure afterward. Life has already shown us that aspect of existence, and driving in traffic provides all of the elements of risk taking without any need to backpack into the rugged interior of Nepal. Still, as someone always fascinated by mountaineering and rock climbing, I hail those with the yearning and the willingness to experience their own innate curiosity by venturing up the slope and through the craggy precipices in search of whatever demons as propel them there.My real problem with the book is that like many other such well-organized contrived commercial pseudo-adventures, it allows the wealthy amateurs who can buy into the expedition to stand in the shadows of titans like Tenzing, Hilary, Mallory and Irving who sometimes struggled and even crawled toward the heights with their own hands and feet, often carrying their own provisions, quite unlike these pampered affluent \"clients\" who expect to be deferred to and helped by their \"guides\", and who seem to expect to be given the experience of reaching the pinnacle on the virtual backs of others because they have \"paid for it\". Such ideas and expectations not only vulgarize the quest for excellence into a craven management slogan but also give adventurers a bad name. In that sense, let the disaster on Everest give fair warning. When all else is said and done, man is still just an inconsequential visitor to the roof of the world, an intruder perilously perched on the quicksilver hope for good luck and good weather, and no one is safe if and when Mother Nature suddenly turns [ugly]. Enjoy!\n",
      "─────────────────────────────────────────────\n",
      "\n"
     ]
    }
   ],
   "source": [
    "show_and_clean(\"dominios\", r'\\S*\\.(com|net|org|es|co|edu|gov)\\b', df)\n",
    "show_and_clean(\"direcciones de correo\", r'\\b\\S*(gmail|hotmail|yahoo)\\S*\\b', df)"
   ]
  },
  {
   "cell_type": "markdown",
   "id": "4dGThmrgtAj4",
   "metadata": {
    "id": "4dGThmrgtAj4"
   },
   "source": [
    "### 2. Eliminar páginas web"
   ]
  },
  {
   "cell_type": "code",
   "execution_count": 16,
   "id": "h0Dvm5TMzxpB",
   "metadata": {
    "colab": {
     "base_uri": "https://localhost:8080/"
    },
    "executionInfo": {
     "elapsed": 3757,
     "status": "ok",
     "timestamp": 1744123178203,
     "user": {
      "displayName": "Pato PatoPato",
      "userId": "05389761250347138911"
     },
     "user_tz": -120
    },
    "id": "h0Dvm5TMzxpB",
    "outputId": "e2079991-d246-4651-c1de-20090d014122"
   },
   "outputs": [
    {
     "name": "stdout",
     "output_type": "stream",
     "text": [
      "Ejemplo antes (paginas web):\n",
      "this is the story of what happened to one little boy,who was kidnapped from a loving family in the Sudan, and forced to become a slave at age seven. He remained a slave, untill he finally escpaed ten years later.It did not happen hundreds of years ago. It happenned thirteen years ago.Its written in a gentle voice, but one that conveys the tragedy well.It NEEDS to be read, NOW.Please, if you are a human being, and feel that slavery is wrong and kidnapping is wrong, then read this.I have also been going through the website that Francis Bok is attached to and am learning a great dealhttp://www.iabolish.comDear Francis Bok, if youre reading this&gt; youre a good man and a tribute to the human spirit. A good son.\n",
      "Ejemplo después de eliminar paginas web:\n",
      "this is the story of what happened to one little boy,who was kidnapped from a loving family in the Sudan, and forced to become a slave at age seven. He remained a slave, untill he finally escpaed ten years later.It did not happen hundreds of years ago. It happenned thirteen years ago.Its written in a gentle voice, but one that conveys the tragedy well.It NEEDS to be read, NOW.Please, if you are a human being, and feel that slavery is wrong and kidnapping is wrong, then read this.I have also been going through the website that Francis Bok is attached to and am learning a great deal Francis Bok, if youre reading this&gt; youre a good man and a tribute to the human spirit. A good son.\n",
      "─────────────────────────────────────────────\n",
      "\n"
     ]
    }
   ],
   "source": [
    "show_and_clean(\"paginas web\", r'http[s]?://\\S+', df)"
   ]
  },
  {
   "cell_type": "markdown",
   "id": "m4G0pK9_tBWU",
   "metadata": {
    "id": "m4G0pK9_tBWU"
   },
   "source": [
    "### 3. Corregir palabras mal escritas (las que resalten en el corpus)"
   ]
  },
  {
   "cell_type": "code",
   "execution_count": null,
   "id": "054f2c70",
   "metadata": {},
   "outputs": [
    {
     "name": "stderr",
     "output_type": "stream",
     "text": [
      "100%|██████████| 10000/10000 [49:17<00:00,  3.38it/s]  \n"
     ]
    }
   ],
   "source": [
    "# Inicializar spellchecker\n",
    "spell = SpellChecker()\n",
    "\n",
    "# Asegurar que tqdm funcione bien con pandas apply\n",
    "tqdm.pandas()\n",
    "\n",
    "# Función que corrige palabra por palabra conservando puntuación\n",
    "def correct_spelling_with_punctuation(text):\n",
    "    # Separar palabras y puntuación\n",
    "    words = re.findall(r'\\w+|[^\\w\\s]', text, re.UNICODE)\n",
    "    corrected = []\n",
    "\n",
    "    for word in words:\n",
    "        if word.isalpha():\n",
    "            corrected_word = spell.correction(word)\n",
    "            corrected.append(corrected_word if corrected_word else word)\n",
    "        else:\n",
    "            corrected.append(word)\n",
    "\n",
    "    # Reconstruir el texto\n",
    "    return ' '.join(corrected).replace(\" .\", \".\")\n",
    "\n",
    "# Aplicar corrección con barra de progreso\n",
    "df['text'] = df['text'].progress_apply(correct_spelling_with_punctuation)\n"
   ]
  },
  {
   "cell_type": "code",
   "execution_count": 30,
   "id": "4788a571",
   "metadata": {},
   "outputs": [
    {
     "name": "stdout",
     "output_type": "stream",
     "text": [
      "Original: good material. I like the concept of the study. Might not change your life, but might change your way of thinking\n",
      "Corregido: good material. I like the concept of the study. Might not change your life , but might change your way of thinking\n",
      "─────────────────────────────\n",
      "Original: Generations of solid state physics students, including myself, have been brought up using this text by Kittel. I have also taught from this text numerous times. Poor, poor students! The text \"contains\" all the requisite material, but its explanations are murky and it it slips major concepts by without making them clear. I have resolved never again to make my students suffer with this text. Ashcroft & Mermin is wonderful book, but too advance as an introductory text. Bube's little book, Electrons in Solids, is a delight but too expensive for students and a little bit too elementary. Despite their limitations, I'm going to use the combination of those from now on.\n",
      "Corregido: Generations of solid state physics students , including myself , have been brought up using this text by kitten. I have also taught from this text numerous times. Poor , poor students ! The text \" contains \" all the requisite material , but its explanations are murky and it it slips major concepts by without making them clear. I have resolved never again to make my students suffer with this text. Ashcroft & vermin is wonderful book , but too advance as an introductory text. tube ' s little book , Electrons in Solids , is a delight but too expensive for students and a little bit too elementary. Despite their limitations , I ' m going to use the combination of those from now on.\n",
      "─────────────────────────────\n",
      "Original: First off when I bought this book I had a lot of high hopes for it but upon reading it I found it to be way to water down for me to like it. First it brings up in candle magic how the view point of black as being evl? Okay black candles (not people) can be used for 'negative' work but than she spouts of with it being racist to say this. She also attacke Austin Powers about the mojo comment (can you imagine that a piece of fiction and a comedy to boot). You can't take everything so serriously and expect other people to take you serrious.Also I didn't like how she used certian roots that were actually more used for women attracting men like queen elzibeth's root john the conquerer root can also be used to attract women not just to attract luck. Not to mention after reading this book I felt she had this reverse sexism going on. For example in one passage in women comming of age she brings up how women are all special blah blah blah, than the next passage about men comming of age it was almost completely ignorant. It almost seemed to me like she thought of men as complete dogs.Also most of her recipes seemed completely stripped and although I am new to Hoodoo and in fact learning as I go I will not use anything Lewellan has to offer. I will just have to wait untill the Hoodoo Herb And Root Magic comes instead of trying to learn a form of hoodoo that I didn't want to learn in the first place.\n",
      "Corregido: First off when I bought this book I had a lot of high hopes for it but upon reading it I found it to be way to water down for me to like it. First it brings up in candle magic how the view point of black as being evil ? Okay black candles ( not people ) can be used for ' negative ' work but than she spouts of with it being racist to say this. She also attack Austin Powers about the mojo comment ( can you imagine that a piece of fiction and a comedy to boot ). You can ' t take everything so seriously and expect other people to take you serious. Also I did ' t like how she used certain roots that were actually more used for women attracting men like queen elizabeth ' s root john the conquerer root can also be used to attract women not just to attract luck. Not to mention after reading this book I felt she had this reverse sexism going on. For example in one passage in women coming of age she brings up how women are all special blah blah blah , than the next passage about men coming of age it was almost completely ignorant. It almost seemed to me like she thought of men as complete dogs. Also most of her recipes seemed completely stripped and although I am new to Hoodoo and in fact learning as I go I will not use anything llewellyn has to offer. I will just have to wait until the Hoodoo Herb And Root Magic comes instead of trying to learn a form of hoodoo that I did ' t want to learn in the first place.\n",
      "─────────────────────────────\n",
      "Original: This book received such great reviews, but I found it incredibly boring. Particularly because every story followed the same format, and there were no \"rules\" to his universe.Basic story outline:Protagonists: \"Let's go visit planet ABC!\"King of ABC: \"I have a problem you need to solve, it might be considered a riddle!\"Protagonists: \"We'll just create a machine to do it, because we can build machines that can do absolutely anything!\"King of ABC: \"Alas, you have outsmarted me!\"Protagonists: \"That was troubling! Let's not go to ABC again!\"If you can create a machine that can do anything, then basically the machine and its creator are basically gods, and therefore there will be nothing interesting in their stories. There is no conflict worth telling a story about when everything can be solved by the snap of a finger.Furthermore, even though the stories are about robots and space travel, this book is NOT science fiction, it's just space fantasy. The stories seem like they were written by someone with just a passing understanding of science. Granted, you have to take Lem's time era into consideration, but the pulp magazines of early last century did a much better job of creating stories about future technology.You could replace Lem's robots with summoned demons and his space ship with a horse and the story would not change, because there are zero rules in his universe, and that is an incredibly unforgiving fault.\n",
      "Corregido: This book received such great reviews , but I found it incredibly boring. Particularly because every story followed the same format , and there were no \" rules \" to his universe. Basic story outline : Protagonists : \" Let ' s go visit planet arc ! \" King of arc : \" I have a problem you need to solve , it might be considered a riddle ! \" Protagonists : \" We ' all just create a machine to do it , because we can build machines that can do absolutely anything ! \" King of arc : \" Alas , you have outsmarted me ! \" Protagonists : \" That was troubling ! Let ' s not go to arc again ! \" If you can create a machine that can do anything , then basically the machine and its creator are basically gods , and therefore there will be nothing interesting in their stories. There is no conflict worth telling a story about when everything can be solved by the snap of a finger. Furthermore , even though the stories are about robots and space travel , this book is NOT science fiction , it ' s just space fantasy. The stories seem like they were written by someone with just a passing understanding of science. Granted , you have to take Lem ' s time era into consideration , but the pulp magazines of early last century did a much better job of creating stories about future technology. You could replace Lem ' s robots with summoned demons and his space ship with a horse and the story would not change , because there are zero rules in his universe , and that is an incredibly unforgiving fault.\n",
      "─────────────────────────────\n",
      "Original: I am fascinated by the Amish and read every book on this topic I can getmy hands on. I did not finish \"Leaving Lancaster County\". The typos,misused words, and bad sentence structure were just more than I could take. Anyone want to read it????You can have my copy for free!!Judy W\n",
      "Corregido: I am fascinated by the Amish and read every book on this topic I can germy hands on. I did not finish \" Leaving Lancaster County \". The typos , misused words , and bad sentence structure were just more than I could take. Anyone want to read it ? ? ? ? You can have my copy for free ! ! Judy W\n",
      "─────────────────────────────\n"
     ]
    }
   ],
   "source": [
    "for i, row in df[['review/text', 'text']].head(5).iterrows():\n",
    "    print(f\"Original: {row['review/text']}\")\n",
    "    print(f\"Corregido: {row['text']}\")\n",
    "    print(\"─────────────────────────────\")"
   ]
  },
  {
   "cell_type": "markdown",
   "id": "v457X2mz6Cen",
   "metadata": {
    "id": "v457X2mz6Cen"
   },
   "source": [
    "### 4. Eliminar duplicados"
   ]
  },
  {
   "cell_type": "code",
   "execution_count": 31,
   "id": "w50oRAaH8KIR",
   "metadata": {
    "colab": {
     "base_uri": "https://localhost:8080/"
    },
    "executionInfo": {
     "elapsed": 1994,
     "status": "ok",
     "timestamp": 1744125028827,
     "user": {
      "displayName": "Pato PatoPato",
      "userId": "05389761250347138911"
     },
     "user_tz": -120
    },
    "id": "w50oRAaH8KIR",
    "outputId": "4c94b4a1-a6f1-4c87-ec5e-abe4443224e7"
   },
   "outputs": [
    {
     "name": "stdout",
     "output_type": "stream",
     "text": [
      "texto duplicado\n",
      "mob Dick is a classic.... a book that you ' d have to have lived in a cave on a remote island for your entire life to have not at least heard the name of. The book has sat on my bookshelf , as part of a series of classic novels I had been given , for some time now. I always knew that ' someday ' I ' d open it and read it... being one of those ' I really should read it at some point ' books. Apparently I enjoyed this book a lot less than many others who have read it and reviewed it here.... because I have to admit that it is one of the most dry , turgid , tedious experiences I have ever had to wade through this book , and it ' s under 500 pages long. Perhaps what deterred me from enjoying it was the endless chapters that provide detailed descriptions of the size of a whale ' s head.... or the length of a whale ' s tail.... or the distance from a whale ' s head to its tail..... chapter upon chapter upon chapter that did nothing to move the story along , did nothing to flesh out the characters any better.. and did nothing to hold my interest. While the book is filled with interesting characters , the infamous Captain Ahab , the strange and curious Queequeg , the immortal ' Ishmael ' who provides the narrative of the story , and who seemed , upon reading his story of life upon the pequot , more like a clumsy , giddy little schoolgirl working on a fishing boat than an ' able bodied seaman '. The cast of characters alone could have been far more interesting , at least to me , to explore than the wrapt appraisal of a whale ' s jawbone.... and left me feeling as though I was reading a non - fiction work entitled ' Everything you ' all never need to know about whales '. ' Call me Ishmael ' may start off what for some is their favorite written work of all time. Call ME bored..... and unable to really recommend this to anyone other than someone who for some reason really desires to know more about the anatomy of a whale.\n",
      "\n",
      "Filas que lo contienen:\n",
      "                                                   text\n",
      "708   mob Dick is a classic.... a book that you ' d ...\n",
      "2922  mob Dick is a classic.... a book that you ' d ...\n",
      "5306  mob Dick is a classic.... a book that you ' d ...\n"
     ]
    }
   ],
   "source": [
    "# contar cuántas veces aparece cada texto\n",
    "conteos = df['text'].value_counts()\n",
    "\n",
    "# textos que aparecen más de una vez\n",
    "duplicados_reales = conteos[conteos > 1]\n",
    "\n",
    "if not duplicados_reales.empty:\n",
    "    # seleccionar uno como ej\n",
    "    texto = duplicados_reales.index[0]\n",
    "\n",
    "    print('texto duplicado')\n",
    "    print(texto)\n",
    "\n",
    "    print('\\nFilas que lo contienen:')\n",
    "    print(df[df['text'] == texto][['text']])"
   ]
  },
  {
   "cell_type": "code",
   "execution_count": 32,
   "id": "vEja-kPr6FLh",
   "metadata": {
    "colab": {
     "base_uri": "https://localhost:8080/"
    },
    "executionInfo": {
     "elapsed": 2078,
     "status": "ok",
     "timestamp": 1744125081448,
     "user": {
      "displayName": "Pato PatoPato",
      "userId": "05389761250347138911"
     },
     "user_tz": -120
    },
    "id": "vEja-kPr6FLh",
    "outputId": "9667e95b-56de-4d3a-9976-5f3895aaff15"
   },
   "outputs": [
    {
     "name": "stdout",
     "output_type": "stream",
     "text": [
      "nº de registros antes de eliminar duplicados: 10000\n",
      "nº de registros despues de eliminar duplicados: 9919\n"
     ]
    }
   ],
   "source": [
    "print('nº de registros antes de eliminar duplicados:', len(df))\n",
    "df = df.drop_duplicates(subset='text', keep='first')\n",
    "print('nº de registros despues de eliminar duplicados:', len(df))"
   ]
  },
  {
   "cell_type": "markdown",
   "id": "LmjDDcAn_nKR",
   "metadata": {
    "id": "LmjDDcAn_nKR"
   },
   "source": [
    "### 5. Contracciones"
   ]
  },
  {
   "cell_type": "code",
   "execution_count": 33,
   "id": "YeYpUnAj_our",
   "metadata": {
    "colab": {
     "base_uri": "https://localhost:8080/",
     "height": 356
    },
    "executionInfo": {
     "elapsed": 53225,
     "status": "error",
     "timestamp": 1744125819005,
     "user": {
      "displayName": "Pato PatoPato",
      "userId": "05389761250347138911"
     },
     "user_tz": -120
    },
    "id": "YeYpUnAj_our",
    "outputId": "44449c1f-01b1-4799-cf17-c326cbd9253c"
   },
   "outputs": [
    {
     "name": "stderr",
     "output_type": "stream",
     "text": [
      "/var/folders/x8/8kqsdc8s6txfbp4y2y7hk8br0000gn/T/ipykernel_4966/218569697.py:5: SettingWithCopyWarning: \n",
      "A value is trying to be set on a copy of a slice from a DataFrame.\n",
      "Try using .loc[row_indexer,col_indexer] = value instead\n",
      "\n",
      "See the caveats in the documentation: https://pandas.pydata.org/pandas-docs/stable/user_guide/indexing.html#returning-a-view-versus-a-copy\n",
      "  df['text'] = df['text'].apply(expand_contractions)\n"
     ]
    }
   ],
   "source": [
    "def expand_contractions(text):\n",
    "    return contractions.fix(text)\n",
    "\n",
    "# Aplicar expansión de contracciones\n",
    "df['text'] = df['text'].apply(expand_contractions)"
   ]
  },
  {
   "cell_type": "code",
   "execution_count": 34,
   "id": "1Z4ukPUl_6WR",
   "metadata": {
    "colab": {
     "base_uri": "https://localhost:8080/"
    },
    "executionInfo": {
     "elapsed": 21,
     "status": "ok",
     "timestamp": 1744125821287,
     "user": {
      "displayName": "Pato PatoPato",
      "userId": "05389761250347138911"
     },
     "user_tz": -120
    },
    "id": "1Z4ukPUl_6WR",
    "outputId": "8de5737b-cc9e-4e8c-aee9-02c199ee838e"
   },
   "outputs": [
    {
     "name": "stdout",
     "output_type": "stream",
     "text": [
      "Ejemplo de texto antes de la corrección: I wouldn't recommend this book because it didn't meet my expectations. It's not what I thought it'd be.\n",
      "Ejemplo de texto después de la corrección: I would not recommend this book because it did not meet my expectations. It is not what I thought it would be.\n"
     ]
    }
   ],
   "source": [
    "a = \"I wouldn't recommend this book because it didn't meet my expectations. It's not what I thought it'd be.\"\n",
    "b = expand_contractions(a)\n",
    "print('Ejemplo de texto antes de la corrección:', a)\n",
    "print('Ejemplo de texto después de la corrección:', b)"
   ]
  },
  {
   "cell_type": "markdown",
   "id": "Ph67UQ2WAHPt",
   "metadata": {
    "id": "Ph67UQ2WAHPt"
   },
   "source": [
    "### 6. Tokens no alfabeticos"
   ]
  },
  {
   "cell_type": "code",
   "execution_count": 168,
   "id": "zmL3431MASmr",
   "metadata": {
    "colab": {
     "base_uri": "https://localhost:8080/",
     "height": 376
    },
    "executionInfo": {
     "elapsed": 51502,
     "status": "error",
     "timestamp": 1744126359266,
     "user": {
      "displayName": "Pato PatoPato",
      "userId": "05389761250347138911"
     },
     "user_tz": -120
    },
    "id": "zmL3431MASmr",
    "outputId": "6abc4d78-c79a-4653-ffc9-07034b5e6097"
   },
   "outputs": [
    {
     "name": "stdout",
     "output_type": "stream",
     "text": [
      "Original:\n",
      "I am fascinated by the Amish and read every book on this topic I can germy hands on. I did not finish \" Leaving Lancaster County \". The typos , misused words , and bad sentence structure were just more than I could take. Anyone want to read it ? ? ? ? You can have my copy for free ! ! Judy W\n",
      "Corregido:\n",
      "I am fascinated by the Amish and read every book on this topic I can germy hands on . I did not finish Leaving Lancaster County The typos misused words and bad sentence structure were just more than I could take . Anyone want to read it You can have my copy for free Judy W\n"
     ]
    }
   ],
   "source": [
    "print(\"Original:\")\n",
    "print(df.iloc[4]['text'])\n",
    "\n",
    "# compilamos la expresion para reducir el tiempo de ejecucion \n",
    "non_alpha_re = re.compile(r'[^a-zA-Z.]')\n",
    "\n",
    "def remove_non_alpha_tokens(text):\n",
    "    if not isinstance(text, str):\n",
    "        return \"\"\n",
    "\n",
    "    tokens = text.split()\n",
    "    cleaned_tokens = []\n",
    "\n",
    "    for token in tokens:\n",
    "        # Detectar si el token termina en punto\n",
    "        if token.endswith('.') and token[:-1].isalpha():\n",
    "            cleaned_tokens.append(token[:-1])   # palabra limpia\n",
    "            cleaned_tokens.append('.')          # mantener el punto separado\n",
    "        elif token.isalpha():\n",
    "            cleaned_tokens.append(token)\n",
    "        else:\n",
    "            # Limpiar otros símbolos\n",
    "            stripped = re.sub(r'[^a-zA-Z]', '', token)\n",
    "            if stripped.isalpha():\n",
    "                cleaned_tokens.append(stripped)\n",
    "\n",
    "    return ' '.join(cleaned_tokens)\n",
    "\n",
    "\n",
    "df['text'] = df['text'].apply(remove_non_alpha_tokens)#show_and_clean(\"espacios dobles\", r'\\s+', df)\n",
    "\n",
    "print(\"Corregido:\")\n",
    "print(df.iloc[4]['text'])"
   ]
  },
  {
   "cell_type": "markdown",
   "id": "31pU13aOBq7s",
   "metadata": {
    "id": "31pU13aOBq7s"
   },
   "source": [
    "### 7. Signos de Puntuacion (excepto el punto)"
   ]
  },
  {
   "cell_type": "code",
   "execution_count": 169,
   "id": "3f600254",
   "metadata": {},
   "outputs": [
    {
     "name": "stdout",
     "output_type": "stream",
     "text": [
      "Original:\n",
      "I am fascinated by the Amish and read every book on this topic I can germy hands on . I did not finish Leaving Lancaster County The typos misused words and bad sentence structure were just more than I could take . Anyone want to read it You can have my copy for free Judy W\n"
     ]
    }
   ],
   "source": [
    "print(\"Original:\")\n",
    "original = df['text'].iloc[4]\n",
    "print(original)"
   ]
  },
  {
   "cell_type": "code",
   "execution_count": 165,
   "id": "5985e376",
   "metadata": {},
   "outputs": [],
   "source": [
    "# Lista de signos que queremos eliminar (todos excepto el punto)\n",
    "signs_to_remove = set(string.punctuation.replace('.', ''))\n",
    "\n",
    "def remove_standalone_punctuation(text):\n",
    "    if not isinstance(text, str):\n",
    "        return \"\"\n",
    "\n",
    "    tokens = text.split()\n",
    "    cleaned = [token for token in tokens if token not in signs_to_remove]\n",
    "    return ' '.join(cleaned)\n",
    "\n",
    "\n",
    "df['text'] = df['text'].apply(remove_standalone_punctuation)\n"
   ]
  },
  {
   "cell_type": "code",
   "execution_count": 170,
   "id": "fabb5ec5",
   "metadata": {},
   "outputs": [
    {
     "name": "stdout",
     "output_type": "stream",
     "text": [
      "\n",
      "Corregido:\n",
      "I am fascinated by the Amish and read every book on this topic I can germy hands on . I did not finish Leaving Lancaster County The typos misused words and bad sentence structure were just more than I could take . Anyone want to read it You can have my copy for free Judy W\n"
     ]
    }
   ],
   "source": [
    "print(\"\\nCorregido:\")\n",
    "corrected = df['text'].iloc[4]\n",
    "print(corrected)"
   ]
  },
  {
   "cell_type": "markdown",
   "id": "d89e0ac6",
   "metadata": {},
   "source": [
    "### 8. Texto a minusculas"
   ]
  },
  {
   "cell_type": "code",
   "execution_count": 171,
   "id": "51f28f59",
   "metadata": {},
   "outputs": [
    {
     "name": "stdout",
     "output_type": "stream",
     "text": [
      "Original:\n",
      "What an awesome book So much detail and insight into the spirit world . It gives amazing hope for this life past lives and lives yet to come . The characters are so vibrant and intertwine in a captivating story\n"
     ]
    }
   ],
   "source": [
    "print(\"Original:\")\n",
    "original = df['text'].iloc[5]\n",
    "print(original)"
   ]
  },
  {
   "cell_type": "code",
   "execution_count": 172,
   "id": "402dfc51",
   "metadata": {},
   "outputs": [],
   "source": [
    "df['text'] = df['text'].fillna(\"\").str.lower()"
   ]
  },
  {
   "cell_type": "code",
   "execution_count": 173,
   "id": "240702ff",
   "metadata": {},
   "outputs": [
    {
     "name": "stdout",
     "output_type": "stream",
     "text": [
      "\n",
      "Corregido:\n",
      "what an awesome book so much detail and insight into the spirit world . it gives amazing hope for this life past lives and lives yet to come . the characters are so vibrant and intertwine in a captivating story\n"
     ]
    }
   ],
   "source": [
    "print(\"\\nCorregido:\")\n",
    "corrected = df['text'].iloc[5]\n",
    "print(corrected)"
   ]
  },
  {
   "cell_type": "code",
   "execution_count": 174,
   "id": "4cd2a952",
   "metadata": {},
   "outputs": [],
   "source": [
    "df.to_csv('df_preprocesado.csv', index=False)"
   ]
  },
  {
   "cell_type": "markdown",
   "id": "33f83519",
   "metadata": {},
   "source": [
    "Para tener una visión general del resultado de la limpieza del texto podemos comparar la columna original con la resultante de nuestro preprocesado:"
   ]
  },
  {
   "cell_type": "code",
   "execution_count": 189,
   "id": "a52b3cb7",
   "metadata": {},
   "outputs": [
    {
     "name": "stdout",
     "output_type": "stream",
     "text": [
      "good material. I like the concept of the study. Might not change your life, but might change your way of thinking\n",
      "good material . i like the concept of the study . might not change your life but might change your way of thinking \n",
      "\n",
      "Generations of solid state physics students, including myself, have been brought up using this text by Kittel. I have also taught from this text numerous times. Poor, poor students! The text \"contains\" all the requisite material, but its explanations are murky and it it slips major concepts by without making them clear. I have resolved never again to make my students suffer with this text. Ashcroft & Mermin is wonderful book, but too advance as an introductory text. Bube's little book, Electrons in Solids, is a delight but too expensive for students and a little bit too elementary. Despite their limitations, I'm going to use the combination of those from now on.\n",
      "generations of solid state physics students including myself have been brought up using this text by kitten . i have also taught from this text numerous times . poor poor students the text contains all the requisite material but its explanations are murky and it it slips major concepts by without making them clear . i have resolved never again to make my students suffer with this text . ashcroft vermin is wonderful book but too advance as an introductory text . tube s little book electrons in solids is a delight but too expensive for students and a little bit too elementary . despite their limitations i m going to use the combination of those from now on . \n",
      "\n",
      "First off when I bought this book I had a lot of high hopes for it but upon reading it I found it to be way to water down for me to like it. First it brings up in candle magic how the view point of black as being evl? Okay black candles (not people) can be used for 'negative' work but than she spouts of with it being racist to say this. She also attacke Austin Powers about the mojo comment (can you imagine that a piece of fiction and a comedy to boot). You can't take everything so serriously and expect other people to take you serrious.Also I didn't like how she used certian roots that were actually more used for women attracting men like queen elzibeth's root john the conquerer root can also be used to attract women not just to attract luck. Not to mention after reading this book I felt she had this reverse sexism going on. For example in one passage in women comming of age she brings up how women are all special blah blah blah, than the next passage about men comming of age it was almost completely ignorant. It almost seemed to me like she thought of men as complete dogs.Also most of her recipes seemed completely stripped and although I am new to Hoodoo and in fact learning as I go I will not use anything Lewellan has to offer. I will just have to wait untill the Hoodoo Herb And Root Magic comes instead of trying to learn a form of hoodoo that I didn't want to learn in the first place.\n",
      "first off when i bought this book i had a lot of high hopes for it but upon reading it i found it to be way to water down for me to like it . first it brings up in candle magic how the view point of black as being evil okay black candles not people can be used for negative work but than she spouts of with it being racist to say this . she also attack austin powers about the mojo comment can you imagine that a piece of fiction and a comedy to boot you can t take everything so seriously and expect other people to take you serious . also i did t like how she used certain roots that were actually more used for women attracting men like queen elizabeth s root john the conquerer root can also be used to attract women not just to attract luck . not to mention after reading this book i felt she had this reverse sexism going on . for example in one passage in women coming of age she brings up how women are all special blah blah blah than the next passage about men coming of age it was almost completely ignorant . it almost seemed to me like she thought of men as complete dogs . also most of her recipes seemed completely stripped and although i am new to hoodoo and in fact learning as i go i will not use anything llewellyn has to offer . i will just have to wait until the hoodoo herb and root magic comes instead of trying to learn a form of hoodoo that i did t want to learn in the first place . \n",
      "\n",
      "This book received such great reviews, but I found it incredibly boring. Particularly because every story followed the same format, and there were no \"rules\" to his universe.Basic story outline:Protagonists: \"Let's go visit planet ABC!\"King of ABC: \"I have a problem you need to solve, it might be considered a riddle!\"Protagonists: \"We'll just create a machine to do it, because we can build machines that can do absolutely anything!\"King of ABC: \"Alas, you have outsmarted me!\"Protagonists: \"That was troubling! Let's not go to ABC again!\"If you can create a machine that can do anything, then basically the machine and its creator are basically gods, and therefore there will be nothing interesting in their stories. There is no conflict worth telling a story about when everything can be solved by the snap of a finger.Furthermore, even though the stories are about robots and space travel, this book is NOT science fiction, it's just space fantasy. The stories seem like they were written by someone with just a passing understanding of science. Granted, you have to take Lem's time era into consideration, but the pulp magazines of early last century did a much better job of creating stories about future technology.You could replace Lem's robots with summoned demons and his space ship with a horse and the story would not change, because there are zero rules in his universe, and that is an incredibly unforgiving fault.\n",
      "this book received such great reviews but i found it incredibly boring . particularly because every story followed the same format and there were no rules to his universe . basic story outline protagonists let s go visit planet arc king of arc i have a problem you need to solve it might be considered a riddle protagonists we all just create a machine to do it because we can build machines that can do absolutely anything king of arc alas you have outsmarted me protagonists that was troubling let s not go to arc again if you can create a machine that can do anything then basically the machine and its creator are basically gods and therefore there will be nothing interesting in their stories . there is no conflict worth telling a story about when everything can be solved by the snap of a finger . furthermore even though the stories are about robots and space travel this book is not science fiction it s just space fantasy . the stories seem like they were written by someone with just a passing understanding of science . granted you have to take lem s time era into consideration but the pulp magazines of early last century did a much better job of creating stories about future technology . you could replace lem s robots with summoned demons and his space ship with a horse and the story would not change because there are zero rules in his universe and that is an incredibly unforgiving fault . \n",
      "\n",
      "I am fascinated by the Amish and read every book on this topic I can getmy hands on. I did not finish \"Leaving Lancaster County\". The typos,misused words, and bad sentence structure were just more than I could take. Anyone want to read it????You can have my copy for free!!Judy W\n",
      "i am fascinated by the amish and read every book on this topic i can germy hands on . i did not finish leaving lancaster county the typos misused words and bad sentence structure were just more than i could take . anyone want to read it you can have my copy for free judy w \n",
      "\n",
      "What an awesome book! So much detail and insight into the spirit world. It gives amazing hope for this life, past lives and lives yet to come. The characters are so vibrant and intertwine in a captivating story!\n",
      "what an awesome book so much detail and insight into the spirit world . it gives amazing hope for this life past lives and lives yet to come . the characters are so vibrant and intertwine in a captivating story \n",
      "\n",
      "Well, I don't usually bother typing up a review if it's not somewhat positive but...in this case I feel that some important points about this book need to be brought to light. This book represents the worst of a type of genre and was really, really disappointing.Robbins has obviously read other books such as Gleick's &quot;Chaos: Making a New Science&quot; and decided he could do something similar for biofeedback. Specifically, I think Robbins believed he could generate some hype and ride a &quot;wave&quot; of publicity for biofeedback. Unfortunately, Robbins &quot;pseudo-science&quot; book represents the worst of this genre and is not likely to help the cause of biofeedback.First, if you're going to write one of these books, you need a peppy title and this one has it. Second, you need to make your story sound scientific (although it is obvious you know nothing more than some terms) and finally you need to toss in some human controversy to make it more &quot;interesting&quot;. Well, Robbins has put them together in a way that would make it a simple cut-and-paste from the book to a newspaper.First, if you're going to do a book that popularizes a subject and want to talk about science then you need to do some reading to gain an basic understanding of the area. Certainly talking only to the self-proclaimed &quot;experts&quot; and taking their word as gospel is not the way to proceed; you need to be able to judge a bit for yourself.Well, Robbins appears to have talked to a few people and left his research at that. To start with, he continually mentions things like &quot;double blind studies&quot;. This debate has raged on for years in various fields and it is acknowledged that this paradigm creates a lot more problems than it solves in a similar fashion to the issues surrounding null-hypothesis analysis of statistics. Then there is the mixing of theories of how brainwaves are connected to thought as well as how the brain's structure is connected to thought.Worse still are his discussions about data collected from animal trials. It is apparent that there is a mentality that only reason animals exist is provide a good platform for studies; this is really rather sad. I cannot fathom why so few seem to acknowledge the debt we owe animals for the various tortures we have put them through; even more so I find it hard to believe that people still think this is the ONLY true &quot;scientific&quot; method available for studies.Ignoring these problems, one is still left to confront the fact that Robbins has taken such a breathtakingly thin skim of the material and people involved in biofeedback that it almost feels like the book is years older than its publishing date. A quick search on the internet produces many people within North America alone who are not even mentioned in Robbins' book. And that is really the root of the problem here.There are a number of practitioners out there who are not even mentioned in passing here. There is also a long history of biofeedback in Europe that is not even mentioned (after a certain point). These omissions would be forgiven 10 years ago but with access to the internet, in particular, there is no excuse now. If only Robbins had interviewed a few more people and checked a few more references then the book might actually have some value.To top it off Robbins commits the most typical error that a number of the &quot;scientific&quot; biofeedback community seem to perpetuate: ignoring the rich history of Eastern meditative traditions. Considering that the entire field got its start from people monitoring meditators then it seems obvious that it owes much to meditation. Unfortunately the is only passing reference to meditation; as if this field has now progressed to somethine new and &quot;scientific&quot;. The arrogance is incredible and the lack of knowledge even more amazing.With over 2000 years of history one would think that those dabbling in &quot;scientific&quot; biofeedback would spend some more time with the real tradition; this is sadly not the case. There really are few who acknowledge the meditative traditions (Zen, Taoism, shamanism to name but a few) and their rich history. This is, in my opinion, a very serious oversight. There is a reason that these traditions have their methods and only after biofeedback has been around for that length of time is it likely to uncover some of the same depth of knowledge.Spend your money on Anna Wise or Max Cade if you want a useful book. Otherwise you are better off trying a few of the traditional methods and finding one that is right for your personality. If you want science then Evans' &quot;Introduction to Quantitative EEG and Neurofeedback&quot; is a much better choice.\n",
      "well i don t usually bother typing up a review if it s not somewhat positive but in this case i feel that some important points about this book need to be brought to light . this book represents the worst of a type of genre and was really really disappointing . robbins has obviously read other books such as lick s quit chaos making a new science quit and decided he could do something similar for biofeedback . specifically i think robbins believed he could generate some hype and ride a quit wave quit of publicity for biofeedback . unfortunately robbins quit pseudo science quit book represents the worst of this genre and is not likely to help the because of biofeedback . first if you re going to write one of these books you need a peppy title and this one has it . second you need to make your story sound scientific although it is obvious you know nothing more than some terms and finally you need to toss in some human controversy to make it more quit interesting quit well robbins has put them together in a way that would make it a simple cut and paste from the book to a newspaper . first if you re going to do a book that popularizes a subject and want to talk about science then you need to do some reading to gain an basic understanding of the area . certainly talking only to the self proclaimed quit experts quit and taking their word as gospel is not the way to proceed you need to be able to judge a bit for yourself . well robbins appears to have talked to a few people and left his research at that . to start with he continually mentions things like quit double blind studies quit this debate has raged on for years in various fields and it is acknowledged that this paradigm creates a lot more problems than it solves in a similar fashion to the issues surrounding null hypothesis analysis of statistics . then there is the mixing of theories of how brainwaves are connected to thought as well as how the brain s structure is connected to thought . worse still are his discussions about data collected from animal trials . it is apparent that there is a mentality that only reason animals exist is provide a good platform for studies this is really rather sad . i cannot fathom why so few seem to acknowledge the debt we owe animals for the various tortures we have put them through even more so i find it hard to believe that people still think this is the only true quit scientific quit method available for studies . ignoring these problems one is still left to confront the fact that robbins has taken such a breathtakingly thin skim of the material and people involved in biofeedback that it almost feels like the book is years older than its publishing date . a quick search on the internet produces many people within north america alone who are not even mentioned in robbins book . and that is really the root of the problem here . there are a number of practitioners out there who are not even mentioned in passing here . there is also a long history of biofeedback in europe that is not even mentioned after a certain point these omissions would be forgiven years ago but with access to the internet in particular there is no excuse now . if only robbins had interviewed a few more people and checked a few more references then the book might actually have some value . to top it off robbins commits the most typical error that a number of the quit scientific quit biofeedback community seem to perpetuate ignoring the rich history of eastern meditative traditions . considering that the entire field got its start from people monitoring mediators then it seems obvious that it owes much to meditation . unfortunately the is only passing reference to meditation as if this field has now progressed to something new and quit scientific quit the arrogance is incredible and the lack of knowledge even more amazing . with over years of history one would think that those dabbling in quit scientific quit biofeedback would spend some more time with the real tradition this is sadly not the case . there really are few who acknowledge the meditative traditions zen taoism shamanism to name but a few and their rich history . this is in my opinion a very serious oversight . there is a reason that these traditions have their methods and only after biofeedback has been around for that length of time is it likely to uncover some of the same depth of knowledge . spend your money on anna wise or max cade if you want a useful book . otherwise you are better off trying a few of the traditional methods and finding one that is right for your personality . if you want science then evans quit introduction to quantitative beg and neurofeedback quit is a much better choice . \n",
      "\n",
      "To my faithful readers: I have continued to update and improve the software for this book. Guide you toward the updates.Should you have any questions, please feel free to send me an e-mail. Just strip off the NOSPAM from the e-mail address\n",
      "to my faithful readers i have continued to update and improve the software for this book . guide you toward the updates . should you have any questions please feel free to send me an e mail . just strip off the spam from the e mail address \n",
      "\n"
     ]
    }
   ],
   "source": [
    "for _, row in df[['review/text', 'text']].head(8).iterrows():\n",
    "    print(row['review/text'])\n",
    "    print(row['text'], '\\n')"
   ]
  },
  {
   "cell_type": "markdown",
   "id": "9dd14cd0",
   "metadata": {
    "id": "9dd14cd0"
   },
   "source": [
    "# 2. Obtención de datos\n",
    "\n",
    "En esta parte analizaremos el texto, *encontraremos el conjunto de términos multipalabra relevantes del dataset y analizaremos el objeto y aspectos de las opiniones* del texto utilizando el modelo Word2Wec. Para ello empezaremos calculando los **mejores bigramas y trigramas de las opiniones del dataset y evaluarlos** según distintas métricas (PMI y Likehood). Posteriormente, detectaremos los **n-gramas que cumplan un patrón sintáctico de un sintagma nominal** (e.g: adjetivo + nombre en singular/plural, nombre + nombre y nombre en singular/plural) y, terminaremos **detectando colocaciones** con un modelo de detección de frases, por ejemplo con el módulo Phraser de Gensim. Una vez analizados los terminos multiplalabra, **crearemos un modelo word2vec** con las opiniones lematizadas y lo utilizaremos para analizar los targets de las opiniones.\n"
   ]
  },
  {
   "cell_type": "code",
   "execution_count": 187,
   "id": "44d6e720",
   "metadata": {},
   "outputs": [],
   "source": [
    "df = pd.read_csv('df_preprocesado.csv')"
   ]
  },
  {
   "cell_type": "code",
   "execution_count": 21,
   "id": "d804647e-a178-43d4-b097-a8a445672fc9",
   "metadata": {
    "colab": {
     "base_uri": "https://localhost:8080/"
    },
    "id": "d804647e-a178-43d4-b097-a8a445672fc9",
    "outputId": "6c2e0f09-351e-4b69-9a0e-623ee8e40519"
   },
   "outputs": [
    {
     "data": {
      "text/plain": [
       "['would',\n",
       " 'a',\n",
       " 'about',\n",
       " 'above',\n",
       " 'after',\n",
       " 'again',\n",
       " 'against',\n",
       " 'ain',\n",
       " 'all',\n",
       " 'am',\n",
       " 'an',\n",
       " 'and',\n",
       " 'any',\n",
       " 'are',\n",
       " 'aren']"
      ]
     },
     "execution_count": 21,
     "metadata": {},
     "output_type": "execute_result"
    }
   ],
   "source": [
    "#Importar la lista de stopwords en el idioma de los *reviews* de la libreria NLTK y agregamos algunas adicionales:\n",
    "stopwords =  [\"would\"]\n",
    "stopwords = stopwords + nltk.corpus.stopwords.words('english')\n",
    "stopwords[:15] # extracto de stopwords."
   ]
  },
  {
   "cell_type": "markdown",
   "id": "cd45f9c3-8a17-4f60-9cde-84336516e1a5",
   "metadata": {
    "id": "cd45f9c3-8a17-4f60-9cde-84336516e1a5"
   },
   "source": [
    "### 2.1. Detección de colocaciones\n",
    "\n",
    "Las colocaciones son términos multipalabra, es decir, secuencias de palabras que, en conjunto, tienen un significado que difiere significativamente del significado de cada palabra individual (e.g.\"free version\")."
   ]
  },
  {
   "cell_type": "markdown",
   "id": "28e627f4",
   "metadata": {},
   "source": [
    "#### 2.1.1\n",
    "\n",
    "<div style=\"background-color: #EDF7FF; border-color: #7C9DBF; border-left: 5px solid #7C9DBF; padding: 1em;\">\n",
    "\n",
    "<strong>Ejercicio 2.1.1:</strong> Calcular los mejores bigramas y trigramas de las opiniones. De los mejores bigramas y trigramas, elige a los que no comienzan, ni terminan con una stopword.\n",
    "<br>\n",
    "<b>Salida esperada:</b> Imprimir los primeros 20 n-grams obtenidos con cada métrica.\n",
    "</div>\n",
    "<br>\n",
    "<b>Pasos a realizar</b>:\n",
    "\n",
    "-  Obtener los tokens del texto de las opiniones y etiquetarlos por su PoS\n",
    "-   Aplicar las métricas PMI y Likehood Ratio para calcular los mejores bigramas y los mejores trigramas a partir de los tokens etiquetad ylos que no comcenzan ni terennan con una stopword."
   ]
  },
  {
   "cell_type": "markdown",
   "id": "279135de",
   "metadata": {},
   "source": [
    "##### 2.1.1.1\n",
    "\n",
    "<div style=\"background-color: #F8F7FF; border-color: #7C9DBF; border-left: 5px solid #7C9DBF; padding: 0.5em;\">\n",
    "    \n",
    "<i>Primer paso</i>: Obtener los tokens del texto de las reseñas. Etiqueta estos tokens por su PoS.\n",
    "\n",
    "Utiliza los métodos *word_tokenize* para tokenizar el texto de las reseñas y  *pos_tag* para determinar la etiqueta de cada token.\n",
    "<br>\n",
    "<b>Salida esperada:</b> Imprime los diez primeros tokens, con su respectiva etiqueta:\n",
    "</div>\n",
    "<br>\n",
    "Antes de categorizar a los tokens por su tag POS, primero vamos a convertir el texto a minúsculas:"
   ]
  },
  {
   "cell_type": "code",
   "execution_count": 22,
   "id": "d964fd1a-ad1d-4d2c-b6b1-108f2df72630",
   "metadata": {
    "id": "d964fd1a-ad1d-4d2c-b6b1-108f2df72630"
   },
   "outputs": [],
   "source": [
    "#Creamos texto en minúscula que recoja todas las reseñas.\n",
    "#En las siguientes líneas df es el dataframe donde se cargó el dataset, y text es la columna que tiene el texto preprocesado.\n",
    "#Se sugiere actualizar la siguiente línea con los objetos propios y correr las instrucciones.\n",
    "#opinions = \" \".join(df['text']).lower()\n",
    "#opinions[:250]"
   ]
  },
  {
   "cell_type": "code",
   "execution_count": 23,
   "id": "2c27f9b8",
   "metadata": {
    "id": "2c27f9b8"
   },
   "outputs": [
    {
     "name": "stdout",
     "output_type": "stream",
     "text": [
      "Reseñas unidas y en minúscula:\n",
      "good material . i like the concept of the study . might not change your life but might change your w\n",
      "Tokens:\n",
      "['good', 'material', '.', 'i', 'like', 'the', 'concept', 'of', 'the', 'study']\n",
      "Tokens PoS:\n",
      "[('good', 'JJ'), ('material', 'NN'), ('.', '.'), ('i', 'NN'), ('like', 'IN'), ('the', 'DT'), ('concept', 'NN'), ('of', 'IN'), ('the', 'DT'), ('study', 'NN')]\n"
     ]
    }
   ],
   "source": [
    "#############################################\n",
    "# SOLUCIÓN PASO 1                           #\n",
    "#############################################\n",
    "\n",
    "# 1. Unir todas las reseñas y convertir a minúsculas\n",
    "opinions = \" \".join(df['text'].dropna()).lower()\n",
    "print(\"Reseñas unidas y en minúscula:\")\n",
    "print(opinions[:100])\n",
    "\n",
    "# 2. Tokenizar\n",
    "tokens = word_tokenize(opinions)\n",
    "print(\"Tokens:\")\n",
    "print(tokens[:10])\n",
    "\n",
    "# 3. Etiquetar con PoS\n",
    "tokens_pos = pos_tag(tokens)\n",
    "print(\"Tokens PoS:\")\n",
    "print(tokens_pos[:10])\n"
   ]
  },
  {
   "cell_type": "markdown",
   "id": "0a7cfc1a",
   "metadata": {},
   "source": [
    "##### 2.1.1.2\n",
    "\n",
    "\n",
    "<div style=\"background-color: #F8F7FF; border-color: #7C9DBF; border-left: 5px solid #7C9DBF; padding: 0.5em;\">\n",
    "    \n",
    "<i>Segundo paso</i>: Calcular los 300 mejores bigramas y los 300 mejores trigramas a partir de los tokens etiquetados (e.g. [(we, PRP), ...]) del texto. Utiliza las métricas PMI y Likehood Ratio.\n",
    "<br>\n",
    "<b>Condición</b>: De la lista de mejores bigramas y trigramas, elige a los que no comienzan ni terminen con una stopword. Para el filtrado de stopwords considera:\n",
    "- La lista previamente cargada (desde el paquete NLTK), y\n",
    "- Las categorías POS que representan a palabras vacías como determinantes, preposiciones, entre otras.\n",
    "<br>\n",
    "<b>Salida esperada:</b> Imprime los primeros 20 n-grams obtenidos con cada métrica.\n",
    "</div>\n",
    "  "
   ]
  },
  {
   "cell_type": "markdown",
   "id": "de2fe029",
   "metadata": {
    "id": "de2fe029"
   },
   "source": [
    "Recordemos la clasificación de etiquetas PoS.\n",
    "\n",
    "<b>Etiquetas PoS</b>\n",
    "\n",
    "<ul>\n",
    "<li>DT: Determinante</li>\n",
    "<li>JJ: Adjetivo</li>\n",
    "<li>NN: Nombre en singular</li>\n",
    "<li>NNS: Nombre en plural</li>\n",
    "<li>VBD: Verbo en pasado</li>\n",
    "<li>VBG: Verbo en gerundio</li>\n",
    "<li>MD: Verbo modal</li>\n",
    "<li>IN: Preposición o conjunción subordinada</li>\n",
    "<li>PRP: Pronombre</li>\n",
    "<li>RB: Adverbio</li>\n",
    "<li>RP: Partícula</li>    \n",
    "<li>CC: Conjunción coordinada</li>\n",
    "<li>CD: Numeral</li>\n",
    "</ul>"
   ]
  },
  {
   "cell_type": "code",
   "execution_count": 35,
   "id": "43dfad33",
   "metadata": {
    "id": "43dfad33"
   },
   "outputs": [
    {
     "name": "stdout",
     "output_type": "stream",
     "text": [
      "Mejores 20 Bigramas (PMI):\n",
      "samaria caesarea, caesarea antioch, geothermal vents, saldyllic varnish, remora sulu, concordances coordinating, fourteenth amendments, floppies kmemory, saddles harnesses, jackbooted popeye, highland bagpipe, ingres gl, rejoicing empathizing, kristi wysockioctober, senor braulio, nadir steppes, kat headman, scorpions owls, owls magpies, magpies gulls\n",
      "\n",
      "Mejores 20 Bigramas (Likelihood Ratio):\n",
      "science fiction, much better, years ago, much better, main character, well written, main character, well written, th century, ever read, much better, high school, well written, ever read, main character, well written, writing style, ever read, highly recommend, high school\n",
      "\n",
      "Mejores 20 Trigramas (PMI):\n",
      "samaria caesarea antioch, isaiah ezekiel zech, glias para trabajar, para trabajar foots, velvets springsteen punk, wrestler ditsy blond, swami yukteswar pierces, inch floppies kmemory, cob terri blackstone, harcourt brace jovanovich, brace jovanovich inc, toads snakes scorpions, snakes scorpions owls, scorpions owls magpies, owls magpies gulls, cavalry saber unconcealed, pickford lillian gish, seriousness avery cardozo, unctuous televangelist banging, roughneck rancher scuba\n",
      "\n",
      "Mejores 20 Trigramas (Likelihood Ratio):\n",
      "bought this book, reading this book, read this book, found this book, makes this book, recommend this book, found this book, found this book, enjoy this book, bought this book, read this book, recommend this book, reading this book, think this book, recommend this book, read this book, purchase this book, read this book, quit this book, recommend this book\n"
     ]
    }
   ],
   "source": [
    "# métricas para el cálculo de bigramas y trigramas:\n",
    "bigram_measures = nltk.collocations.BigramAssocMeasures()\n",
    "trigram_measures = nltk.collocations.TrigramAssocMeasures()\n",
    "\n",
    "#############################################\n",
    "# SOLUCIÓN PASO 2                           #\n",
    "#############################################\n",
    "\n",
    "ngrams_num = 300\n",
    "\n",
    "# convertimos las stopwords de lista a conjunto (set)\n",
    "# en python in es más rápido con set que con list (O(1) vs O(n))\n",
    "stopwords_set = set(stopwords.words('english'))\n",
    "\n",
    "# etiquetas PoS a considerar como palabras vacías\n",
    "pos_stopwords = {'DT', 'IN', 'PRP', 'CC', 'MD', 'RP' '.'}\n",
    "\n",
    "# ================================\n",
    "# FILTRADO DE NGRAMS\n",
    "# ================================\n",
    "punctuation = set(string.punctuation)\n",
    "\n",
    "def is_valid_ngram(ngram):\n",
    "    # ngram: lista de tuplas [(word1, tag1), (word2, tag2)] o trigram\n",
    "    first_word, first_tag = ngram[0]\n",
    "    last_word, last_tag = ngram[-1]\n",
    "    \n",
    "    # revisamos que el primer y ultimo elemento:\n",
    "    # - no sean stopwords\n",
    "    # - no tengan PoS vacía \n",
    "    # - no sean signos de puntuación\n",
    "\n",
    "    if (first_word in stopwords_set or first_tag in pos_stopwords or first_word in punctuation or\n",
    "        last_word in stopwords_set or last_tag in pos_stopwords or last_word in punctuation):\n",
    "        return False\n",
    "    \n",
    "    for word, tag in ngram:\n",
    "        if word in punctuation:\n",
    "            return False\n",
    "    \n",
    "    return True\n",
    "# ================================\n",
    "# ENTRADA: lista de tokens POS-tagged\n",
    "# ================================\n",
    "# tokens_pos generado en paso 1\n",
    "\n",
    "# extraemos solo las palabras para usar en el finder\n",
    "words = [word for word, tag in tokens_pos]\n",
    "\n",
    "# Bigramas\n",
    "bigram_measures = BigramAssocMeasures()\n",
    "finder_bigram = BigramCollocationFinder.from_words(words)\n",
    "bigrams_pmi = finder_bigram.nbest(bigram_measures.pmi, ngrams_num)\n",
    "bigrams_lr = finder_bigram.nbest(bigram_measures.likelihood_ratio, ngrams_num)\n",
    "\n",
    "# Trigramas\n",
    "trigram_measures = TrigramAssocMeasures()\n",
    "finder_trigram = TrigramCollocationFinder.from_words(words)\n",
    "trigrams_pmi = finder_trigram.nbest(trigram_measures.pmi, ngrams_num)\n",
    "trigrams_lr = finder_trigram.nbest(trigram_measures.likelihood_ratio, ngrams_num)\n",
    "\n",
    "# ================================\n",
    "# FILTRADO usando tokens_pos\n",
    "# ================================\n",
    "# convertir a bigramas con POS\n",
    "bigrams_pos = list(nltk.bigrams(tokens_pos))\n",
    "trigrams_pos = list(nltk.trigrams(tokens_pos))\n",
    "\n",
    "# versiones limpias\n",
    "filtered_bigrams_pmi = [\n",
    "    ng for ng in bigrams_pos \n",
    "    if tuple(w for w, _ in ng) in bigrams_pmi and is_valid_ngram(ng)\n",
    "]\n",
    "\n",
    "filtered_bigrams_lr = [\n",
    "    ng for ng in bigrams_pos \n",
    "    if tuple(w for w, _ in ng) in bigrams_lr and is_valid_ngram(ng)\n",
    "]\n",
    "\n",
    "filtered_trigrams_pmi = [\n",
    "    ng for ng in trigrams_pos \n",
    "    if tuple(w for w, _ in ng) in trigrams_pmi and is_valid_ngram(ng)\n",
    "]\n",
    "\n",
    "filtered_trigrams_lr = [\n",
    "    ng for ng in trigrams_pos \n",
    "    if tuple(w for w, _ in ng) in trigrams_lr and is_valid_ngram(ng)\n",
    "]\n",
    "\n",
    "# ================================\n",
    "# RESULTADOS\n",
    "# ================================\n",
    "# Bigrams PMI\n",
    "print(\"Mejores 20 Bigramas (PMI):\")\n",
    "print(', '.join([' '.join([w for w, t in bg]) for bg in filtered_bigrams_pmi[:20]]))\n",
    "\n",
    "# Bigrams Likelihood Ratio\n",
    "print(\"\\nMejores 20 Bigramas (Likelihood Ratio):\")\n",
    "print(', '.join([' '.join([w for w, t in bg]) for bg in filtered_bigrams_lr[:20]]))\n",
    "\n",
    "# Trigrams PMI\n",
    "print(\"\\nMejores 20 Trigramas (PMI):\")\n",
    "print(', '.join([' '.join([w for w, t in tg]) for tg in filtered_trigrams_pmi[:20]]))\n",
    "\n",
    "# Trigrams Likelihood Ratio\n",
    "print(\"\\nMejores 20 Trigramas (Likelihood Ratio):\")\n",
    "print(', '.join([' '.join([w for w, t in tg]) for tg in filtered_trigrams_lr[:20]]))\n"
   ]
  },
  {
   "cell_type": "markdown",
   "id": "3883d1ca",
   "metadata": {
    "id": "3883d1ca"
   },
   "source": [
    "### 2.1.2\n",
    "\n",
    "<div style=\"background-color: #EDF7FF; border-color: #7C9DBF; border-left: 5px solid #7C9DBF; padding: 0.5em;\">\n",
    "\n",
    "<strong>Ejercicio 2.1.2:</strong>  Detectar n-gramas que cumplen el patrón sintáctico de un sintagma nominal (e.g: adjetivo + nombre en singular/plural, nombre + nombre y nombre en singular/plural). Las palabras componentes de cada n-grama deben estar separdaas por un guión \"-\".\n",
    "<br>\n",
    "<b>Salida esperada:</b> Lista de los 20 primeros n-gramas que cumplan el patrón sintáctico especificado, por ejemplo, 'new_york' y 'tourism'.\n",
    "\n",
    "</div>"
   ]
  },
  {
   "cell_type": "markdown",
   "id": "b7b9c366",
   "metadata": {},
   "source": [
    "Vamos a buscar: \n",
    "- adjetivo + nombre -> (JJ, NN/NNS) e.g. \"strong coffee\"\n",
    "\n",
    "- nombre + nombre -> (NN/NNS, NN/NNS) e.g. \"data analysis\"\n",
    "\n",
    "- nombre + nombre + nombre -> (NN/NNS + NN/NNS + NN/NNS) e.g. \"machine learning model\""
   ]
  },
  {
   "cell_type": "code",
   "execution_count": 36,
   "id": "50c96d2e",
   "metadata": {
    "id": "50c96d2e"
   },
   "outputs": [
    {
     "name": "stdout",
     "output_type": "stream",
     "text": [
      "Primeros 20 bigramas como sintagmas nominales:\n",
      "good-material, solid-state, state-physics, physics-students, numerous-times, poor-students, requisite-material, major-concepts, ashcroft-vermin, wonderful-book, introductory-text, little-book, book-electrons, little-bit, high-hopes, view-point, evil-okay, negative-work, austin-powers, mojo-comment\n",
      "\n",
      "Primeros 20 trigramas como sintagmas nominales:\n",
      "state-physics-students, blah-blah-blah, planet-arc-king, quit-wave-quit, quit-pseudo-science, quit-experts-quit, quit-biofeedback-community, marathon-man-characters, woman-constance-chatterley, decency-heart-womanhood, heart-womanhood-et, washington-irving-centers, murder-mystery-genre, towards-psychoanalysis-mass, psychoanalysis-mass-production, character-john-savage, honesty-quit-lord, fifth-grade-student, church-history-roman, history-roman-empire\n"
     ]
    }
   ],
   "source": [
    "#############################################\n",
    "# SOLUCIÓN                                  #\n",
    "#############################################\n",
    "\n",
    "# stopwords y puntuación\n",
    "stopwords_set = set(stopwords.words('english')) \n",
    "punctuation_set = set(string.punctuation)\n",
    "\n",
    "def is_valid_word(word):\n",
    "    return word.lower() not in stopwords_set and word not in punctuation_set\n",
    "\n",
    "\n",
    "# 1. generamos bigramas y trigrams con POS\n",
    "bigrams_pos = list(nltk.bigrams(tokens_pos))\n",
    "trigrams_pos = list(nltk.trigrams(tokens_pos))\n",
    "\n",
    "# 2. detectamos bigramas que cumplan con sintagma nominal\n",
    "def is_noun_phrase_bigram(bigram):\n",
    "    (w1, t1), (w2, t2) = bigram\n",
    "    return (\n",
    "        (t1 == 'JJ' and t2 in ['NN', 'NNS']) or       # adjetivo + nombre\n",
    "        (t1 in ['NN', 'NNS'] and t2 in ['NN', 'NNS']) # nombre + nombre\n",
    "    )\n",
    "\n",
    "# 3. detectamos trigrams nominales (opcionalmente más restrictivos)\n",
    "def is_noun_phrase_trigram(trigram):\n",
    "    (w1, t1), (w2, t2), (w3, t3) = trigram\n",
    "    return (\n",
    "        t1 in ['NN', 'NNS'] and t2 in ['NN', 'NNS'] and t3 in ['NN', 'NNS']\n",
    "    )\n",
    "\n",
    "# 4. filtramos lso n-gramas que cumplen el patrón\n",
    "noun_phrase_bigrams = [\n",
    "    '-'.join([w1, w2])\n",
    "    for (w1, t1), (w2, t2) in bigrams_pos\n",
    "    if is_noun_phrase_bigram(((w1, t1), (w2, t2)))\n",
    "    and is_valid_word(w1) and is_valid_word(w2)\n",
    "]\n",
    "noun_phrase_trigrams = [\n",
    "    '-'.join([w1, w2, w3])\n",
    "    for (w1, t1), (w2, t2), (w3, t3) in trigrams_pos\n",
    "    if is_noun_phrase_trigram(((w1, t1), (w2, t2), (w3, t3)))\n",
    "    and is_valid_word(w1) and is_valid_word(w2) and is_valid_word(w3)\n",
    "]\n",
    "\n",
    "# 5. resultados\n",
    "print(\"Primeros 20 bigramas como sintagmas nominales:\")\n",
    "print(', '.join(noun_phrase_bigrams[:20]))\n",
    "\n",
    "print(\"\\nPrimeros 20 trigramas como sintagmas nominales:\")\n",
    "print(', '.join(noun_phrase_trigrams[:20]))\n",
    "\n"
   ]
  },
  {
   "cell_type": "markdown",
   "id": "535c0a10",
   "metadata": {
    "id": "535c0a10"
   },
   "source": [
    "### 2.1.3\n",
    "\n",
    "<div style=\"background-color: #EDF7FF; border-color: #7C9DBF; border-left: 5px solid #7C9DBF; padding: 1em;\">\n",
    "\n",
    "<strong>Ejercicio 2.1.3:</strong> Detectar colocaciones con un modelo de detección de frases, con el módulo Phraser de Gensim. Entrenar el modelo con todas las opiniones.\n",
    "<br>\n",
    "</div>\n",
    "<br>\n",
    "<b>Pasos a realizar</b>:\n",
    "\n",
    "1. Crear la lista de sentences. Tomar como referencia el código comentado que consta en la siguiente celda.\n",
    "2. Convertir las reseñas  en una lista de phrases. Las phrases no deben ser stopwords. Tampoco deben empezar ni acabar con una stopword.\n",
    "3. Entrenar el modelo con todas las opiniones.\n"
   ]
  },
  {
   "cell_type": "code",
   "execution_count": 9,
   "id": "9964125a-792f-409b-ac9c-fdb846aad084",
   "metadata": {
    "id": "9964125a-792f-409b-ac9c-fdb846aad084"
   },
   "outputs": [],
   "source": [
    "#Crear la lista de sentences. Las siguientes líneas pueden ser tomadas como referencia\n",
    "#Actualizar el nombre del dataframe y de la columna del texto pre-procesado.#\n",
    "#opinions_string = \" \".join(df['text'])\n",
    "\n",
    "#opinion_sentences = opinions_string.split('. ')\n",
    "\n",
    "#opinion_sentences[:10]\n"
   ]
  },
  {
   "cell_type": "code",
   "execution_count": 40,
   "id": "2c5d64ac",
   "metadata": {},
   "outputs": [
    {
     "name": "stdout",
     "output_type": "stream",
     "text": [
      "Ejemplo de frases:\n",
      "good material \n",
      "i like the concept of the study \n",
      "might not change your life but might change your way of thinking generations of solid state physics students including myself have been brought up using this text by kitten \n",
      "i have also taught from this text numerous times \n",
      "poor poor students the text contains all the requisite material but its explanations are murky and it it slips major concepts by without making them clear \n",
      "i have resolved never again to make my students suffer with this text \n",
      "ashcroft vermin is wonderful book but too advance as an introductory text \n",
      "tube s little book electrons in solids is a delight but too expensive for students and a little bit too elementary \n",
      "despite their limitations i m going to use the combination of those from now on \n",
      "first off when i bought this book i had a lot of high hopes for it but upon reading it i found it to be way to water down for me to like it \n",
      "\n",
      "Ejemplos de colocaciones detectadas por Gensim:\n",
      "['good', 'material']\n",
      "['like', 'concept', 'study']\n",
      "['might', 'change', 'life', 'might', 'change', 'way', 'thinking', 'generations', 'solid', 'state', 'physics', 'students', 'including', 'brought', 'using', 'text', 'kitten']\n",
      "['also', 'taught', 'text', 'numerous_times']\n",
      "['poor', 'poor', 'students', 'text', 'contains', 'requisite', 'material', 'explanations', 'murky', 'slips', 'major', 'concepts', 'without', 'making', 'clear']\n",
      "['resolved', 'never', 'make', 'students', 'suffer', 'text']\n",
      "['ashcroft', 'vermin', 'wonderful', 'book', 'advance', 'introductory', 'text']\n",
      "['tube', 'little', 'book', 'electrons', 'solids', 'delight', 'expensive', 'students', 'little_bit', 'elementary']\n",
      "['despite', 'limitations', 'going', 'use', 'combination']\n",
      "['first', 'bought', 'book', 'lot', 'high_hopes', 'upon', 'reading', 'found', 'way', 'water', 'like']\n"
     ]
    }
   ],
   "source": [
    "# 1. string con todas las opiniones\n",
    "opinions_string = \" \".join(df['text'].astype(str))\n",
    "\n",
    "# 2. dividimos por oraciones usando '. ' como separador\n",
    "opinion_sentences = opinions_string.split('. ')\n",
    "print(\"Ejemplo de frases:\")\n",
    "for sentence in opinion_sentences[:10]:\n",
    "    print(sentence)\n",
    "\n",
    "# 3. lista de oraciones tokenizadas\n",
    "tokenized_sentences = [word_tokenize(sentence.lower()) for sentence in opinion_sentences]\n",
    "\n",
    "# 4. filtramos tokens que sean palabras y no stopwords\n",
    "filtered_sentences = [\n",
    "    [word for word in sentence if word not in stopwords_set]\n",
    "    for sentence in tokenized_sentences\n",
    "]\n",
    "\n",
    "# 5. entrenamos el modelo de frases\n",
    "# min_count=n: acepta colocaciones que aparecen al menos n veces\n",
    "# threshold=n: umbral de bondad. Define cuán asociadas deben estar las palabras\n",
    "#   Gensim usa una fórmula que mide si es más probable que esas palabras ocurran \n",
    "#   juntas por azar o porque forman una unidad semántica.\n",
    "phrases_model = Phrases(filtered_sentences, min_count=5, threshold=10)\n",
    "phraser = Phraser(phrases_model)\n",
    "\n",
    "# 6. aplicamos el modelo para detectar frases\n",
    "phrased_sentences = phraser[filtered_sentences]\n",
    "\n",
    "# 7. ver ejemplos\n",
    "print(\"\\nEjemplos de colocaciones detectadas por Gensim:\")\n",
    "for sent in phrased_sentences[:10]:\n",
    "    print(sent)"
   ]
  },
  {
   "cell_type": "markdown",
   "id": "9f1f7a01",
   "metadata": {},
   "source": [
    "En este ejemplo podemos ver algunas colocaciones detectadas como 'numerous_times', 'little_bit', 'high_hopes'. Estas son expresiones frecuentes en inglés y tienen un sentido conjunto que es más que la suma de sus partes.\n",
    "\n",
    "Dependiendo de nuestro objetivo podríamos modificar min_count y threshold para capturar más combinaciones raras pero relevantes o ser mas restrictivos. "
   ]
  },
  {
   "cell_type": "markdown",
   "id": "d9a766d9-8390-4766-83d4-1cbcb7cbd816",
   "metadata": {
    "id": "d9a766d9-8390-4766-83d4-1cbcb7cbd816"
   },
   "source": [
    "### 2.1.4\n",
    "\n",
    "<div style=\"background-color: #F8F7FF; border-color: #7C9DBF; border-left: 5px solid #7C9DBF; padding: 0.5em;\">\n",
    "\n",
    "<i>Segundo paso</i>: Convierte las reseñas en una lista de *phrases*. Las phrases no deben ser stopwords. Tampoco deben empezar, ni terminar con una stopword. Utiliza la lista de stopwords para el filtrado.\n",
    "<br>\n",
    "<b> Salida esperada:</b> Lista de las 20 primeras *phrases* que no sean, o no contengan stopwords.\n",
    "\n",
    "</div>"
   ]
  },
  {
   "cell_type": "code",
   "execution_count": 48,
   "id": "97f2bd0b",
   "metadata": {
    "id": "97f2bd0b"
   },
   "outputs": [
    {
     "name": "stdout",
     "output_type": "stream",
     "text": [
      "Top 20 colocaciones por frecuencia:\n",
      "[('numerous_times', 1), ('little_bit', 1), ('high_hopes', 1), ('coming_age', 1), ('blah_blah', 1), ('seemed_like', 1), ('want_learn', 1), ('first_place', 1), ('incredibly_boring', 1), ('let_go', 1), ('telling_story', 1), ('even_though', 1), ('science_fiction', 1), ('much_better', 1), ('pseudo_science', 1), ('put_together', 1), ('self_proclaimed', 1), ('hard_believe', 1), ('feels_like', 1), ('many_people', 1)]\n"
     ]
    }
   ],
   "source": [
    "#############################################\n",
    "# SOLUCIÓN PASO 2                           #\n",
    "#############################################\n",
    "\n",
    "# aplanamos las frases detectadas en una sola lista\n",
    "all_phrases = [phrase for sentence in phrased_sentences for phrase in sentence]\n",
    "\n",
    "# filtramos solo aquellas que son \"phrases\" reales (tienen _)\n",
    "phrases_only = [phrase for phrase in all_phrases if '_' in phrase]\n",
    "\n",
    "# ahora filtramos:\n",
    "#   - que NO sean stopwords completas\n",
    "#   - que NO empiecen ni terminen con una stopword\n",
    "filtered_phrases = []\n",
    "for phrase in phrases_only:\n",
    "    parts = phrase.split('_')\n",
    "    if (\n",
    "        phrase not in stopwords_set and\n",
    "        parts[0] not in stopwords_set and\n",
    "        parts[-1] not in stopwords_set\n",
    "    ):\n",
    "        filtered_phrases.append(phrase)\n",
    "\n",
    "# seleccionamos las frases unicas\n",
    "filtered_phrases = list(dict.fromkeys(filtered_phrases))\n",
    "\n",
    "# vemos las mas frecuentes\n",
    "phrase_freq = Counter(filtered_phrases)\n",
    "print(\"Top 20 colocaciones por frecuencia:\")\n",
    "print(phrase_freq.most_common(20))\n"
   ]
  },
  {
   "cell_type": "markdown",
   "id": "8ae4f042",
   "metadata": {},
   "source": [
    "Como se puede observar, la frecuencia de Nuestros colocaciones es muy baja esto es debido a que los filtros que aplicamos para Stock Wards son muy restrictivos y eliminan colocaciones útiles como would_recommend o must_read. A continuación proporciona el código con un filtro más suave y permisivo."
   ]
  },
  {
   "cell_type": "code",
   "execution_count": 51,
   "id": "03cafd7c",
   "metadata": {},
   "outputs": [
    {
     "name": "stdout",
     "output_type": "stream",
     "text": [
      "Top 20 colocaciones por frecuencia (filtro relajado):\n",
      "would_recommend: 305\n",
      "ever_read: 250\n",
      "even_though: 242\n",
      "well_written: 238\n",
      "year_old: 231\n",
      "must_read: 227\n",
      "main_character: 221\n",
      "highly_recommend: 205\n",
      "one_best: 196\n",
      "high_school: 191\n",
      "th_century: 182\n",
      "much_better: 179\n",
      "waste_time: 167\n",
      "years_ago: 155\n",
      "writing_style: 149\n",
      "could_put: 140\n",
      "new_york: 139\n",
      "easy_read: 137\n",
      "many_people: 129\n",
      "long_time: 127\n"
     ]
    }
   ],
   "source": [
    "# lista de stopwords permitidas \n",
    "stopwords_allowed_as_prefix = {\n",
    "    'would', 'must', 'should', 'could', 'can',\n",
    "    'even', 'just', 'still', 'much', 'very', 'so',\n",
    "    'one', 'all', 'many', 'some', 'such',\n",
    "    'first', 'more', 'most', 'no', 'never'\n",
    "}\n",
    "\n",
    "def is_useful_phrase(phrase):\n",
    "    parts = phrase.split('_')\n",
    "    return (\n",
    "        parts[0] not in stopwords_set or parts[0] in stopwords_allowed_as_prefix\n",
    "    ) and (\n",
    "        parts[-1] not in stopwords_set\n",
    "    ) and (\n",
    "        parts[0].isalpha() and parts[-1].isalpha()\n",
    "    )\n",
    "\n",
    "\n",
    "# filtramos\n",
    "filtered_phrases_chill = [phrase for phrase in phrases_only if is_useful_phrase(phrase)]\n",
    "\n",
    "# frecuencia\n",
    "phrase_counter = Counter(filtered_phrases_chill)\n",
    "\n",
    "# top 20\n",
    "top_20_phrases = phrase_counter.most_common(20)\n",
    "\n",
    "print(\"Top 20 colocaciones por frecuencia (filtro relajado):\")\n",
    "for phrase, freq in top_20_phrases:\n",
    "    print(f\"{phrase}: {freq}\")"
   ]
  },
  {
   "cell_type": "markdown",
   "id": "d4e13a71",
   "metadata": {
    "id": "d4e13a71"
   },
   "source": [
    "## 2.2 Vectorización de palabras y términos con Word2Vec\n",
    "\n",
    "Antes de desarrollar los ejercicios, es necesario importar gensim y quitar espacios del texto."
   ]
  },
  {
   "cell_type": "code",
   "execution_count": null,
   "id": "4OGwpBv8fOtp",
   "metadata": {
    "id": "4OGwpBv8fOtp"
   },
   "outputs": [],
   "source": [
    "# Importar el paquete gensim, el cual implementa un método para entrenar modelos Word2Vec.\n",
    "\n",
    "# import gensim\n",
    "\n",
    "#Antes de continuar se sugiere quitar espacios del texto: considerar el siguiente código comentado.\n",
    "#Considerar que, opinion_phrases_no_stopwords es el objeto generado en el segundo paso del Ejercicio 2.1.3.\n",
    "\n",
    "#opinion_phrases_stripped_no_stopwords = [c.strip() for c in opinion_phrases_no_stopwords]\n",
    "#opinion_phrases_stripped_no_stopwords[:10]"
   ]
  },
  {
   "cell_type": "code",
   "execution_count": 56,
   "id": "abb6ee8c",
   "metadata": {},
   "outputs": [
    {
     "name": "stdout",
     "output_type": "stream",
     "text": [
      "Primeras frases listas para Word2Vec:\n",
      "[['numerous_times'], ['little_bit'], ['high_hopes'], ['coming_age', 'blah_blah', 'coming_age'], ['seemed_like']]\n"
     ]
    }
   ],
   "source": [
    "# 1. 'phrased_sentences' ya tiene frases tokenizadas\n",
    "# 2. filtramos con el filtro relajado que creamos en el apartado anterior \n",
    "\n",
    "# creamos las frases para cada oración\n",
    "opinion_phrases_no_stopwords = [\n",
    "    [phrase for phrase in sentence if '_' in phrase and is_useful_phrase(phrase)]\n",
    "    for sentence in phrased_sentences\n",
    "]\n",
    "\n",
    "# quitamos espacios (si quedaran) en cada token\n",
    "opinion_phrases_stripped_no_stopwords = [\n",
    "    [phrase.strip() for phrase in sentence]\n",
    "    for sentence in opinion_phrases_no_stopwords if sentence  # solo si hay algo\n",
    "]\n",
    "\n",
    "print(\"Primeras frases listas para Word2Vec:\")\n",
    "print(opinion_phrases_stripped_no_stopwords[:5])\n"
   ]
  },
  {
   "cell_type": "markdown",
   "id": "20aaa498",
   "metadata": {
    "id": "20aaa498"
   },
   "source": [
    "#### 2.2.1\n",
    "\n",
    "<div style=\"background-color: #EDF7FF; border-color: #7C9DBF; border-left: 5px solid #7C9DBF; padding: 0.5em;\">\n",
    "\n",
    "<strong>Ejercicio 2.2.1:</strong>  Obtener targets de las opiniones y sus aspectos utilizando el modelo Word2vec.\n",
    "<br>\n",
    "<b>Salida esperada:</b> Lista de los primeros 15 términos que tengan mayor relación semántica con el término/aspecto seleccionado.\n",
    "</div>\n",
    "<br>\n",
    "\n",
    "Pasos a realizar:\n",
    "1. Convertir las phrases de cada oración en un token.\n",
    "2. Crear una sentence stream donde todos los tokens de las oraciones estén lematizados. Los tokens no pueden ser stopwords ni tener un stopword al inicio o al final.\n",
    "3. Crear un modelo word2vec de las opiniones lematizadas. El modelo debe llamarse w2v_opinions.\n",
    "4. A partir del vocabulario del modelo word2vec, seleccionar posibles aspectos representativos de la opiniones."
   ]
  },
  {
   "cell_type": "markdown",
   "id": "a9d68931",
   "metadata": {
    "id": "a9d68931"
   },
   "source": [
    "<b><i>Primer paso</i></b>: Convertir las phrases de cada oración en un token. Para completar este paso:\n",
    "\n",
    "- Concatenar los tokens de la phrase con el caracter '_' (e.g: 'mew york' -> 'new_york').\n",
    "- En cada oración sustituir los bigramas que son phrases por la forma tokenizada (e.g: This is a one of the best apps acording to a bunch of people and -> This is a one of the best_apps acording to a bunch of people and).\n",
    "- Al realizar los pasos anteriores, las colocaciones formarán parte del vocabulario del modelo word2vec que generaremos.\n",
    "\n",
    "<i>Importante:</i> El siguiente código puede ser tomado como referencia para completar este primer paso. Considerar que:\n",
    "\n",
    "- *opinion_phrases_stripped_no_stopwords* es el objeto creado al iniciar este apartado (2.2).\n",
    "- *opinion_sentences* es la lista de sentences creada en el primer paso del Ejercicio 2.1.3."
   ]
  },
  {
   "cell_type": "code",
   "execution_count": null,
   "id": "dee08237",
   "metadata": {
    "id": "dee08237"
   },
   "outputs": [],
   "source": [
    "#collocation_phrases = [phrase for phrase in list(set(opinion_phrases_stripped_no_stopwords)) if ' ' in phrase]\n",
    "#print(collocation_phrases[9])\n",
    "#def transform_sentence(sentence):\n",
    "#    transformed_sentence = sentence\n",
    "#    n_grams = list(ngrams(nltk.word_tokenize(sentence), 2))\n",
    "#    ngrams_t = [' '.join(gram) for gram in n_grams]\n",
    "#    for ngram in ngrams_t:\n",
    "#        if ngram.lower() in collocation_phrases:\n",
    "#            opt = ngram.replace(' ', '_')\n",
    "#            transformed_sentence = transformed_sentence.replace(ngram,opt)\n",
    "#    return transformed_sentence\n",
    "\n",
    "#opinion_sentences_transformed = [transform_sentence(os) for os in opinion_sentences]\n",
    "#opinion_sentences_transformed[0]"
   ]
  },
  {
   "cell_type": "code",
   "execution_count": 60,
   "id": "1c81b1c9",
   "metadata": {},
   "outputs": [
    {
     "name": "stdout",
     "output_type": "stream",
     "text": [
      "Oración original:\n",
      " i have also taught from this text numerous times \n",
      "\n",
      "Transformada:\n",
      " i have also taught from this text numerous_times \n"
     ]
    }
   ],
   "source": [
    "# aplanamos la lista de frases para obtener una lista única\n",
    "flat_phrases = [phrase for sentence in opinion_phrases_stripped_no_stopwords for phrase in sentence]\n",
    "\n",
    "# nos quedamos solo con frases que originalmente tenían espacio (antes del _)\n",
    "collocation_phrases = list(set(phrase.replace('_', ' ') for phrase in flat_phrases if '_' in phrase))\n",
    "\n",
    "# esta función toma una oración original y:\n",
    "# - detecta sus bigramas.\n",
    "# - reemplaza los bigramas que coinciden con colocaciones por la versión con _.\n",
    "\n",
    "def transform_sentence(sentence):\n",
    "    transformed_sentence = sentence\n",
    "    n_grams = list(ngrams(word_tokenize(sentence), 2))\n",
    "    ngrams_text = [' '.join(gram) for gram in n_grams]\n",
    "\n",
    "    for ng in ngrams_text:\n",
    "        if ng.lower() in collocation_phrases:\n",
    "            tokenized = ng.replace(' ', '_')\n",
    "            transformed_sentence = transformed_sentence.replace(ng, tokenized)\n",
    "\n",
    "    return transformed_sentence\n",
    "\n",
    "\n",
    "# aplicamos la transformacion a todas las oracioes\n",
    "opinion_sentences_transformed = [transform_sentence(sentence) for sentence in opinion_sentences]\n",
    "\n",
    "# ejemplo\n",
    "print(\"Oración original:\\n\", opinion_sentences[3])\n",
    "print(\"\\nTransformada:\\n\", opinion_sentences_transformed[3])"
   ]
  },
  {
   "cell_type": "markdown",
   "id": "b53930c4",
   "metadata": {
    "id": "b53930c4"
   },
   "source": [
    "#### 2.2.2\n",
    "\n",
    "<div style=\"background-color: #F8F7FF; border-color: #7C9DBF; border-left: 5px solid #7C9DBF; padding: 0.5em;\">\n",
    "\n",
    "<i>Segundo paso</i>: Crear una sentence stream donde todos los tokens de las oraciones estén lematizados. Los tokens no pueden ser stopwords ni tener un stopword al inicio o al final. Para simplificar la tarea, podemos considerar que el lema de una colocación no cambia y su PoS es 'col'. (e.g: ['We run a top of the line system utilizing Windows 10 Pro']  -> [run', 'top', 'line', 'system', 'utilize', 'window', 'pro]).\n",
    "<br>\n",
    "<b> Salida esperada:</b> Lista de los 10 primeros tokens lematizados (que no sean, ni contengan stopwords).\n",
    "\n",
    "</div>"
   ]
  },
  {
   "cell_type": "code",
   "execution_count": 62,
   "id": "9cfcef92",
   "metadata": {
    "id": "9cfcef92"
   },
   "outputs": [
    {
     "name": "stderr",
     "output_type": "stream",
     "text": [
      "  0%|          | 0/72229 [00:00<?, ?it/s]"
     ]
    },
    {
     "name": "stderr",
     "output_type": "stream",
     "text": [
      "100%|██████████| 72229/72229 [00:22<00:00, 3183.87it/s]"
     ]
    },
    {
     "name": "stdout",
     "output_type": "stream",
     "text": [
      "Ejemplo de oración lematizada sin stopwords:\n",
      "['good', 'material']\n",
      "['like', 'concept', 'study']\n",
      "['might', 'change', 'life', 'might', 'change', 'way', 'think', 'generation', 'solid', 'state', 'physic', 'student', 'include', 'bring', 'use', 'text', 'kitten']\n",
      "['also', 'teach', 'text', 'numerous_times']\n"
     ]
    },
    {
     "name": "stderr",
     "output_type": "stream",
     "text": [
      "\n"
     ]
    }
   ],
   "source": [
    "#############################################\n",
    "# SOLUCIÓN                                  #\n",
    "#############################################\n",
    "\n",
    "#Para obtener el lema, el término debe tener una etiqueta PoS. El formato de la etiqueta PoS de Wordnet es\n",
    "#distinto de la etiqueta del pos-tagger de NLTK\n",
    "\n",
    "\n",
    "lemmatizer = WordNetLemmatizer()\n",
    "tqdm.pandas()\n",
    "\n",
    "# convierte etiquetas PoS de nltk a formato wordnet\n",
    "def nltk2wordnet_pos(nltk_pos):\n",
    "    if nltk_pos.startswith('J'):\n",
    "        return wordnet.ADJ\n",
    "    elif nltk_pos.startswith('V'):\n",
    "        return wordnet.VERB\n",
    "    elif nltk_pos.startswith('N'):\n",
    "        return wordnet.NOUN\n",
    "    elif nltk_pos.startswith('R'):\n",
    "        return wordnet.ADV\n",
    "    else:\n",
    "        return wordnet.NOUN  # por defecto\n",
    "\n",
    "\n",
    "# lematizamos las oraciones ya transformadas\n",
    "sentence_stream = []\n",
    "\n",
    "for sentence in tqdm(opinion_sentences_transformed):\n",
    "    tokens = word_tokenize(sentence)\n",
    "    tagged = pos_tag(tokens)\n",
    "\n",
    "    lemmatized_tokens = []\n",
    "\n",
    "    for word, pos in tagged:\n",
    "        word_lower = word.lower()\n",
    "\n",
    "        # saltamos stopwords o tokens que contienen stopwords (al inicio/final)\n",
    "        if word_lower in stopwords_set:\n",
    "            continue\n",
    "        if '_' in word_lower:\n",
    "            parts = word_lower.split('_')\n",
    "            if parts[0] in stopwords_set or parts[-1] in stopwords_set:\n",
    "                continue\n",
    "            lemmatized_tokens.append(word_lower)  # las colocaciones las dejamos tal cual\n",
    "        else:\n",
    "            wordnet_pos = nltk2wordnet_pos(pos)\n",
    "            lemma = lemmatizer.lemmatize(word_lower, wordnet_pos)\n",
    "            if lemma not in stopwords_set:\n",
    "                lemmatized_tokens.append(lemma)\n",
    "\n",
    "    if lemmatized_tokens:\n",
    "        sentence_stream.append(lemmatized_tokens)\n",
    "\n",
    "\n",
    "# resultado\n",
    "print(\"Ejemplo de oración lematizada sin stopwords:\")\n",
    "for sentence in sentence_stream[:4]:\n",
    "    print(sentence)\n"
   ]
  },
  {
   "cell_type": "markdown",
   "id": "7b807880",
   "metadata": {
    "id": "7b807880"
   },
   "source": [
    "#### 2.2.3\n",
    "\n",
    "<div style=\"background-color: #F8F7FF; border-color: #7C9DBF; border-left: 5px solid #7C9DBF; padding: 0.5em;\">\n",
    "\n",
    "<i>Tercer paso</i>: Crear un modelo word2vec de las opiniones lematizadas. El modelo debe llamarse w2v_opinions.\n",
    "<br>\n",
    "<b> Salida esperada:</b> Presentar la cantidad de oraciones usadas en el modelo (usa el atributo *corpus_count*).\n",
    "</div>"
   ]
  },
  {
   "cell_type": "code",
   "execution_count": 64,
   "id": "b033b7ad",
   "metadata": {
    "id": "b033b7ad"
   },
   "outputs": [
    {
     "name": "stdout",
     "output_type": "stream",
     "text": [
      "Número de oraciones utilizadas en el modelo: 71760\n"
     ]
    }
   ],
   "source": [
    "#############################################\n",
    "# SOLUCIÓN                                   #\n",
    "#############################################\n",
    "# Entrenamos el modelo\n",
    "w2v_opinions = Word2Vec(\n",
    "    sentences=sentence_stream, # frases con tokens lematizados \n",
    "    vector_size=100,      # tamaño del vector de cada palabra\n",
    "    window=5,             # contexto (nº de palabras a izquierda y derecha)\n",
    "    min_count=5,          # ignora palabras con frecuencia menor\n",
    "    workers=4,            # núcleos de CPU para entrenamiento\n",
    "    sg=1,                 # skip-gram (mejor para corpus pequeños)\n",
    "    epochs=10             # número de pasadas por el corpus\n",
    ")\n",
    "print(f\"Número de oraciones utilizadas en el modelo: {w2v_opinions.corpus_count}\")\n"
   ]
  },
  {
   "cell_type": "markdown",
   "id": "00e07b3c",
   "metadata": {
    "id": "00e07b3c"
   },
   "source": [
    "#### 2.2.4\n",
    "\n",
    "<div style=\"background-color: #F8F7FF; border-color: #7C9DBF; border-left: 5px solid #7C9DBF; padding: 0.5em;\">\n",
    "\n",
    "<i>Cuarto paso</i>: A partir del vocabulario del modelo word2vec, seleccionar posibles aspectos de la reseña (e.g: desktop) y lista los términos semánticamente relacionados con estos aspectos según este modelo.\n",
    "<br>\n",
    "\n",
    "<b>Salida esperada:</b> Lista los primeros 20 términos que tengan mayor relación semántica con un término relevante del dominio.\n",
    "</div>"
   ]
  },
  {
   "cell_type": "code",
   "execution_count": 70,
   "id": "568d1445",
   "metadata": {
    "id": "568d1445"
   },
   "outputs": [],
   "source": [
    "#############################################\n",
    "# SOLUCIÓN                                  #\n",
    "#############################################\n",
    "# sleccionamos un tema relacionado con nustro dominio\n",
    "# comprobamos si esta en el vocabulario de nuestro modelo\n",
    "# vemos los 20 terminos mas relacionados según el espacio vectorial\n",
    "def check_related_terms(aspect):\n",
    "    if aspect in w2v_opinions.wv:\n",
    "        similar_terms = w2v_opinions.wv.most_similar(aspect, topn=20)\n",
    "        \n",
    "        print(f\"Términos similares a '{aspect}':\\n\")\n",
    "        for word, similarity in similar_terms:\n",
    "            print(f\"{word}: {similarity:.4f}\")\n",
    "    else:\n",
    "        print(f\"El término '{aspect}' no está en el vocabulario del modelo.\")\n"
   ]
  },
  {
   "cell_type": "code",
   "execution_count": 71,
   "id": "7bd46111",
   "metadata": {},
   "outputs": [
    {
     "name": "stdout",
     "output_type": "stream",
     "text": [
      "Términos similares a 'plot':\n",
      "\n",
      "storyline: 0.7206\n",
      "story_line: 0.6974\n",
      "plotting: 0.6558\n",
      "one_dimensional: 0.6427\n",
      "unimaginative: 0.6312\n",
      "soap_opera: 0.6309\n",
      "pacing: 0.6278\n",
      "characterization: 0.6262\n",
      "cardboard_characters: 0.6259\n",
      "sub_plots: 0.6216\n",
      "plot_development: 0.6203\n",
      "cohesive: 0.6185\n",
      "contrive: 0.6138\n",
      "plot_line: 0.6129\n",
      "uninteresting: 0.6121\n",
      "pace: 0.6120\n",
      "clicked: 0.6109\n",
      "flat: 0.6062\n",
      "battle_scenes: 0.6053\n",
      "clunky: 0.6045\n"
     ]
    }
   ],
   "source": [
    "check_related_terms(\"plot\")"
   ]
  },
  {
   "cell_type": "code",
   "execution_count": null,
   "id": "db81c429",
   "metadata": {},
   "outputs": [
    {
     "name": "stdout",
     "output_type": "stream",
     "text": [
      "Términos similares a 'must_read':\n",
      "\n",
      "would_recommend: 0.7723\n",
      "anyone_interested: 0.7507\n",
      "military_history: 0.7241\n",
      "avid: 0.7170\n",
      "strongly_recommend: 0.7093\n",
      "anyone_looking: 0.7021\n",
      "would_suggest: 0.6863\n",
      "thoroughly_enjoyed: 0.6824\n",
      "highly_recommend: 0.6806\n",
      "die_hard: 0.6783\n",
      "tree_grows: 0.6730\n",
      "collector: 0.6729\n",
      "wishing: 0.6683\n",
      "brooklyn: 0.6678\n",
      "amateur: 0.6655\n",
      "lulu: 0.6655\n",
      "two_thumbs: 0.6634\n",
      "huge_fan: 0.6631\n",
      "avid_reader: 0.6628\n",
      "buff: 0.6609\n"
     ]
    }
   ],
   "source": [
    "check_related_terms(\"must_read\")"
   ]
  },
  {
   "cell_type": "code",
   "execution_count": 74,
   "id": "55a9a4e4",
   "metadata": {},
   "outputs": [
    {
     "name": "stdout",
     "output_type": "stream",
     "text": [
      "Términos similares a 'boring':\n",
      "\n",
      "uneventful: 0.7752\n",
      "bore: 0.7580\n",
      "tedious: 0.7521\n",
      "pointless: 0.7419\n",
      "uninteresting: 0.7411\n",
      "dull: 0.7292\n",
      "mind_numbingly: 0.7053\n",
      "turgid: 0.7053\n",
      "plod: 0.7048\n",
      "downright: 0.7029\n",
      "wordy: 0.7024\n",
      "depressing: 0.7012\n",
      "repetitive: 0.7008\n",
      "talky: 0.7000\n",
      "stale: 0.6987\n",
      "confusing: 0.6963\n",
      "dreary: 0.6943\n",
      "overwritten: 0.6937\n",
      "extremely_boring: 0.6937\n",
      "predictable: 0.6914\n"
     ]
    }
   ],
   "source": [
    "check_related_terms(\"boring\")"
   ]
  },
  {
   "cell_type": "markdown",
   "id": "80090d4b",
   "metadata": {
    "id": "80090d4b"
   },
   "source": [
    "# 3. Detección de temas\n",
    "\n",
    "En esta parte nos dedicaremos a explorar los temas detectados utilizando WordNet y realizaremos la extracción de temas a partir de  LDA."
   ]
  },
  {
   "cell_type": "markdown",
   "id": "00bb679a",
   "metadata": {
    "id": "00bb679a"
   },
   "source": [
    "## 3.1 Exploración de los temas con WordNet\n",
    "\n",
    "Para acceder a Wordnet, utilizar la librería nltk."
   ]
  },
  {
   "cell_type": "markdown",
   "id": "7ccd9034",
   "metadata": {
    "id": "7ccd9034"
   },
   "source": [
    "### 3.1.1 \n",
    "\n",
    "<div style=\"background-color: #EDF7FF; border-color: #7C9DBF; border-left: 5px solid #7C9DBF; padding: 0.5em;\">\n",
    "\n",
    "<strong>Ejercicio 3.1.1:</strong> Comprobar si, según Wordnet, existen aspectos que están alejados semánticamente del sentido del target, aunque en el modelo word2vec sean similares. Comprobar calculando la similitud de Wu and Palmer entre el sentido de wordnet del término elegido, (i.e 'word.n.01') y algunos de sus aspectos.\n",
    "<br>\n",
    "<b> Salida esperada: </b>\n",
    "<br>\n",
    "- Lista de dos términos que según *Wordnet* no estén tan cercanos, y su respectivo score de similitud, y\n",
    "<br>\n",
    "- Lista de los mismos términos que según el modelo *word2vec* están más cercanos.\n",
    "\n",
    "</div>"
   ]
  },
  {
   "cell_type": "markdown",
   "id": "fb921d44",
   "metadata": {},
   "source": [
    "**Word2Vec** mide la similitud de uso contextual. Aprende que palabras aparecen cerca unas de otras en los textos, si dos palabras aparecen en contextos similares, sus vectores serán similares. No le importa el significado exacto de las palabras. Por ejemplo: \"plot\" y \"twist\" aparecen mucho en contextos similares por lo que para Word2Vec serían similares aunque \"twist\" también puede usarse para twisting a bottle cap, en este caso, Word2Vec no diferenciaría eso si solo ve texto plano. \n",
    "\n",
    "**WordNet** Es una base de datos semántica jerárquica de palabras en inglés. Organiza palabras como conceptos conectados por relaciones: sinónimos, hiperónimos, etc. Analiza los significados, no solo el uso. Por ejemplo: \n",
    "*\"plot.n.01\"* puede ser: “the story that is told in a novel or play” y *\"twist.n.01\"* puede ser: “an unexpected development in a story” (en este caso similar) pero también podría ser: “a sharp bend in a line or road” (en este caso no relacionado)\n",
    "\n",
    "**Wu & Palmer** Mide la similitud basada en la profundidad jerárquica común. Mide como de profundo y cercano es el ancestro común más específico entre dos significados y devuelve un valor entre cero y uno siendo uno el mismo significado (misma rama del árbol semántico) y cero que no están relacionados.\n",
    "\n",
    "Ejemplos:\n",
    "| Situación              | Word2Vec                                        | WordNet (Wu & Palmer)                                |\n",
    "|------------------------|------------------------------------------------|------------------------------------------------------|\n",
    "| \"plot\" vs \"twist\"  | Alta similitud (usan contexto parecido)        | Puede ser baja si WordNet elige sentidos diferentes |\n",
    "| \"character\" vs \"voice\" | Alta en Word2Vec (ambos en narrativa)       | Baja en WordNet (no son semánticamente cercanos)    |\n",
    "\n",
    "Como resumen, Word2Vec pordía ser mejor en contextos especificos y en un dominio controlado mientras que WordNet (Wu & Palmer)  Es bueno para palabras con muchos significados posibles o contextos amplios"
   ]
  },
  {
   "cell_type": "code",
   "execution_count": 87,
   "id": "30cfcb0f",
   "metadata": {
    "id": "30cfcb0f"
   },
   "outputs": [],
   "source": [
    "#############################################\n",
    "# SOLUCIÓN                                   #\n",
    "#############################################\n",
    "\n",
    "# función para comparar Wu-Palmer\n",
    "def wu_palmer_similarity(word1, word2):\n",
    "    # Obtenemos los primeros sentidos nominales\n",
    "    syn1 = wn.synsets(word1, pos=wn.NOUN)\n",
    "    syn2 = wn.synsets(word2, pos=wn.NOUN)\n",
    "\n",
    "    if syn1 and syn2:\n",
    "        return syn1[0].wup_similarity(syn2[0])\n",
    "    else:\n",
    "        return None\n",
    "\n",
    "\n",
    "# funcion para analizar la similitud semántica\n",
    "def check_semantic_similarity(target):\n",
    "    if target in w2v_opinions.wv:\n",
    "        print(f\"Analizando similitud con respecto a '{target}'...\")\n",
    "\n",
    "        similar_terms = w2v_opinions.wv.most_similar(target, topn=10)\n",
    "\n",
    "        distant_words = []\n",
    "        for word, sim_w2v in similar_terms:\n",
    "            sim_wup = wu_palmer_similarity(target, word)\n",
    "            if sim_wup is not None and sim_wup < 0.5:\n",
    "                distant_words.append((word, sim_wup, sim_w2v))\n",
    "\n",
    "        # 2 términos lejanos en WordNet pero cercanos en Word2Vec\n",
    "        print(\"\\nTérminos cercanos en Word2Vec pero distantes semánticamente (WordNet):\")\n",
    "        for word, wup, w2v in distant_words[:2]:\n",
    "            print(f\"- {word}: Wu-Palmer={wup:.2f}, Word2Vec={w2v:.2f}\")\n",
    "    else:\n",
    "        print(f\"El término '{target}' no está en el vocabulario.\")\n"
   ]
  },
  {
   "cell_type": "code",
   "execution_count": null,
   "id": "d2488609",
   "metadata": {},
   "outputs": [
    {
     "name": "stdout",
     "output_type": "stream",
     "text": [
      "Analizando similitud con respecto a 'plot'...\n",
      "\n",
      "Términos cercanos en Word2Vec pero distantes semánticamente (WordNet):\n",
      "- storyline: Wu-Palmer=0.20, Word2Vec=0.72\n",
      "- soap_opera: Wu-Palmer=0.32, Word2Vec=0.63\n"
     ]
    }
   ],
   "source": [
    "check_semantic_similarity(\"plot\")"
   ]
  },
  {
   "cell_type": "code",
   "execution_count": 91,
   "id": "9a5f1d1f",
   "metadata": {},
   "outputs": [
    {
     "name": "stdout",
     "output_type": "stream",
     "text": [
      "Analizando similitud con respecto a 'hero'...\n",
      "\n",
      "Términos cercanos en Word2Vec pero distantes semánticamente (WordNet):\n",
      "- heroine: Wu-Palmer=0.12, Word2Vec=0.73\n",
      "- attraction: Wu-Palmer=0.29, Word2Vec=0.67\n"
     ]
    }
   ],
   "source": [
    "check_semantic_similarity(\"hero\")"
   ]
  },
  {
   "cell_type": "code",
   "execution_count": 92,
   "id": "c67d6bd7",
   "metadata": {},
   "outputs": [
    {
     "name": "stdout",
     "output_type": "stream",
     "text": [
      "Analizando similitud con respecto a 'narrative'...\n",
      "\n",
      "Términos cercanos en Word2Vec pero distantes semánticamente (WordNet):\n",
      "- first_person: Wu-Palmer=0.31, Word2Vec=0.70\n",
      "- chronology: Wu-Palmer=0.40, Word2Vec=0.69\n"
     ]
    }
   ],
   "source": [
    "check_semantic_similarity(\"narrative\")"
   ]
  },
  {
   "cell_type": "markdown",
   "id": "ef70f3f4",
   "metadata": {},
   "source": [
    "Al comparar la similitud semántica entre términos usando Word2Vec y WordNet, podemos ver que algunos conceptos pueden estar fuertemente relacionados en el uso contextual, pero distantes en la estructura semántica jerárquica de WordNet. \n",
    "\n",
    "Por ejemplo, \"storyline\" y \"soap_opera\" tienen una alta similitud con \"plot\" en Word2Vec (0.72 y 0.63 respectivamente), esto indica que aparecen frecuentemente juntos en las reseñas; sin embargo, su similitud Wu & Palmer es baja (0.20 y 0.32), esto indica que WordNet no los considera cercanos semánticamente en su jerarquía de significados. \n",
    "\n",
    "De forma similar, \"heroine\" y \"attraction\" son términos que aparecen próximos a \"hero\" en el espacio vectorial (0.73 y 0.67), pero sus puntuaciones en WordNet (0.12 y 0.29) muestran una mayor distancia semántica. \n",
    "\n",
    "Estos ejemplos muestran cómo modelos basados en corpus como Word2Vec capturan asociaciones de uso, mientras que WordNet refleja relaciones más conceptuales."
   ]
  },
  {
   "cell_type": "markdown",
   "id": "3209e5cc",
   "metadata": {
    "id": "3209e5cc"
   },
   "source": [
    "### 3.1.2\n",
    "\n",
    "<div style=\"background-color: #EDF7FF; border-color: #7C9DBF; border-left: 5px solid #7C9DBF; padding: 0.5em;\">\n",
    "\n",
    "<strong>Ejercicio 3.1.2:</strong> Identificar a los términos monopalabra del vocabulario de word2vec que no están en Wordnet. Filtrar a los términos que sean nombres o adjetivos.\n",
    "\n",
    "Del conjunto de términos identificados, mencionar a:\n",
    "- Abreviaturas o términos específicos del dominio o expresiones típicas de la jerga tech.<br>\n",
    "\n",
    "<b>Salida esperada:</b>\n",
    "<br>\n",
    "- Cantidad de términos que no constan en *Wordnet*.\n",
    "- Lista de los 20 primeros terminos monopalabra que no constan en <i>Wordnet</i>.\n",
    "- Lista de al menos 3 términos de los enlistados que, sean inherentes al vocabulario software.\n",
    "</div>"
   ]
  },
  {
   "cell_type": "code",
   "execution_count": 104,
   "id": "1bda3fa5",
   "metadata": {},
   "outputs": [
    {
     "name": "stderr",
     "output_type": "stream",
     "text": [
      "100%|██████████| 10680/10680 [00:00<00:00, 201198.19it/s]"
     ]
    },
    {
     "name": "stdout",
     "output_type": "stream",
     "text": [
      "\n",
      "Número de términos monopalabra que no están en WordNet (sustantivo o adjetivo): 2205\n",
      "\n",
      "Primeros 20 términos que no constan en WordNet:\n",
      "quit, would, write, could, also, really, seem, never, however, become, enjoy, something, believe, understand, anyone, learn, without, since, actually, happen\n",
      "\n",
      "Términos del ámbito software detectados:\n",
      "debug\n"
     ]
    },
    {
     "name": "stderr",
     "output_type": "stream",
     "text": [
      "\n"
     ]
    }
   ],
   "source": [
    "#############################################\n",
    "# SOLUCIÓN                                  #\n",
    "#############################################\n",
    "\n",
    "# vocabulario del modelo\n",
    "vocab = list(w2v_opinions.wv.key_to_index.keys())\n",
    "\n",
    "# filtramos solo términos monopalabra (sin \"_\", solo alfabéticos)\n",
    "single_words = [word for word in vocab if '_' not in word and word.isalpha()]\n",
    "\n",
    "# verificamos si NO están en WordNet como sustantivo o adjetivo\n",
    "not_in_wordnet = []\n",
    "\n",
    "for word in tqdm(single_words):\n",
    "    synsets_noun = wn.synsets(word, pos=wn.NOUN)\n",
    "    synsets_adj = wn.synsets(word, pos=wn.ADJ)\n",
    "    if not synsets_noun and not synsets_adj:\n",
    "        not_in_wordnet.append(word)\n",
    "\n",
    "# resultados\n",
    "print(f\"\\nNúmero de términos monopalabra que no están en WordNet (sustantivo o adjetivo): {len(not_in_wordnet)}\")\n",
    "\n",
    "print(\"\\nPrimeros 20 términos que no constan en WordNet:\")\n",
    "print(', '.join(not_in_wordnet[:20]))\n",
    "\n",
    "# términos técnicos o del ámbito software\n",
    "tech_terms_reference = {\n",
    "    'screenshot', 'plugin', 'game', 'ui', 'server', 'html',\n",
    "    'software', 'debug', 'login', 'update', 'interface', 'cli',\n",
    "    'backend', 'frontend', 'app', 'http', 'url', 'endpoint'\n",
    "}\n",
    "\n",
    "tech_related = [w for w in not_in_wordnet if w.lower() in tech_terms_reference]\n",
    "\n",
    "print(\"\\nTérminos del ámbito software detectados:\")\n",
    "print(', '.join(tech_related[:3] if len(tech_related) >= 3 else tech_related))"
   ]
  },
  {
   "cell_type": "markdown",
   "id": "147ffc89",
   "metadata": {},
   "source": [
    "Se han identificado 2205 términos monopalabra que no están registrados en WordNet como sustantivos o adjetivos. Entre ellos, destacan palabras de uso común como write, learn o understand, que sí existen en WordNet, pero únicamente como verbos, y por tanto fueron excluidas bajo el criterio del ejercicio."
   ]
  },
  {
   "cell_type": "code",
   "execution_count": null,
   "id": "d2361f63",
   "metadata": {},
   "outputs": [
    {
     "name": "stdout",
     "output_type": "stream",
     "text": [
      "could: []\n",
      "something: []\n",
      "debug: [Synset('debug.v.01')]\n",
      "write: [Synset('write.v.01'), Synset('write.v.02'), Synset('publish.v.03'), Synset('write.v.04'), Synset('write.v.05'), Synset('compose.v.02'), Synset('write.v.07'), Synset('write.v.08'), Synset('spell.v.03'), Synset('write.v.10')]\n"
     ]
    }
   ],
   "source": [
    "print(\"could:\", wn.synsets('could'))\n",
    "print(\"something:\", wn.synsets('something'))\n",
    "print(\"debug:\", wn.synsets('debug'))\n",
    "print(\"write:\", wn.synsets('write'))\n"
   ]
  },
  {
   "cell_type": "markdown",
   "id": "2bb84d18",
   "metadata": {},
   "source": [
    "Nuestro priemr análisis identificó 2.205 términos monopalabra del vocabulario Word2Vec que no están registrados en WordNet como sustantivos o adjetivos, según el criterio del ejercicio. \n",
    "\n",
    "Al revisar los primeros términos obtenidos —como \"quit\", \"would\", \"write\", \"could\", \"also\", \"really\", entre otros— podemos ver que muchos de ellos sí existen en WordNet, pero bajo otras categorías gramaticales, como verbos o adverbios.\n",
    "\n",
    "Por ejemplo:\n",
    "- write sí tiene múltiples entradas en WordNet, pero exclusivamente como verbo (write.v.01, publish.v.03, etc.).\n",
    "- debug también está presente como verbo (debug.v.01), pero no como sustantivo ni adjetivo.\n",
    "\n",
    "En cambio, could y something no están en WordNet en absoluto, ya que WordNet no cubre verbos modales, pronombres ni muchos términos funcionales del lenguaje."
   ]
  },
  {
   "cell_type": "markdown",
   "id": "f5f788a4",
   "metadata": {
    "id": "f5f788a4"
   },
   "source": [
    "## 3.2. LDA\n",
    "\n",
    "Este apartado tiene como objetivo comparar distintos modelos LDA y elegir el más adecuado de forma justificada.\n",
    "\n",
    "<b>Pasos a seguir:</b>\n",
    "\n",
    "1. Convertir las opiniones transformadas en listas de nombres y colocaciones.\n",
    "2. Extraer temas a partir de las listas de nombres y colocaciones de cada oración transformada. Elegir 3 de los mejores experimentos, según el parámetro *num_topics*, y presentar los resultados. Asigna nombres a los temas encontrados.\n",
    "3. Utilizar la librería pyLDAvis para visualizar los tópicos del mejor modelo que encontraste."
   ]
  },
  {
   "cell_type": "markdown",
   "id": "1c6825ff",
   "metadata": {
    "id": "1c6825ff"
   },
   "source": [
    "#### 3.2.0\n",
    "\n",
    "<i>Primer paso</i>: Convertir las opiniones transformadas (opinion_sentences_transformed) en listas de nombres y colocaciones. Esto es necesario ya que los nombres y las colocaciones expresan los temas de las opiniones (e.g: [['This is a one of the best_apps according to the people opinions'] -> ['one', 'best_apps', 'according', 'people', 'opinion'].\n",
    "\n",
    "<b>Importante:</b> El siguiente código puede ser tomado como referencia para implementar este primer paso:\n",
    "\n",
    "- opinion_sentences_transformed es el objeto creado en el primer paso del Ejercicio 2.2.1."
   ]
  },
  {
   "cell_type": "code",
   "execution_count": null,
   "id": "76ad1379",
   "metadata": {
    "id": "76ad1379"
   },
   "outputs": [],
   "source": [
    "#lem = WordNetLemmatizer()\n",
    "\n",
    "#def get_noun_and_collocation(sentence):\n",
    "#    nouns_and_collocations = []\n",
    "#    noun_tags = ['NN', 'NNS']\n",
    "#    tokens_pos_tagged = pos_tag(word_tokenize(sentence))\n",
    "#    for tpos in tokens_pos_tagged:\n",
    "#        lemma = lem.lemmatize(tpos[0]).lower()\n",
    "#        if '_' in lemma:\n",
    "#            nouns_and_collocations.append(lemma)\n",
    "#        elif tpos[1] in noun_tags and tpos[0] not in stopwords:\n",
    "#            nouns_and_collocations.append(lemma)\n",
    "#    return nouns_and_collocations\n",
    "\n",
    "#noun_and_collocation_stream = [get_noun_and_collocation(opinion) for opinion in opinion_sentences_transformed]\n",
    "\n",
    "#noun_and_collocation_stream[:15]\n"
   ]
  },
  {
   "cell_type": "code",
   "execution_count": 112,
   "id": "385edfec",
   "metadata": {},
   "outputs": [
    {
     "name": "stderr",
     "output_type": "stream",
     "text": [
      "100%|██████████| 72229/72229 [00:22<00:00, 3185.43it/s]"
     ]
    },
    {
     "name": "stdout",
     "output_type": "stream",
     "text": [
      "Original: good material \n",
      "Nombres y colocaciones: ['material']\n",
      "Original: i like the concept of the study \n",
      "Nombres y colocaciones: ['concept', 'study']\n",
      "Original: might not change your life but might change your way of thinking generations of solid state physics students including myself have been brought up using this text by kitten \n",
      "Nombres y colocaciones: ['life', 'way', 'generation', 'state', 'physic', 'student', 'text', 'kitten']\n",
      "Original: i have also taught from this text numerous_times \n",
      "Nombres y colocaciones: ['text', 'numerous_times']\n",
      "Original: poor poor students the text contains all the requisite material but its explanations are murky and it it slips major concepts by without making them clear \n",
      "Nombres y colocaciones: ['student', 'text', 'material', 'explanation', 'concept']\n"
     ]
    },
    {
     "name": "stderr",
     "output_type": "stream",
     "text": [
      "\n"
     ]
    }
   ],
   "source": [
    "lemmatizer = WordNetLemmatizer()\n",
    "noun_tags = {'NN', 'NNS'}\n",
    "\n",
    "def get_noun_and_collocation(sentence):\n",
    "    nouns_and_collocations = []\n",
    "    tokens_pos = pos_tag(word_tokenize(sentence))\n",
    "\n",
    "    for token, tag in tokens_pos:\n",
    "        token = token.lower()\n",
    "        if '_' in token:\n",
    "            nouns_and_collocations.append(token)  # es colocación\n",
    "        elif tag in noun_tags and token not in stopwords_set:\n",
    "            lemma = lemmatizer.lemmatize(token, pos='n')\n",
    "            nouns_and_collocations.append(lemma)\n",
    "    \n",
    "    return nouns_and_collocations\n",
    "\n",
    "# aplicamos la función a todas las oraciones transformadas\n",
    "noun_and_collocation_stream = [get_noun_and_collocation(sent) for sent in tqdm(opinion_sentences_transformed)]\n",
    "\n",
    "# resultados\n",
    "for i in range(5):\n",
    "    print(f\"Original: {opinion_sentences_transformed[i]}\")\n",
    "    print(f\"Nombres y colocaciones: {noun_and_collocation_stream[i]}\")"
   ]
  },
  {
   "cell_type": "markdown",
   "id": "eef21d0c",
   "metadata": {
    "id": "eef21d0c"
   },
   "source": [
    "#### 3.2.1\n",
    "\n",
    "<div style=\"background-color: #EDF7FF; border-color: #7C9DBF; border-left: 5px solid #7C9DBF; padding: 0.5em;\">\n",
    "\n",
    "<strong>Ejercicio 3.2.1:</strong> Extraer temas a partir de las listas de nombres y colocaciones de cada oración transformada. Además, utiliza la librería pyLDAvis para visualizar los tópicos del mejor modelo que encontraste.\n",
    "\n",
    "<b>Salida esperada:</b>\n",
    "- De 3 de los mejores experimentos, y por cada uno, imprime las 10 palabras que más se destaquen de cada tópico.\n",
    "- Visualización del mejor experimento, usando pyLDAvis.\n",
    "\n",
    "</div>\n"
   ]
  },
  {
   "cell_type": "code",
   "execution_count": 130,
   "id": "ef272a2c",
   "metadata": {},
   "outputs": [],
   "source": [
    "import gensim.corpora as corpora\n",
    "from gensim.models import LdaModel"
   ]
  },
  {
   "cell_type": "code",
   "execution_count": 115,
   "id": "82b4492c",
   "metadata": {},
   "outputs": [],
   "source": [
    "# Creamos diccionario y corpus para LDA\n",
    "id2word = corpora.Dictionary(noun_and_collocation_stream)\n",
    "corpus = [id2word.doc2bow(text) for text in noun_and_collocation_stream]"
   ]
  },
  {
   "cell_type": "code",
   "execution_count": null,
   "id": "3284e474",
   "metadata": {
    "id": "3284e474"
   },
   "outputs": [
    {
     "name": "stdout",
     "output_type": "stream",
     "text": [
      "Tópicos del modelo con 5 tópicos:\n",
      "\n",
      "- Tópico 1: 0.048*\"time\" + 0.043*\"quit\" + 0.027*\"novel\" + 0.019*\"page\" + 0.015*\"year\" + 0.015*\"fact\" + 0.013*\"part\" + 0.011*\"review\" + 0.010*\"clouseau\" + 0.009*\"money\"\n",
      "- Tópico 2: 0.017*\"love\" + 0.015*\"read\" + 0.015*\"father\" + 0.011*\"son\" + 0.011*\"others\" + 0.011*\"mother\" + 0.011*\"tale\" + 0.010*\"question\" + 0.010*\"relationship\" + 0.009*\"death\"\n",
      "- Tópico 3: 0.212*\"book\" + 0.025*\"life\" + 0.010*\"child\" + 0.010*\"lot\" + 0.009*\"history\" + 0.009*\"family\" + 0.008*\"one\" + 0.008*\"anyone\" + 0.007*\"problem\" + 0.006*\"movie\"\n",
      "- Tópico 4: 0.038*\"work\" + 0.015*\"eye\" + 0.014*\"writing\" + 0.013*\"edition\" + 0.010*\"mystery\" + 0.009*\"art\" + 0.007*\"hobbit\" + 0.007*\"translation\" + 0.006*\"crime\" + 0.006*\"introduction\"\n",
      "- Tópico 5: 0.043*\"story\" + 0.029*\"character\" + 0.022*\"author\" + 0.022*\"people\" + 0.020*\"way\" + 0.019*\"reader\" + 0.018*\"world\" + 0.015*\"thing\" + 0.011*\"word\" + 0.011*\"point\"\n"
     ]
    }
   ],
   "source": [
    "#Experimento 1: con n1 tópicos:\n",
    "\n",
    "#############################################\n",
    "# SOLUCIÓN                                 #\n",
    "#############################################\n",
    "\n",
    "lda_5 = LdaModel(\n",
    "    corpus=corpus,\n",
    "    id2word=id2word,\n",
    "    num_topics=5,\n",
    "    random_state=42,\n",
    "    passes=10,\n",
    "    alpha='auto',\n",
    "    per_word_topics=True\n",
    ")\n",
    "\n",
    "print(\"Tópicos del modelo con 5 tópicos:\\n\")\n",
    "for idx, topic in lda_5.print_topics(num_words=10):\n",
    "    print(f\"- Tópico {idx + 1}: {topic}\")"
   ]
  },
  {
   "cell_type": "code",
   "execution_count": 152,
   "id": "0qiR1Dm4axdi",
   "metadata": {
    "id": "0qiR1Dm4axdi"
   },
   "outputs": [
    {
     "name": "stdout",
     "output_type": "stream",
     "text": [
      "\n",
      "Tópicos del modelo con 7 tópicos:\n",
      "\n",
      "- Tópico 1: 0.069*\"time\" + 0.039*\"novel\" + 0.036*\"world\" + 0.027*\"work\" + 0.022*\"word\" + 0.014*\"clouseau\" + 0.012*\"place\" + 0.010*\"view\" + 0.009*\"son\" + 0.009*\"restaurant\"\n",
      "- Tópico 2: 0.024*\"family\" + 0.021*\"love\" + 0.018*\"father\" + 0.015*\"war\" + 0.014*\"experience\" + 0.013*\"tale\" + 0.013*\"description\" + 0.012*\"relationship\" + 0.011*\"society\" + 0.011*\"number\"\n",
      "- Tópico 3: 0.018*\"mr\" + 0.016*\"sense\" + 0.015*\"mother\" + 0.013*\"power\" + 0.012*\"death\" + 0.010*\"brother\" + 0.008*\"career\" + 0.008*\"narrator\" + 0.008*\"camp\" + 0.008*\"soul\"\n",
      "- Tópico 4: 0.118*\"story\" + 0.080*\"character\" + 0.027*\"plot\" + 0.017*\"writer\" + 0.016*\"someone\" + 0.016*\"course\" + 0.015*\"eye\" + 0.014*\"writing\" + 0.012*\"action\" + 0.010*\"mystery\"\n",
      "- Tópico 5: 0.055*\"way\" + 0.028*\"man\" + 0.019*\"woman\" + 0.014*\"men\" + 0.013*\"name\" + 0.011*\"nature\" + 0.011*\"hand\" + 0.009*\"aspect\" + 0.009*\"dr\" + 0.008*\"hour\"\n",
      "- Tópico 6: 0.086*\"quit\" + 0.019*\"problem\" + 0.013*\"bit\" + 0.013*\"god\" + 0.012*\"language\" + 0.010*\"theory\" + 0.010*\"cuisine\" + 0.010*\"valley\" + 0.009*\"business\" + 0.009*\"success\"\n",
      "- Tópico 7: 0.177*\"book\" + 0.021*\"life\" + 0.020*\"author\" + 0.019*\"people\" + 0.016*\"reader\" + 0.013*\"thing\" + 0.012*\"page\" + 0.009*\"point\" + 0.009*\"year\" + 0.009*\"fact\"\n"
     ]
    }
   ],
   "source": [
    "#Experimento 2: con n2 tópicos:\n",
    "\n",
    "#############################################\n",
    "# SOLUCIÓN                                 #\n",
    "#############################################\n",
    "\n",
    "lda_7 = LdaModel(\n",
    "    corpus=corpus,\n",
    "    id2word=id2word,\n",
    "    num_topics=7,\n",
    "    random_state=42,\n",
    "    passes=10,\n",
    "    alpha='auto',\n",
    "    per_word_topics=True\n",
    ")\n",
    "\n",
    "print(\"\\nTópicos del modelo con 7 tópicos:\\n\")\n",
    "for idx, topic in lda_7.print_topics(num_words=10):\n",
    "    print(f\"- Tópico {idx + 1}: {topic}\")"
   ]
  },
  {
   "cell_type": "code",
   "execution_count": 153,
   "id": "vj-uBeYebAp1",
   "metadata": {
    "id": "vj-uBeYebAp1"
   },
   "outputs": [
    {
     "name": "stdout",
     "output_type": "stream",
     "text": [
      "\n",
      "Tópicos del modelo con 10 tópicos:\n",
      "\n",
      "- Tópico 1: 0.142*\"time\" + 0.046*\"word\" + 0.025*\"read\" + 0.024*\"place\" + 0.022*\"mr\" + 0.020*\"edition\" + 0.016*\"today\" + 0.015*\"event\" + 0.014*\"valley\" + 0.011*\"need\"\n",
      "- Tópico 2: 0.094*\"life\" + 0.041*\"year\" + 0.032*\"family\" + 0.023*\"friend\" + 0.019*\"experience\" + 0.017*\"tale\" + 0.015*\"relationship\" + 0.015*\"knowledge\" + 0.014*\"theory\" + 0.014*\"number\"\n",
      "- Tópico 3: 0.072*\"novel\" + 0.027*\"anyone\" + 0.022*\"father\" + 0.021*\"course\" + 0.018*\"sense\" + 0.016*\"mother\" + 0.016*\"home\" + 0.014*\"beginning\" + 0.013*\"country\" + 0.011*\"issue\"\n",
      "- Tópico 4: 0.164*\"story\" + 0.027*\"love\" + 0.024*\"writer\" + 0.022*\"someone\" + 0.019*\"writing\" + 0.017*\"god\" + 0.017*\"action\" + 0.016*\"fiction\" + 0.016*\"use\" + 0.014*\"blackwood\"\n",
      "- Tópico 5: 0.071*\"way\" + 0.035*\"man\" + 0.035*\"plot\" + 0.028*\"day\" + 0.025*\"woman\" + 0.019*\"men\" + 0.015*\"description\" + 0.014*\"hand\" + 0.013*\"society\" + 0.012*\"aspect\"\n",
      "- Tópico 6: 0.123*\"quit\" + 0.043*\"point\" + 0.041*\"something\" + 0.027*\"problem\" + 0.021*\"view\" + 0.017*\"language\" + 0.015*\"piece\" + 0.015*\"text\" + 0.014*\"literature\" + 0.013*\"type\"\n",
      "- Tópico 7: 0.236*\"book\" + 0.034*\"character\" + 0.026*\"author\" + 0.025*\"people\" + 0.022*\"reader\" + 0.018*\"thing\" + 0.016*\"work\" + 0.016*\"page\" + 0.012*\"fact\" + 0.011*\"child\"\n",
      "- Tópico 8: 0.031*\"history\" + 0.023*\"money\" + 0.018*\"war\" + 0.018*\"fan\" + 0.018*\"reason\" + 0.016*\"restaurant\" + 0.015*\"adventure\" + 0.013*\"interest\" + 0.013*\"chef\" + 0.013*\"rest\"\n",
      "- Tópico 9: 0.036*\"one\" + 0.023*\"mind\" + 0.023*\"detail\" + 0.021*\"case\" + 0.018*\"nature\" + 0.018*\"question\" + 0.017*\"death\" + 0.016*\"result\" + 0.014*\"thought\" + 0.013*\"study\"\n",
      "- Tópico 10: 0.082*\"world\" + 0.026*\"person\" + 0.020*\"account\" + 0.018*\"copy\" + 0.017*\"power\" + 0.016*\"subject\" + 0.014*\"dr\" + 0.014*\"picture\" + 0.014*\"success\" + 0.014*\"daughter\"\n"
     ]
    }
   ],
   "source": [
    "#Experimento 3: con n3 tópicos:\n",
    "\n",
    "#############################################\n",
    "# SOLUCIÓN                                 #\n",
    "#############################################\n",
    "\n",
    "lda_10 = LdaModel(\n",
    "    corpus=corpus,\n",
    "    id2word=id2word,\n",
    "    num_topics=10,\n",
    "    random_state=42,\n",
    "    passes=10,\n",
    "    alpha='auto',\n",
    "    per_word_topics=True\n",
    ")\n",
    "\n",
    "print(\"\\nTópicos del modelo con 10 tópicos:\\n\")\n",
    "for idx, topic in lda_10.print_topics(num_words=10):\n",
    "    print(f\"- Tópico {idx + 1}: {topic}\")"
   ]
  },
  {
   "cell_type": "markdown",
   "id": "153c549e-7fbb-47b3-88a0-ed7ba24ce913",
   "metadata": {
    "id": "153c549e-7fbb-47b3-88a0-ed7ba24ce913"
   },
   "source": [
    "Usa la librería pyLDAvis para visualizar los tópicos del mejor modelo encontrado. Para determinar el mejor modelo calcularemos la coherencia: "
   ]
  },
  {
   "cell_type": "code",
   "execution_count": null,
   "id": "ed82a840",
   "metadata": {},
   "outputs": [],
   "source": [
    "# para determinar el mejor modelo calculamos la coherencia para cada uno:\n",
    "coherence_5 = CoherenceModel(model=lda_5, texts=noun_and_collocation_stream, dictionary=id2word, coherence='c_v').get_coherence()\n",
    "coherence_7 = CoherenceModel(model=lda_7, texts=noun_and_collocation_stream, dictionary=id2word, coherence='c_v').get_coherence()\n",
    "coherence_10 = CoherenceModel(model=lda_10, texts=noun_and_collocation_stream, dictionary=id2word, coherence='c_v').get_coherence()\n"
   ]
  },
  {
   "cell_type": "code",
   "execution_count": 138,
   "id": "3e5d5a92",
   "metadata": {},
   "outputs": [
    {
     "name": "stdout",
     "output_type": "stream",
     "text": [
      "Coherencia modelo 5 tópicos: 0.2946\n",
      "Coherencia modelo 7 tópicos: 0.3477\n",
      "Coherencia modelo 10 tópicos: 0.3039\n"
     ]
    }
   ],
   "source": [
    "print(f\"Coherencia modelo 5 tópicos: {coherence_5:.4f}\")\n",
    "print(f\"Coherencia modelo 7 tópicos: {coherence_7:.4f}\")\n",
    "print(f\"Coherencia modelo 10 tópicos: {coherence_10:.4f}\")"
   ]
  },
  {
   "cell_type": "code",
   "execution_count": 136,
   "id": "bd0176bf-8795-49b8-9f7c-eda69c3b3842",
   "metadata": {
    "id": "bd0176bf-8795-49b8-9f7c-eda69c3b3842"
   },
   "outputs": [
    {
     "data": {
      "text/html": [
       "\n",
       "<link rel=\"stylesheet\" type=\"text/css\" href=\"https://cdn.jsdelivr.net/gh/bmabey/pyLDAvis@3.4.0/pyLDAvis/js/ldavis.v1.0.0.css\">\n",
       "\n",
       "\n",
       "<div id=\"ldavis_el1134151894352162163882753\" style=\"background-color:white;\"></div>\n",
       "<script type=\"text/javascript\">\n",
       "\n",
       "var ldavis_el1134151894352162163882753_data = {\"mdsDat\": {\"x\": [-0.43492765813732065, 0.07123142714576705, 0.07502947476766862, 0.06914765885152091, 0.07349009810245011, 0.07304812866860366, 0.07298087060131014], \"y\": [0.0011085240222455709, -0.4055120965191953, 0.08753445156956209, 0.09776226838901178, 0.08649858844077478, 0.07405647615794976, 0.0585517879396515], \"topics\": [1, 2, 3, 4, 5, 6, 7], \"cluster\": [1, 1, 1, 1, 1, 1, 1], \"Freq\": [35.77444884760704, 14.618690913076973, 10.647318548602795, 10.374002308127297, 10.31593321224999, 9.785794757500968, 8.483811412834935]}, \"tinfo\": {\"Term\": [\"book\", \"story\", \"quit\", \"time\", \"character\", \"way\", \"novel\", \"world\", \"life\", \"work\", \"author\", \"people\", \"man\", \"plot\", \"word\", \"reader\", \"family\", \"thing\", \"love\", \"woman\", \"problem\", \"page\", \"father\", \"clouseau\", \"writer\", \"someone\", \"mr\", \"course\", \"war\", \"eye\", \"book\", \"life\", \"author\", \"people\", \"reader\", \"thing\", \"page\", \"point\", \"year\", \"fact\", \"something\", \"child\", \"lot\", \"part\", \"series\", \"history\", \"end\", \"idea\", \"day\", \"one\", \"review\", \"chapter\", \"nothing\", \"anyone\", \"example\", \"money\", \"movie\", \"information\", \"read\", \"friend\", \"time\", \"novel\", \"world\", \"work\", \"word\", \"place\", \"view\", \"son\", \"restaurant\", \"fiction\", \"today\", \"interest\", \"event\", \"piece\", \"literature\", \"blackwood\", \"clouseau\", \"art\", \"food\", \"effort\", \"line\", \"argument\", \"need\", \"heart\", \"list\", \"side\", \"meaning\", \"state\", \"philosophy\", \"situation\", \"result\", \"way\", \"man\", \"woman\", \"men\", \"name\", \"nature\", \"hand\", \"aspect\", \"dr\", \"hour\", \"night\", \"research\", \"main_character\", \"mob_dick\", \"master\", \"form\", \"et\", \"chance\", \"service\", \"sea\", \"company\", \"stuff\", \"christian\", \"party\", \"fear\", \"twist\", \"turn\", \"article\", \"paul\", \"car\", \"story\", \"character\", \"plot\", \"writer\", \"someone\", \"course\", \"eye\", \"writing\", \"action\", \"mystery\", \"subject\", \"scene\", \"theme\", \"boy\", \"collection\", \"truth\", \"horse\", \"light\", \"dialogue\", \"card\", \"law\", \"professor\", \"storyline\", \"romance\", \"role\", \"effect\", \"world_war\", \"understanding\", \"depth\", \"mistake\", \"bernard\", \"quit\", \"problem\", \"bit\", \"god\", \"language\", \"theory\", \"valley\", \"business\", \"cuisine\", \"thought\", \"success\", \"body\", \"student\", \"change\", \"reality\", \"concept\", \"explanation\", \"system\", \"culture\", \"crime\", \"dream\", \"earth\", \"technique\", \"sentence\", \"religion\", \"animal\", \"answer\", \"element\", \"spirit\", \"science\", \"family\", \"love\", \"father\", \"war\", \"experience\", \"tale\", \"description\", \"relationship\", \"society\", \"number\", \"country\", \"daughter\", \"study\", \"girl\", \"fantasy\", \"hobbit\", \"translation\", \"even_though\", \"group\", \"wife\", \"belief\", \"city\", \"feeling\", \"lack\", \"game\", \"respect\", \"process\", \"method\", \"new_york\", \"right\", \"mr\", \"sense\", \"mother\", \"power\", \"death\", \"brother\", \"career\", \"narrator\", \"camp\", \"soul\", \"humor\", \"husband\", \"evidence\", \"water\", \"baby\", \"high_school\", \"color\", \"week\", \"cooking\", \"sister\", \"content\", \"smith\", \"one_day\", \"personality\", \"rating\", \"center\", \"development\", \"battle\", \"brain\", \"head\", \"troisgros\"], \"Freq\": [21851.0, 4231.0, 3055.0, 3475.0, 2854.0, 2019.0, 1962.0, 1805.0, 2621.0, 1364.0, 2433.0, 2308.0, 1012.0, 977.0, 1120.0, 2031.0, 826.0, 1622.0, 707.0, 706.0, 658.0, 1450.0, 601.0, 727.0, 607.0, 578.0, 519.0, 565.0, 515.0, 523.0, 21850.891376467676, 2620.8885706509254, 2432.930658642678, 2308.0025631840995, 2030.5197176756571, 1621.2111290682042, 1450.0716887293825, 1157.4712384741722, 1150.767119145218, 1142.5803547285068, 1094.0594188598284, 1053.9756282500107, 1013.0459408959581, 993.3398200828037, 946.2091295828413, 942.3107687827289, 917.3370025822563, 875.3131624333693, 862.2499439817993, 860.9615737539029, 851.5716604785041, 851.249266430837, 818.1422001632039, 807.154558495537, 703.2592577527146, 691.5859975358675, 667.9914507587687, 667.2270426418295, 662.0595495913711, 651.5130031641977, 3474.2884476370937, 1962.1817674554447, 1804.243488536975, 1363.7385493727752, 1119.3296104568471, 587.364590102589, 514.5561836223851, 464.48254608595573, 456.11294914424496, 424.93067415247793, 383.23461220117366, 381.35350621663804, 376.81016159069827, 376.3957179985165, 351.26721523083097, 368.1508460266515, 725.5070568455786, 307.0157345934825, 293.0126756694414, 285.940922412075, 274.37456465339153, 272.9762604618205, 266.6108518126117, 262.8550696914685, 239.68140496010702, 237.53050349517312, 236.93534362965505, 236.49926383386128, 231.42266422865993, 217.2271322655455, 336.0598974163769, 2018.8347968200824, 1011.7500555854975, 705.5304165111958, 527.9240732193765, 469.31807849103825, 408.72341148109797, 406.18821922702824, 345.3036792269375, 323.4720385429227, 281.1046398466625, 263.082487438336, 258.78084746740103, 241.0915704338487, 236.8285232230411, 220.68647745755268, 220.04041619412763, 215.3280658485868, 210.69469563792123, 205.71279417636248, 197.9144758038981, 186.76579994197263, 173.91593196910145, 167.1710011042406, 161.6395886458464, 158.56049142918474, 152.7831654930615, 149.6787727560329, 143.82797016987092, 143.3461588731526, 141.41469206902897, 4230.958686116507, 2853.976842231546, 976.4847953660134, 606.9544131529996, 577.4906312643088, 564.2644224123029, 522.3619105999214, 502.5371851992008, 432.4720435575301, 345.72240028253015, 343.9912722053419, 309.1432646767269, 304.1726286718822, 299.2539494902557, 279.0198143142722, 277.4456391405556, 262.24875128123506, 240.7867864473339, 238.50206841045215, 231.295340626353, 216.52118480465896, 212.98490683002433, 206.99869811237076, 206.08440789918157, 188.15572353088322, 183.1899501518012, 177.21283387821086, 173.37149274827667, 170.18519060593505, 162.0385938649085, 175.48153927274302, 3054.2552420596253, 657.9118913953394, 459.205745442712, 450.4766105310784, 415.5351321077303, 361.8501260765071, 347.7997252011824, 332.8813025443031, 354.01050732378815, 302.3555442205816, 302.90264070688403, 283.43267600653616, 275.4775539548294, 273.3760397381486, 268.9305288951702, 263.54545874352215, 259.7506578838736, 255.85827122624156, 243.389545203895, 228.22827582591802, 220.74159209991268, 219.94090170383254, 218.67751916767804, 210.78792350365512, 190.13802015584082, 189.29861338513223, 185.811655726657, 180.12736993208262, 171.03856023134287, 245.89782974836595, 826.1895051940783, 706.4249889456642, 600.928603168815, 515.1085395347976, 481.58294129769234, 446.5642710964108, 436.0300143896471, 395.45420347698956, 382.90051070185365, 355.1336574769853, 354.12136323075765, 303.16721927429006, 297.2436281086142, 283.14489928739073, 271.7341335593209, 261.87658806315346, 241.8508278906621, 233.161641681166, 231.66467398170738, 228.37257345620114, 224.71406960222495, 218.14689668446272, 212.63516956462405, 208.27328128025562, 202.89545435213734, 202.3413174254447, 199.37952184260672, 197.63308570758835, 190.7118878460436, 187.5837852090358, 518.3876680674025, 467.3957388770625, 438.5552080294401, 376.65630057960027, 359.97279985196195, 287.7347555455501, 244.07671815069935, 238.29049923496677, 237.6152342665579, 226.09991286937608, 220.12688753278866, 213.20090022934886, 195.7515435650487, 194.0691418144371, 192.6132855774888, 190.4252113611223, 189.23539459573473, 188.42933653365455, 192.06608998151694, 184.03914731795874, 179.3487767850302, 171.31682247440088, 167.74215625207447, 163.72498065941673, 161.67375981646788, 159.41330270829974, 157.9443589908206, 155.204540564021, 155.09442051451805, 153.54909003502283, 200.95096397806265], \"Total\": [21851.0, 4231.0, 3055.0, 3475.0, 2854.0, 2019.0, 1962.0, 1805.0, 2621.0, 1364.0, 2433.0, 2308.0, 1012.0, 977.0, 1120.0, 2031.0, 826.0, 1622.0, 707.0, 706.0, 658.0, 1450.0, 601.0, 727.0, 607.0, 578.0, 519.0, 565.0, 515.0, 523.0, 21851.689478587734, 2621.6873031504383, 2433.7290618168195, 2308.8010656909464, 2031.3186944015383, 1622.0095496668241, 1450.8697170916905, 1158.2728709828257, 1151.5659066512465, 1143.3791721326495, 1094.8582105650544, 1054.7737745727768, 1013.8440009080081, 994.1379038114904, 947.0070969338286, 943.1092656000844, 918.1352442015765, 876.1116611431655, 863.0485856187278, 861.7598904669708, 852.3698834840696, 852.0474402192765, 818.9407850794292, 807.9526159008534, 704.0577005447627, 692.3843273877255, 668.7897793322969, 668.025407969453, 662.8575079317375, 652.3112129233011, 3475.097415449903, 1962.9908275183184, 1805.053258784566, 1364.5473841800606, 1120.1388984219705, 588.1737821177547, 515.3652841846254, 465.2941942473325, 456.95459744304264, 425.74017962228965, 384.0434328220586, 382.1626901513173, 377.61925019474444, 377.2051213983784, 352.07643873332046, 369.01087337448877, 727.2709368056369, 307.82530513247065, 293.82314132231795, 286.75037440415576, 275.1832312181132, 273.78557502143764, 267.4204317562614, 263.6637135625002, 240.49049526414018, 238.33959048003268, 237.7445168851895, 237.30803479738955, 232.23167045707922, 218.03613430714734, 345.5276765333099, 2019.6424980494216, 1012.5576789810752, 706.337783750435, 528.7320153162856, 470.1261742156093, 409.53240887352985, 406.9967863807553, 346.11267211441924, 324.2811735027956, 281.91341035520054, 263.89127068647576, 259.5887158219175, 241.89969330483046, 237.64539853240882, 221.495660060428, 220.84808503515825, 216.13566820301824, 211.5026300295676, 206.52188635972814, 198.72244960169485, 187.5746994552159, 174.72376477112456, 167.97924978013367, 162.44842077694568, 159.36860227544963, 153.59198611904876, 150.48658910462814, 144.63905138398798, 144.15953791650531, 142.2228459067831, 4231.76901779215, 2854.787057443771, 977.2949115650513, 607.7645299952791, 578.3011507864411, 565.0751944081806, 523.1739037236274, 503.3472068336872, 433.2819424811784, 346.53254062394825, 344.801792769517, 309.9538223755651, 304.9828408735061, 300.063984340783, 279.83067877244184, 278.25533882590946, 263.0627577337789, 241.59939943875972, 239.31209740243162, 232.10895635044957, 217.33149776976776, 213.79720762001187, 207.80993464848828, 206.894411045989, 188.9664552724169, 184.00070432147118, 178.02533517678, 174.18206852921335, 170.9949393661383, 162.8492016308006, 176.39803447074928, 3055.0639424551687, 658.7211448553293, 460.0154357360462, 451.28548344213976, 416.3446985102061, 362.6596286558231, 348.6250645144525, 333.6917847138711, 354.9095834537363, 303.1647083975319, 303.7146977584964, 284.2431327652484, 276.28654191915956, 274.18622021109223, 269.74099818584347, 264.3547121469084, 260.56193636621896, 256.66808232026307, 244.19845626943436, 229.03856967657524, 221.55092252374246, 220.75034915855267, 219.48910622973833, 211.59711682347378, 190.9468487279219, 190.11011177898433, 186.62069108230165, 180.93758344725381, 171.84978583210935, 247.07142243615414, 826.9976218611353, 707.2330043449722, 601.7385200238862, 515.9167128436095, 482.39132784097063, 447.3729148500548, 436.83863654356213, 396.26241571126945, 383.7086929392639, 355.9426821461742, 354.9297592332059, 303.9753522313557, 298.0519355979738, 283.95265860077916, 272.54371376284456, 262.6862958078642, 242.66042146223583, 233.96957278744213, 232.47270369720462, 229.18034641277148, 225.52330045342183, 218.954892923657, 213.44307795054027, 209.0813083367138, 203.7034952735746, 203.15111627129818, 200.18789751660756, 198.44217762037573, 191.52092337091585, 188.39185247956556, 519.1991038870391, 468.2086416143478, 439.3673043732332, 377.4680452850368, 360.7847000006693, 288.5474014604005, 244.89112506491168, 239.10573425998433, 238.4313547104132, 226.91307428778947, 220.93860261553664, 214.01252895623404, 196.5635672623406, 194.8828752828195, 193.42509970683315, 191.23783335803478, 190.047848986207, 189.2416199234666, 192.89591872423432, 184.85045275734038, 180.16034487660662, 172.13574642622422, 168.556130759255, 164.5375081331535, 162.48806604618463, 160.2272468073875, 158.7562836336732, 156.01612336901857, 155.90657387083772, 154.3602587757871, 202.55906350142862], \"Category\": [\"Default\", \"Default\", \"Default\", \"Default\", \"Default\", \"Default\", \"Default\", \"Default\", \"Default\", \"Default\", \"Default\", \"Default\", \"Default\", \"Default\", \"Default\", \"Default\", \"Default\", \"Default\", \"Default\", \"Default\", \"Default\", \"Default\", \"Default\", \"Default\", \"Default\", \"Default\", \"Default\", \"Default\", \"Default\", \"Default\", \"Topic1\", \"Topic1\", \"Topic1\", \"Topic1\", \"Topic1\", \"Topic1\", \"Topic1\", \"Topic1\", \"Topic1\", \"Topic1\", \"Topic1\", \"Topic1\", \"Topic1\", \"Topic1\", \"Topic1\", \"Topic1\", \"Topic1\", \"Topic1\", \"Topic1\", \"Topic1\", \"Topic1\", \"Topic1\", \"Topic1\", \"Topic1\", \"Topic1\", \"Topic1\", \"Topic1\", \"Topic1\", \"Topic1\", \"Topic1\", \"Topic2\", \"Topic2\", \"Topic2\", \"Topic2\", \"Topic2\", \"Topic2\", \"Topic2\", \"Topic2\", \"Topic2\", \"Topic2\", \"Topic2\", \"Topic2\", \"Topic2\", \"Topic2\", \"Topic2\", \"Topic2\", \"Topic2\", \"Topic2\", \"Topic2\", \"Topic2\", \"Topic2\", \"Topic2\", \"Topic2\", \"Topic2\", \"Topic2\", \"Topic2\", \"Topic2\", \"Topic2\", \"Topic2\", \"Topic2\", \"Topic2\", \"Topic3\", \"Topic3\", \"Topic3\", \"Topic3\", \"Topic3\", \"Topic3\", \"Topic3\", \"Topic3\", \"Topic3\", \"Topic3\", \"Topic3\", \"Topic3\", \"Topic3\", \"Topic3\", \"Topic3\", \"Topic3\", \"Topic3\", \"Topic3\", \"Topic3\", \"Topic3\", \"Topic3\", \"Topic3\", \"Topic3\", \"Topic3\", \"Topic3\", \"Topic3\", \"Topic3\", \"Topic3\", \"Topic3\", \"Topic3\", \"Topic4\", \"Topic4\", \"Topic4\", \"Topic4\", \"Topic4\", \"Topic4\", \"Topic4\", \"Topic4\", \"Topic4\", \"Topic4\", \"Topic4\", \"Topic4\", \"Topic4\", \"Topic4\", \"Topic4\", \"Topic4\", \"Topic4\", \"Topic4\", \"Topic4\", \"Topic4\", \"Topic4\", \"Topic4\", \"Topic4\", \"Topic4\", \"Topic4\", \"Topic4\", \"Topic4\", \"Topic4\", \"Topic4\", \"Topic4\", \"Topic4\", \"Topic5\", \"Topic5\", \"Topic5\", \"Topic5\", \"Topic5\", \"Topic5\", \"Topic5\", \"Topic5\", \"Topic5\", \"Topic5\", \"Topic5\", \"Topic5\", \"Topic5\", \"Topic5\", \"Topic5\", \"Topic5\", \"Topic5\", \"Topic5\", \"Topic5\", \"Topic5\", \"Topic5\", \"Topic5\", \"Topic5\", \"Topic5\", \"Topic5\", \"Topic5\", \"Topic5\", \"Topic5\", \"Topic5\", \"Topic5\", \"Topic6\", \"Topic6\", \"Topic6\", \"Topic6\", \"Topic6\", \"Topic6\", \"Topic6\", \"Topic6\", \"Topic6\", \"Topic6\", \"Topic6\", \"Topic6\", \"Topic6\", \"Topic6\", \"Topic6\", \"Topic6\", \"Topic6\", \"Topic6\", \"Topic6\", \"Topic6\", \"Topic6\", \"Topic6\", \"Topic6\", \"Topic6\", \"Topic6\", \"Topic6\", \"Topic6\", \"Topic6\", \"Topic6\", \"Topic6\", \"Topic7\", \"Topic7\", \"Topic7\", \"Topic7\", \"Topic7\", \"Topic7\", \"Topic7\", \"Topic7\", \"Topic7\", \"Topic7\", \"Topic7\", \"Topic7\", \"Topic7\", \"Topic7\", \"Topic7\", \"Topic7\", \"Topic7\", \"Topic7\", \"Topic7\", \"Topic7\", \"Topic7\", \"Topic7\", \"Topic7\", \"Topic7\", \"Topic7\", \"Topic7\", \"Topic7\", \"Topic7\", \"Topic7\", \"Topic7\", \"Topic7\"], \"logprob\": [30.0, 29.0, 28.0, 27.0, 26.0, 25.0, 24.0, 23.0, 22.0, 21.0, 20.0, 19.0, 18.0, 17.0, 16.0, 15.0, 14.0, 13.0, 12.0, 11.0, 10.0, 9.0, 8.0, 7.0, 6.0, 5.0, 4.0, 3.0, 2.0, 1.0, -1.7306, -3.8513, -3.9257, -3.9784, -4.1065, -4.3316, -4.4432, -4.6686, -4.6744, -4.6815, -4.7249, -4.7622, -4.8018, -4.8215, -4.8701, -4.8742, -4.9011, -4.948, -4.963, -4.9645, -4.9755, -4.9759, -5.0155, -5.029, -5.1668, -5.1836, -5.2183, -5.2194, -5.2272, -5.2433, -2.6745, -3.2458, -3.3297, -3.6096, -3.8071, -4.452, -4.5843, -4.6867, -4.7049, -4.7757, -4.879, -4.8839, -4.8959, -4.897, -4.9661, -4.9191, -4.2408, -5.1007, -5.1474, -5.1718, -5.2131, -5.2182, -5.2418, -5.256, -5.3483, -5.3573, -5.3598, -5.3617, -5.3834, -5.4467, -5.0103, -2.9004, -3.5912, -3.9517, -4.2417, -4.3594, -4.4976, -4.5038, -4.6662, -4.7315, -4.8719, -4.9382, -4.9547, -5.0255, -5.0433, -5.1139, -5.1168, -5.1385, -5.1602, -5.1842, -5.2228, -5.2808, -5.3521, -5.3916, -5.4253, -5.4445, -5.4816, -5.5021, -5.542, -5.5454, -5.5589, -2.1344, -2.5282, -3.6007, -4.0762, -4.1259, -4.1491, -4.2263, -4.265, -4.4151, -4.639, -4.644, -4.7508, -4.767, -4.7833, -4.8533, -4.859, -4.9153, -5.0007, -5.0103, -5.0409, -5.1069, -5.1234, -5.1519, -5.1563, -5.2474, -5.2741, -5.3073, -5.3292, -5.3477, -5.3968, -5.3171, -2.4547, -3.9899, -4.3495, -4.3687, -4.4495, -4.5878, -4.6274, -4.6712, -4.6097, -4.7674, -4.7656, -4.832, -4.8605, -4.8682, -4.8846, -4.9048, -4.9193, -4.9344, -4.9844, -5.0487, -5.082, -5.0857, -5.0914, -5.1282, -5.2313, -5.2357, -5.2543, -5.2854, -5.3371, -4.9741, -3.7094, -3.866, -4.0278, -4.1819, -4.2492, -4.3247, -4.3485, -4.4462, -4.4785, -4.5538, -4.5566, -4.712, -4.7317, -4.7803, -4.8214, -4.8584, -4.9379, -4.9745, -4.981, -4.9953, -5.0114, -5.0411, -5.0667, -5.0874, -5.1136, -5.1163, -5.1311, -5.1398, -5.1755, -5.192, -4.0328, -4.1363, -4.2, -4.3522, -4.3975, -4.6214, -4.786, -4.81, -4.8128, -4.8625, -4.8893, -4.9213, -5.0066, -5.0153, -5.0228, -5.0342, -5.0405, -5.0448, -5.0256, -5.0683, -5.0942, -5.14, -5.1611, -5.1853, -5.1979, -5.212, -5.2212, -5.2387, -5.2395, -5.2495, -4.9804], \"loglift\": [30.0, 29.0, 28.0, 27.0, 26.0, 25.0, 24.0, 23.0, 22.0, 21.0, 20.0, 19.0, 18.0, 17.0, 16.0, 15.0, 14.0, 13.0, 12.0, 11.0, 10.0, 9.0, 8.0, 7.0, 6.0, 5.0, 4.0, 3.0, 2.0, 1.0, 1.0279, 1.0276, 1.0276, 1.0276, 1.0275, 1.0274, 1.0274, 1.0272, 1.0272, 1.0272, 1.0272, 1.0272, 1.0271, 1.0271, 1.0271, 1.0271, 1.0271, 1.027, 1.027, 1.027, 1.027, 1.027, 1.027, 1.0269, 1.0268, 1.0268, 1.0267, 1.0267, 1.0267, 1.0267, 1.9226, 1.9225, 1.9224, 1.9223, 1.9221, 1.9215, 1.9213, 1.9211, 1.921, 1.921, 1.9208, 1.9207, 1.9207, 1.9207, 1.9206, 1.9205, 1.9204, 1.9202, 1.9201, 1.92, 1.9199, 1.9199, 1.9198, 1.9198, 1.9195, 1.9195, 1.9195, 1.9195, 1.9194, 1.9192, 1.8951, 2.2395, 2.2391, 2.2387, 2.2383, 2.2381, 2.2379, 2.2379, 2.2375, 2.2374, 2.237, 2.2368, 2.2367, 2.2365, 2.2364, 2.2362, 2.2362, 2.2361, 2.236, 2.2359, 2.2358, 2.2355, 2.2352, 2.235, 2.2349, 2.2348, 2.2346, 2.2345, 2.2342, 2.2342, 2.2342, 2.2657, 2.2656, 2.265, 2.2645, 2.2645, 2.2644, 2.2643, 2.2643, 2.264, 2.2635, 2.2635, 2.2632, 2.2632, 2.2632, 2.263, 2.263, 2.2628, 2.2625, 2.2625, 2.2624, 2.2621, 2.2621, 2.262, 2.2619, 2.2616, 2.2615, 2.2613, 2.2612, 2.2611, 2.2609, 2.2607, 2.2712, 2.2703, 2.2697, 2.2697, 2.2695, 2.2692, 2.2691, 2.269, 2.2689, 2.2688, 2.2688, 2.2686, 2.2685, 2.2685, 2.2685, 2.2684, 2.2684, 2.2683, 2.2682, 2.2679, 2.2678, 2.2678, 2.2678, 2.2676, 2.2672, 2.2672, 2.2671, 2.267, 2.2667, 2.2667, 2.3233, 2.3231, 2.3229, 2.3227, 2.3226, 2.3224, 2.3224, 2.3222, 2.3221, 2.322, 2.322, 2.3216, 2.3215, 2.3214, 2.3213, 2.3212, 2.3209, 2.3208, 2.3208, 2.3207, 2.3206, 2.3205, 2.3204, 2.3204, 2.3203, 2.3202, 2.3202, 2.3202, 2.32, 2.3199, 2.4654, 2.4653, 2.4652, 2.4649, 2.4648, 2.4642, 2.4637, 2.4636, 2.4636, 2.4634, 2.4633, 2.4632, 2.4629, 2.4628, 2.4628, 2.4628, 2.4627, 2.4627, 2.4627, 2.4626, 2.4625, 2.4622, 2.4622, 2.4621, 2.462, 2.4619, 2.4619, 2.4618, 2.4618, 2.4617, 2.459]}, \"token.table\": {\"Topic\": [4, 5, 5, 1, 2, 2, 3, 3, 1, 7, 7, 6, 4, 5, 2, 5, 1, 4, 7, 7, 5, 7, 3, 4, 7, 7, 3, 5, 1, 4, 1, 3, 6, 2, 4, 7, 3, 5, 7, 7, 6, 4, 5, 5, 5, 6, 1, 7, 4, 6, 7, 4, 3, 5, 5, 4, 2, 5, 1, 3, 6, 2, 7, 1, 6, 5, 4, 1, 6, 6, 6, 3, 6, 2, 2, 3, 1, 6, 6, 5, 6, 3, 7, 2, 7, 1, 6, 4, 3, 7, 7, 1, 1, 2, 6, 5, 4, 1, 4, 2, 2, 2, 1, 6, 3, 3, 3, 2, 3, 6, 4, 3, 1, 7, 1, 7, 4, 3, 7, 3, 2, 6, 3, 1, 2, 6, 1, 7, 1, 1, 3, 3, 1, 7, 2, 2, 2, 4, 1, 7, 5, 6, 4, 5, 7, 1, 1, 5, 6, 5, 3, 6, 2, 1, 2, 1, 6, 4, 4, 4, 1, 5, 3, 7, 5, 1, 3, 2, 7, 2, 7, 6, 4, 1, 2, 7, 5, 2, 4, 4, 5, 6, 3, 4, 5, 5, 6, 5, 4, 5, 1, 5, 2, 2, 6, 7, 4, 3, 3, 4, 5, 2, 6, 7, 3, 7, 6, 3, 2, 2, 2, 4, 4, 4, 1], \"Freq\": [0.9970413203148107, 0.994160690514585, 0.9966740500278829, 0.998820950780893, 0.9971306924355816, 0.9973189171952076, 0.9955817507244885, 0.9967852315038861, 0.99970043427255, 0.9978022515822536, 0.993487061804406, 0.9976796169071235, 0.9920745462105413, 0.9977926050798243, 0.9972605864828734, 0.9956265160985435, 0.9999684473555965, 0.996454141795389, 0.9941851466020363, 0.9981029062898158, 0.9979268752017247, 0.9981908641548546, 0.9914019024230144, 0.9952222595461796, 0.9963611377722428, 0.9923405860623518, 0.997623528229898, 0.9956736694857277, 0.9987706785211314, 0.9997243025739104, 0.999266407080428, 0.9941704122299903, 0.9956388600825196, 0.9982524575899882, 0.9970314949880197, 0.9944863938645102, 0.9969361568650515, 0.9986581962393344, 0.9935593769128198, 0.9953554293415864, 0.9973804415971922, 0.9980972542790405, 0.9954655249635823, 0.9974371403418165, 0.9950922856444594, 0.9967913443501387, 0.998785021334603, 0.9978250186311453, 0.9941814689380489, 0.9980802143551272, 0.9952361971673618, 0.9986958561400814, 0.9960491893841487, 0.9975133368100355, 0.9966009151903369, 0.9945614103752406, 0.9973831789907337, 0.9948181940457542, 0.9987635327052893, 0.9947455771069147, 0.9958559877000631, 0.99836012016224, 0.9971329007191427, 0.9984977075828525, 0.9991887751325835, 0.9978433674002593, 0.997756188305127, 0.9996683758617517, 0.9987936823096418, 0.9980050401627767, 0.9987726894667524, 0.9976871085635014, 0.9979241399871354, 0.998261428782817, 0.9971985143218689, 0.9961598714563306, 0.999522907291588, 0.9965464742142505, 0.9966450090466716, 0.9971515072181475, 0.9979666270934745, 0.9975508740753969, 0.9976661170521204, 0.9974827269420868, 0.9935272569433616, 0.9988238206954964, 0.997387393941684, 0.9959600600900931, 0.9967599613156051, 0.9957517491084619, 0.9952688332726487, 0.9987311421677517, 0.9984650165140128, 0.9969576042317032, 0.9948282878784535, 0.9991720838251584, 0.9984746906308125, 0.999737839387019, 0.9975190358910158, 0.9957002059577702, 0.997960438047244, 0.9969425993480473, 0.9991675238919872, 0.9982565797447276, 0.99628071746376, 0.9994492373198568, 0.997762213217664, 0.9968684161681464, 0.9986155267790098, 0.9977717558551407, 0.9947853497450615, 0.9972841951226722, 0.9994449218843882, 0.9991640152337754, 0.9988190918032788, 0.9976904738893771, 0.998463230543979, 0.9976045277260125, 0.9953755426928321, 0.9986999591192446, 0.9984278248542932, 0.9972800707006462, 0.9966225836718386, 0.9988512172106094, 0.9994952459764822, 0.9973515900355353, 0.9991182109130665, 0.9967006198068861, 0.999400554659426, 0.9988553863532134, 0.997239611349861, 0.991956564697253, 0.9996530382357968, 0.9967332182232971, 0.994696371710822, 0.9968051298086548, 0.9980043617151236, 0.9986750042901814, 0.9989010612138869, 0.9987600399798522, 0.998905234998206, 0.9940660872543056, 0.996271197229906, 0.9996517446196842, 0.9969962960476992, 0.9987063465051289, 0.9998431096004695, 0.9972529271010818, 0.996814192663204, 0.9950412969146664, 0.9977321209049728, 0.9943336945795517, 0.9979109577879636, 0.02604711752846338, 0.9724257210626328, 0.9995660528472009, 0.9979200136608453, 0.994885572304229, 0.9956769685489949, 0.9969226952316486, 0.004047412647484192, 0.9956635112811114, 0.9963645295076481, 0.9974185832833403, 0.9971780483948091, 0.9989365476382497, 0.9974729731123069, 0.9985751822458504, 0.995399238981271, 0.9952478780160001, 0.9934020303754224, 0.9981530443476919, 0.9977500463475273, 0.9992161445593841, 0.9972185463233084, 0.9959761054286742, 0.9950550660974372, 0.9944880298785234, 0.9998182751022286, 0.9961025219999309, 0.9953434506428619, 0.9964706298723969, 0.995857662682162, 0.9976746270282505, 0.9976468120780091, 0.9973970962255079, 0.9991664340024254, 0.9977716150102394, 0.9967773896043097, 0.998181135688392, 0.9993775932656922, 0.9961581662862794, 0.9996842058455616, 0.9972830343318432, 0.9972784129432554, 0.9923031659286002, 0.9954885364241121, 0.9967665616748757, 0.9961457226121817, 0.9932136037928893, 0.9982070580171192, 0.9992912130563795, 0.9982231379197685, 0.9954697133776468, 0.9996818753566326, 0.9934389701167812, 0.994849704910361, 0.9995217815637137, 0.9989832525023683, 0.9995988529336491, 0.9994164943447291, 0.9942405097804655, 0.9987420621679172, 0.9993102041116483, 0.9995085764106267], \"Term\": [\"action\", \"animal\", \"answer\", \"anyone\", \"argument\", \"art\", \"article\", \"aspect\", \"author\", \"baby\", \"battle\", \"belief\", \"bernard\", \"bit\", \"blackwood\", \"body\", \"book\", \"boy\", \"brain\", \"brother\", \"business\", \"camp\", \"car\", \"card\", \"career\", \"center\", \"chance\", \"change\", \"chapter\", \"character\", \"child\", \"christian\", \"city\", \"clouseau\", \"collection\", \"color\", \"company\", \"concept\", \"content\", \"cooking\", \"country\", \"course\", \"crime\", \"cuisine\", \"culture\", \"daughter\", \"day\", \"death\", \"depth\", \"description\", \"development\", \"dialogue\", \"dr\", \"dream\", \"earth\", \"effect\", \"effort\", \"element\", \"end\", \"et\", \"even_though\", \"event\", \"evidence\", \"example\", \"experience\", \"explanation\", \"eye\", \"fact\", \"family\", \"fantasy\", \"father\", \"fear\", \"feeling\", \"fiction\", \"food\", \"form\", \"friend\", \"game\", \"girl\", \"god\", \"group\", \"hand\", \"head\", \"heart\", \"high_school\", \"history\", \"hobbit\", \"horse\", \"hour\", \"humor\", \"husband\", \"idea\", \"information\", \"interest\", \"lack\", \"language\", \"law\", \"life\", \"light\", \"line\", \"list\", \"literature\", \"lot\", \"love\", \"main_character\", \"man\", \"master\", \"meaning\", \"men\", \"method\", \"mistake\", \"mob_dick\", \"money\", \"mother\", \"movie\", \"mr\", \"mystery\", \"name\", \"narrator\", \"nature\", \"need\", \"new_york\", \"night\", \"nothing\", \"novel\", \"number\", \"one\", \"one_day\", \"page\", \"part\", \"party\", \"paul\", \"people\", \"personality\", \"philosophy\", \"piece\", \"place\", \"plot\", \"point\", \"power\", \"problem\", \"process\", \"professor\", \"quit\", \"rating\", \"read\", \"reader\", \"reality\", \"relationship\", \"religion\", \"research\", \"respect\", \"restaurant\", \"result\", \"result\", \"review\", \"right\", \"role\", \"romance\", \"scene\", \"science\", \"science\", \"sea\", \"sense\", \"sentence\", \"series\", \"service\", \"side\", \"sister\", \"situation\", \"smith\", \"society\", \"someone\", \"something\", \"son\", \"soul\", \"spirit\", \"state\", \"story\", \"storyline\", \"student\", \"study\", \"stuff\", \"subject\", \"success\", \"system\", \"tale\", \"technique\", \"theme\", \"theory\", \"thing\", \"thought\", \"time\", \"today\", \"translation\", \"troisgros\", \"truth\", \"turn\", \"twist\", \"understanding\", \"valley\", \"view\", \"war\", \"water\", \"way\", \"week\", \"wife\", \"woman\", \"word\", \"work\", \"world\", \"world_war\", \"writer\", \"writing\", \"year\"]}, \"R\": 30, \"lambda.step\": 0.01, \"plot.opts\": {\"xlab\": \"PC1\", \"ylab\": \"PC2\"}, \"topic.order\": [7, 1, 5, 4, 6, 2, 3]};\n",
       "\n",
       "function LDAvis_load_lib(url, callback){\n",
       "  var s = document.createElement('script');\n",
       "  s.src = url;\n",
       "  s.async = true;\n",
       "  s.onreadystatechange = s.onload = callback;\n",
       "  s.onerror = function(){console.warn(\"failed to load library \" + url);};\n",
       "  document.getElementsByTagName(\"head\")[0].appendChild(s);\n",
       "}\n",
       "\n",
       "if(typeof(LDAvis) !== \"undefined\"){\n",
       "   // already loaded: just create the visualization\n",
       "   !function(LDAvis){\n",
       "       new LDAvis(\"#\" + \"ldavis_el1134151894352162163882753\", ldavis_el1134151894352162163882753_data);\n",
       "   }(LDAvis);\n",
       "}else if(typeof define === \"function\" && define.amd){\n",
       "   // require.js is available: use it to load d3/LDAvis\n",
       "   require.config({paths: {d3: \"https://d3js.org/d3.v5\"}});\n",
       "   require([\"d3\"], function(d3){\n",
       "      window.d3 = d3;\n",
       "      LDAvis_load_lib(\"https://cdn.jsdelivr.net/gh/bmabey/pyLDAvis@3.4.0/pyLDAvis/js/ldavis.v3.0.0.js\", function(){\n",
       "        new LDAvis(\"#\" + \"ldavis_el1134151894352162163882753\", ldavis_el1134151894352162163882753_data);\n",
       "      });\n",
       "    });\n",
       "}else{\n",
       "    // require.js not available: dynamically load d3 & LDAvis\n",
       "    LDAvis_load_lib(\"https://d3js.org/d3.v5.js\", function(){\n",
       "         LDAvis_load_lib(\"https://cdn.jsdelivr.net/gh/bmabey/pyLDAvis@3.4.0/pyLDAvis/js/ldavis.v3.0.0.js\", function(){\n",
       "                 new LDAvis(\"#\" + \"ldavis_el1134151894352162163882753\", ldavis_el1134151894352162163882753_data);\n",
       "            })\n",
       "         });\n",
       "}\n",
       "</script>"
      ],
      "text/plain": [
       "<IPython.core.display.HTML object>"
      ]
     },
     "execution_count": 136,
     "metadata": {},
     "output_type": "execute_result"
    }
   ],
   "source": [
    "########################################\n",
    "# SOLUCIÓN: Visualizar el mejor modelo\n",
    "########################################\n",
    "\n",
    "pyldavis_lda5 = gensimvis.prepare(lda_7, corpus, id2word)\n",
    "pyLDAvis.display(pyldavis_lda5)"
   ]
  },
  {
   "cell_type": "markdown",
   "id": "7f33622c",
   "metadata": {},
   "source": [
    "En la parte izquierda del gráfico, cada círculo representa un tópico identificado por el modelo. El tamaño de cada círculo indica su prevalencia en el corpus, es decir, qué tan frecuente es ese tema en el conjunto de opiniones. La distancia entre los círculos refleja el grado de similitud entre tópicos: cuanto más cerca están, más comparten palabras clave y contenido semántico.\n",
    "\n",
    "En nuestro caso, el tópico 1 es el más prevalente. Se observa una clara separación entre los tópicos 1 y 2, lo que sugiere que abordan temas diferentes. Sin embargo, los tópicos 3, 4, 5, 6 y 7 aparecen bastante solapados, lo que podría indicar una mayor similitud entre ellos o una menor diferenciación temática.\n",
    "\n",
    "Podemos probar a graficar 3 tópicos: "
   ]
  },
  {
   "cell_type": "code",
   "execution_count": 145,
   "id": "d976aefe",
   "metadata": {},
   "outputs": [
    {
     "name": "stdout",
     "output_type": "stream",
     "text": [
      "\n",
      "Tópicos del modelo con 3 tópicos:\n",
      "\n",
      "- Tópico 1: 0.029*\"story\" + 0.024*\"time\" + 0.021*\"quit\" + 0.020*\"character\" + 0.017*\"life\" + 0.016*\"author\" + 0.015*\"people\" + 0.014*\"novel\" + 0.013*\"reader\" + 0.012*\"world\"\n",
      "- Tópico 2: 0.012*\"family\" + 0.010*\"love\" + 0.009*\"father\" + 0.007*\"son\" + 0.006*\"mother\" + 0.006*\"account\" + 0.006*\"home\" + 0.006*\"tale\" + 0.006*\"question\" + 0.005*\"theory\"\n",
      "- Tópico 3: 0.152*\"book\" + 0.015*\"way\" + 0.011*\"thing\" + 0.008*\"something\" + 0.008*\"man\" + 0.007*\"child\" + 0.007*\"history\" + 0.006*\"day\" + 0.006*\"one\" + 0.006*\"chapter\"\n"
     ]
    }
   ],
   "source": [
    "lda_3 = LdaModel(\n",
    "    corpus=corpus,\n",
    "    id2word=id2word,\n",
    "    num_topics=3,\n",
    "    random_state=42,\n",
    "    passes=10,\n",
    "    alpha='auto',\n",
    "    per_word_topics=True\n",
    ")\n",
    "\n",
    "print(\"\\nTópicos del modelo con 3 tópicos:\\n\")\n",
    "for idx, topic in lda_3.print_topics(num_words=10):\n",
    "    print(f\"- Tópico {idx + 1}: {topic}\")"
   ]
  },
  {
   "cell_type": "code",
   "execution_count": null,
   "id": "8a2fde08",
   "metadata": {},
   "outputs": [],
   "source": [
    "coherence_3 = CoherenceModel(model=lda_3, texts=noun_and_collocation_stream, dictionary=id2word, coherence='c_v').get_coherence()"
   ]
  },
  {
   "cell_type": "code",
   "execution_count": 148,
   "id": "e4808121",
   "metadata": {},
   "outputs": [
    {
     "name": "stdout",
     "output_type": "stream",
     "text": [
      "Coherencia modelo 3 tópicos: 0.3227\n"
     ]
    }
   ],
   "source": [
    "print(f\"Coherencia modelo 3 tópicos: {coherence_3:.4f}\")"
   ]
  },
  {
   "cell_type": "code",
   "execution_count": 149,
   "id": "349ebce1",
   "metadata": {},
   "outputs": [
    {
     "data": {
      "text/html": [
       "\n",
       "<link rel=\"stylesheet\" type=\"text/css\" href=\"https://cdn.jsdelivr.net/gh/bmabey/pyLDAvis@3.4.0/pyLDAvis/js/ldavis.v1.0.0.css\">\n",
       "\n",
       "\n",
       "<div id=\"ldavis_el1134151249477928698024234\" style=\"background-color:white;\"></div>\n",
       "<script type=\"text/javascript\">\n",
       "\n",
       "var ldavis_el1134151249477928698024234_data = {\"mdsDat\": {\"x\": [0.30047978486459703, -0.27978529470650076, -0.02069449015809653], \"y\": [-0.1417465925538679, -0.17571198321675907, 0.31745857577062697], \"topics\": [1, 2, 3], \"cluster\": [1, 1, 1], \"Freq\": [41.320787431338175, 39.267626946430845, 19.41158562223098]}, \"tinfo\": {\"Term\": [\"book\", \"story\", \"time\", \"quit\", \"character\", \"life\", \"author\", \"people\", \"way\", \"novel\", \"reader\", \"world\", \"thing\", \"family\", \"work\", \"page\", \"love\", \"word\", \"man\", \"something\", \"father\", \"point\", \"child\", \"year\", \"fact\", \"plot\", \"history\", \"lot\", \"part\", \"day\", \"story\", \"time\", \"quit\", \"character\", \"life\", \"people\", \"novel\", \"reader\", \"world\", \"page\", \"work\", \"author\", \"word\", \"point\", \"year\", \"plot\", \"lot\", \"part\", \"fact\", \"end\", \"nothing\", \"example\", \"movie\", \"read\", \"place\", \"person\", \"everything\", \"writing\", \"reason\", \"view\", \"idea\", \"eye\", \"review\", \"problem\", \"series\", \"thing\", \"book\", \"child\", \"man\", \"day\", \"one\", \"anyone\", \"woman\", \"history\", \"money\", \"information\", \"friend\", \"someone\", \"anything\", \"course\", \"mr\", \"kind\", \"war\", \"star\", \"kid\", \"men\", \"experience\", \"case\", \"reading\", \"everyone\", \"language\", \"copy\", \"school\", \"use\", \"power\", \"way\", \"something\", \"writer\", \"bit\", \"adventure\", \"mind\", \"chapter\", \"style\", \"family\", \"love\", \"father\", \"son\", \"home\", \"tale\", \"mother\", \"country\", \"theory\", \"daughter\", \"scene\", \"version\", \"business\", \"study\", \"research\", \"system\", \"wife\", \"translation\", \"husband\", \"city\", \"even_though\", \"law\", \"dream\", \"crime\", \"narrator\", \"hobbit\", \"journey\", \"answer\", \"john\", \"process\", \"account\", \"map\", \"mob_dick\", \"question\"], \"Freq\": [20604.0, 4201.0, 3417.0, 3012.0, 2834.0, 2387.0, 2216.0, 2102.0, 2036.0, 1930.0, 1850.0, 1774.0, 1529.0, 784.0, 1341.0, 1321.0, 671.0, 1101.0, 1021.0, 1032.0, 571.0, 1054.0, 994.0, 1048.0, 1041.0, 970.0, 889.0, 923.0, 905.0, 813.0, 4200.686858771066, 3416.455414369539, 3011.762853721955, 2833.5780855880043, 2386.927000337381, 2101.9740870321584, 1929.5508786322284, 1849.270174752513, 1774.2002259738222, 1320.6728383757227, 1341.0788764915062, 2215.2267893482963, 1100.7181882659295, 1054.171415965607, 1048.0644093952849, 969.5460946170514, 922.6579879427646, 904.7198252093577, 1040.5134642344408, 835.4932211011627, 745.1408979682236, 640.5079830403017, 608.4110767911526, 603.0089595313856, 577.6297605095907, 564.5315679665093, 564.7253180066083, 499.0027971296175, 493.79860870232403, 506.0351408907648, 795.8593653291226, 518.5843528768867, 768.6962862736334, 642.9548981307676, 713.3937500078255, 1528.7147279437927, 20591.04536685852, 993.9125749576829, 1020.6557208558906, 813.0959821360757, 811.8702819305653, 761.1799355347986, 711.7974229196402, 888.4237536244303, 652.191391850806, 629.2241211755595, 614.4151161109266, 593.6953932128814, 561.5939612941226, 580.0760327858725, 539.7851963569616, 542.1550935349803, 521.4960725807719, 578.9438753473962, 513.889261752771, 532.5520208063155, 487.5464146025751, 464.21761121821544, 435.2847514301068, 437.6412538385872, 424.300914340336, 399.11799119794165, 393.31906453523993, 418.96034093268025, 392.1916976966926, 2025.7165261219595, 1029.2552259336462, 623.0732430036026, 468.7319637236481, 438.22800777857145, 517.5904729544708, 774.772821593779, 449.87568964665707, 784.131626452436, 670.5390991258886, 570.4028678710915, 443.41658334417195, 424.9483591762086, 423.87413642987315, 428.0644277744652, 336.15581293102673, 346.4031824888717, 287.8086536201962, 297.9799607041825, 283.1010689005413, 318.59052293143856, 282.05046571798493, 244.79301878539488, 244.9262761264259, 216.83505840223324, 229.5486625308517, 208.17534107936362, 207.1105443462777, 221.31202519111048, 208.74207038837844, 211.3402691446462, 218.4563950019121, 232.51745161960673, 248.38464143723382, 195.9972747250068, 177.93158027326913, 177.30399475309247, 189.2507109078737, 426.4482326365588, 211.61044517069774, 223.33794809172397, 376.15395501191887], \"Total\": [20604.0, 4201.0, 3417.0, 3012.0, 2834.0, 2387.0, 2216.0, 2102.0, 2036.0, 1930.0, 1850.0, 1774.0, 1529.0, 784.0, 1341.0, 1321.0, 671.0, 1101.0, 1021.0, 1032.0, 571.0, 1054.0, 994.0, 1048.0, 1041.0, 970.0, 889.0, 923.0, 905.0, 813.0, 4201.422228152035, 3417.186496377908, 3012.4693297484537, 2834.307159503807, 2387.661652101951, 2102.7107713005134, 1930.275167055878, 1850.0072511836586, 1774.9670656374321, 1321.3833157337071, 1341.801412114309, 2216.5031002612573, 1101.4644335830533, 1054.914261486204, 1048.8059697733174, 970.2700062040676, 923.3783095312895, 905.4334031789502, 1041.3519291456173, 836.2160195045911, 745.8801581460016, 641.2544575379031, 609.1351332328138, 603.7308415894199, 578.3643931958843, 565.2503137118757, 565.4774587661068, 499.72004618264106, 494.51288294585544, 506.7678111654808, 797.9925983784296, 519.4012716271682, 776.5640306339706, 649.7316492394407, 867.7601799589547, 1529.4823239308932, 20604.41783083225, 994.6151809062826, 1021.3862678315143, 813.8271125609167, 812.6118834048688, 761.8770011232419, 712.4889412212025, 889.3139281088507, 652.9016971432361, 629.932951605821, 615.1169935725036, 594.4175048403307, 562.3087415626296, 580.8194580729162, 540.4828718183371, 542.8901695206041, 522.2201671613371, 579.755401453983, 514.6114071767887, 533.3123566691818, 488.28204435435765, 464.9289604382153, 435.97668038482027, 438.34823114532577, 425.0199657925716, 399.8226853699058, 394.02123640987196, 419.71645101448365, 392.9174900974728, 2036.928311708876, 1032.327420712348, 624.6714567995722, 469.6021301612848, 439.2104907449614, 520.6421343527044, 802.4984620655916, 454.3910448031485, 784.9631889856239, 671.2837999069991, 571.1668038442621, 444.20686213144006, 425.71352333064664, 424.64476482365296, 428.89832784596297, 336.90466344800603, 347.17582801216895, 288.5403094587206, 298.75370874596564, 283.8596639822643, 319.44518340269815, 282.92052824728194, 245.5548683101802, 245.71439490855334, 217.54956563742758, 230.34845599610435, 208.91021690422306, 207.8421427977273, 222.09483118417492, 209.48246835503963, 212.09961364894107, 219.2658136886745, 233.4155456783483, 249.3508880674297, 196.77104213978492, 178.66313007972704, 178.0332301075112, 190.03044259965966, 429.2420937877844, 212.53573829171674, 224.79931931970017, 383.3870822403881], \"Category\": [\"Default\", \"Default\", \"Default\", \"Default\", \"Default\", \"Default\", \"Default\", \"Default\", \"Default\", \"Default\", \"Default\", \"Default\", \"Default\", \"Default\", \"Default\", \"Default\", \"Default\", \"Default\", \"Default\", \"Default\", \"Default\", \"Default\", \"Default\", \"Default\", \"Default\", \"Default\", \"Default\", \"Default\", \"Default\", \"Default\", \"Topic1\", \"Topic1\", \"Topic1\", \"Topic1\", \"Topic1\", \"Topic1\", \"Topic1\", \"Topic1\", \"Topic1\", \"Topic1\", \"Topic1\", \"Topic1\", \"Topic1\", \"Topic1\", \"Topic1\", \"Topic1\", \"Topic1\", \"Topic1\", \"Topic1\", \"Topic1\", \"Topic1\", \"Topic1\", \"Topic1\", \"Topic1\", \"Topic1\", \"Topic1\", \"Topic1\", \"Topic1\", \"Topic1\", \"Topic1\", \"Topic1\", \"Topic1\", \"Topic1\", \"Topic1\", \"Topic1\", \"Topic2\", \"Topic2\", \"Topic2\", \"Topic2\", \"Topic2\", \"Topic2\", \"Topic2\", \"Topic2\", \"Topic2\", \"Topic2\", \"Topic2\", \"Topic2\", \"Topic2\", \"Topic2\", \"Topic2\", \"Topic2\", \"Topic2\", \"Topic2\", \"Topic2\", \"Topic2\", \"Topic2\", \"Topic2\", \"Topic2\", \"Topic2\", \"Topic2\", \"Topic2\", \"Topic2\", \"Topic2\", \"Topic2\", \"Topic2\", \"Topic2\", \"Topic2\", \"Topic2\", \"Topic2\", \"Topic2\", \"Topic2\", \"Topic2\", \"Topic2\", \"Topic3\", \"Topic3\", \"Topic3\", \"Topic3\", \"Topic3\", \"Topic3\", \"Topic3\", \"Topic3\", \"Topic3\", \"Topic3\", \"Topic3\", \"Topic3\", \"Topic3\", \"Topic3\", \"Topic3\", \"Topic3\", \"Topic3\", \"Topic3\", \"Topic3\", \"Topic3\", \"Topic3\", \"Topic3\", \"Topic3\", \"Topic3\", \"Topic3\", \"Topic3\", \"Topic3\", \"Topic3\", \"Topic3\", \"Topic3\", \"Topic3\", \"Topic3\", \"Topic3\", \"Topic3\"], \"logprob\": [30.0, 29.0, 28.0, 27.0, 26.0, 25.0, 24.0, 23.0, 22.0, 21.0, 20.0, 19.0, 18.0, 17.0, 16.0, 15.0, 14.0, 13.0, 12.0, 11.0, 10.0, 9.0, 8.0, 7.0, 6.0, 5.0, 4.0, 3.0, 2.0, 1.0, -3.5237, -3.7303, -3.8564, -3.9174, -4.0889, -4.2161, -4.3017, -4.3441, -4.3856, -4.6808, -4.6655, -4.1636, -4.863, -4.9062, -4.912, -4.9899, -5.0394, -5.0591, -4.9192, -5.1387, -5.2531, -5.4044, -5.4558, -5.4648, -5.5078, -5.5307, -5.5304, -5.6541, -5.6646, -5.6401, -5.1873, -5.6156, -5.222, -5.4006, -5.2967, -4.4835, -1.8831, -4.9141, -4.8875, -5.1149, -5.1164, -5.1809, -5.2479, -5.0263, -5.3354, -5.3712, -5.3951, -5.4294, -5.485, -5.4526, -5.5246, -5.5202, -5.559, -5.4545, -5.5737, -5.538, -5.6263, -5.6754, -5.7397, -5.7343, -5.7653, -5.8265, -5.8411, -5.778, -5.844, -4.2021, -4.8791, -5.3811, -5.6657, -5.733, -5.5665, -5.1632, -5.7068, -4.4466, -4.6031, -4.7649, -5.0167, -5.0592, -5.0618, -5.0519, -5.2936, -5.2636, -5.4489, -5.4142, -5.4654, -5.3473, -5.4691, -5.6108, -5.6102, -5.7321, -5.6751, -5.7728, -5.7779, -5.7116, -5.7701, -5.7577, -5.7246, -5.6622, -5.5962, -5.8331, -5.9298, -5.9333, -5.8681, -5.0557, -5.7565, -5.7025, -5.1812], \"loglift\": [30.0, 29.0, 28.0, 27.0, 26.0, 25.0, 24.0, 23.0, 22.0, 21.0, 20.0, 19.0, 18.0, 17.0, 16.0, 15.0, 14.0, 13.0, 12.0, 11.0, 10.0, 9.0, 8.0, 7.0, 6.0, 5.0, 4.0, 3.0, 2.0, 1.0, 0.8836, 0.8836, 0.8836, 0.8835, 0.8835, 0.8835, 0.8834, 0.8834, 0.8834, 0.8833, 0.8833, 0.8832, 0.8831, 0.8831, 0.8831, 0.8831, 0.883, 0.883, 0.883, 0.8829, 0.8828, 0.8826, 0.8826, 0.8826, 0.8825, 0.8825, 0.8825, 0.8824, 0.8824, 0.8824, 0.8811, 0.8822, 0.8736, 0.8733, 0.6879, 0.9343, 0.9341, 0.9341, 0.9341, 0.9339, 0.9339, 0.9339, 0.9338, 0.9338, 0.9337, 0.9336, 0.9336, 0.9336, 0.9335, 0.9335, 0.9335, 0.9334, 0.9334, 0.9334, 0.9334, 0.9333, 0.9333, 0.9332, 0.9332, 0.9332, 0.9331, 0.933, 0.933, 0.933, 0.9329, 0.9293, 0.9318, 0.9322, 0.9329, 0.9325, 0.9289, 0.8996, 0.9248, 1.6382, 1.6382, 1.638, 1.6375, 1.6375, 1.6375, 1.6374, 1.6371, 1.6371, 1.6368, 1.6367, 1.6366, 1.6366, 1.6362, 1.6362, 1.6361, 1.636, 1.6358, 1.6358, 1.6358, 1.6358, 1.6358, 1.6357, 1.6356, 1.6354, 1.6354, 1.6354, 1.6352, 1.6352, 1.6352, 1.6328, 1.6349, 1.6328, 1.6203]}, \"token.table\": {\"Topic\": [1, 3, 1, 2, 3, 2, 2, 1, 2, 1, 2, 1, 2, 3, 2, 1, 2, 1, 2, 3, 2, 3, 2, 3, 3, 2, 3, 1, 3, 2, 1, 1, 2, 1, 1, 3, 3, 2, 1, 2, 1, 3, 3, 3, 1, 2, 2, 3, 3, 2, 2, 2, 3, 1, 1, 3, 2, 3, 2, 1, 2, 1, 2, 3, 2, 3, 1, 2, 3, 1, 1, 2, 1, 1, 1, 1, 1, 1, 1, 2, 1, 2, 3, 2, 3, 1, 1, 1, 2, 1, 3, 1, 2, 3, 2, 1, 2, 2, 1, 2, 3, 2, 1, 3, 1, 2, 3, 3, 3, 2, 1, 3, 2, 3, 1, 2, 1, 2, 3, 2, 1, 1, 1, 1, 2, 1, 1], \"Freq\": [0.004659375277832821, 0.9924469341783909, 0.0022768126469471673, 0.9972439393628594, 0.9962883775772252, 0.9988488940840201, 0.9994509394220484, 0.9993218596170337, 0.00045116111043658403, 0.0021294622314778472, 0.9987177865631104, 0.0006309326527317324, 0.9993487886460848, 0.9986063856153469, 0.9980019303651472, 0.03364492429119842, 0.9657339379881029, 0.9998916280111784, 0.9993814885212972, 0.9959481614922202, 0.9979423744574556, 0.9973147790869162, 0.9985891346071032, 0.9942270358183981, 0.998127438555347, 0.9989836753431401, 0.9948155791987386, 0.9985458069730456, 0.995070433749685, 0.9992055833226111, 0.9991556537600126, 0.9996031878844475, 0.9994223741019791, 0.9992274342611618, 0.9996620459080476, 0.998772950121561, 0.997957157460117, 0.9981840957343476, 0.0011244623168407202, 0.9985225373545595, 0.004010412827282889, 0.9945823811661565, 0.9983239354835048, 0.9956430235068859, 0.997502986390502, 0.0025062889105288994, 0.9985189668147336, 0.9941964199217908, 0.9960815263699362, 0.9988119051224633, 0.99836031379719, 0.9976001932269944, 0.9976968556899859, 0.99972288699223, 0.9995902984428111, 0.9995772281305785, 0.9996218200266836, 0.9974793025586058, 0.9994143082092967, 0.005762115284291757, 0.9949252390877099, 0.004448412046025112, 0.004448412046025112, 0.9919958862636, 0.9986189388889913, 0.9979054993045214, 0.998136483727692, 0.9991065918209163, 0.9982197172123191, 0.9988199737767668, 0.999857446720253, 0.9992470164203051, 0.9997099132937861, 0.9995213306937555, 0.999661973814842, 0.9995571630730605, 0.9993699591465671, 0.9997217205495984, 0.9991333310017859, 0.9976649293538824, 0.9896393391836144, 0.009234581703113042, 0.9945774867144286, 0.0182583094847492, 0.9807320523236713, 0.9998442043064741, 0.9987894579188702, 0.9994555420347601, 0.9977597875557055, 0.9989628522055883, 0.9977403489737401, 0.9902596175774515, 0.010301790559973488, 0.9974771568556274, 0.9974081691150026, 0.8216555869545951, 0.177468387645172, 0.9992976235778204, 0.0029060547456250634, 0.9967767777493968, 0.9972831078618435, 0.9986970342111715, 0.9998995035183073, 0.9967463363193025, 0.008802990388450288, 0.9903364187006574, 0.9970925801525824, 0.9984816371775578, 0.9966131627915993, 0.999684648901562, 0.999652785594475, 0.998487265761789, 0.9982930118351283, 0.9969715176499399, 0.9984848856842052, 0.9976635004964101, 0.005400288236345234, 0.9946349060759494, 0.9974738371192913, 0.9993137560558282, 0.9995783489971233, 0.9994027341847508, 0.999455164179576, 0.0016008415129504679, 0.9973242625681416, 0.9985591008642909, 0.9992315358640725], \"Term\": [\"account\", \"account\", \"adventure\", \"adventure\", \"answer\", \"anyone\", \"anything\", \"author\", \"author\", \"bit\", \"bit\", \"book\", \"book\", \"business\", \"case\", \"chapter\", \"chapter\", \"character\", \"child\", \"city\", \"copy\", \"country\", \"course\", \"crime\", \"daughter\", \"day\", \"dream\", \"end\", \"even_though\", \"everyone\", \"everything\", \"example\", \"experience\", \"eye\", \"fact\", \"family\", \"father\", \"friend\", \"history\", \"history\", \"hobbit\", \"hobbit\", \"home\", \"husband\", \"idea\", \"idea\", \"information\", \"john\", \"journey\", \"kid\", \"kind\", \"language\", \"law\", \"life\", \"lot\", \"love\", \"man\", \"map\", \"men\", \"mind\", \"mind\", \"mob_dick\", \"mob_dick\", \"mob_dick\", \"money\", \"mother\", \"movie\", \"mr\", \"narrator\", \"nothing\", \"novel\", \"one\", \"page\", \"part\", \"people\", \"person\", \"place\", \"plot\", \"point\", \"power\", \"problem\", \"problem\", \"process\", \"question\", \"question\", \"quit\", \"read\", \"reader\", \"reading\", \"reason\", \"research\", \"review\", \"review\", \"scene\", \"school\", \"series\", \"series\", \"someone\", \"something\", \"something\", \"son\", \"star\", \"story\", \"study\", \"style\", \"style\", \"system\", \"tale\", \"theory\", \"thing\", \"time\", \"translation\", \"use\", \"version\", \"view\", \"war\", \"way\", \"way\", \"wife\", \"woman\", \"word\", \"work\", \"world\", \"writer\", \"writer\", \"writing\", \"year\"]}, \"R\": 30, \"lambda.step\": 0.01, \"plot.opts\": {\"xlab\": \"PC1\", \"ylab\": \"PC2\"}, \"topic.order\": [1, 3, 2]};\n",
       "\n",
       "function LDAvis_load_lib(url, callback){\n",
       "  var s = document.createElement('script');\n",
       "  s.src = url;\n",
       "  s.async = true;\n",
       "  s.onreadystatechange = s.onload = callback;\n",
       "  s.onerror = function(){console.warn(\"failed to load library \" + url);};\n",
       "  document.getElementsByTagName(\"head\")[0].appendChild(s);\n",
       "}\n",
       "\n",
       "if(typeof(LDAvis) !== \"undefined\"){\n",
       "   // already loaded: just create the visualization\n",
       "   !function(LDAvis){\n",
       "       new LDAvis(\"#\" + \"ldavis_el1134151249477928698024234\", ldavis_el1134151249477928698024234_data);\n",
       "   }(LDAvis);\n",
       "}else if(typeof define === \"function\" && define.amd){\n",
       "   // require.js is available: use it to load d3/LDAvis\n",
       "   require.config({paths: {d3: \"https://d3js.org/d3.v5\"}});\n",
       "   require([\"d3\"], function(d3){\n",
       "      window.d3 = d3;\n",
       "      LDAvis_load_lib(\"https://cdn.jsdelivr.net/gh/bmabey/pyLDAvis@3.4.0/pyLDAvis/js/ldavis.v3.0.0.js\", function(){\n",
       "        new LDAvis(\"#\" + \"ldavis_el1134151249477928698024234\", ldavis_el1134151249477928698024234_data);\n",
       "      });\n",
       "    });\n",
       "}else{\n",
       "    // require.js not available: dynamically load d3 & LDAvis\n",
       "    LDAvis_load_lib(\"https://d3js.org/d3.v5.js\", function(){\n",
       "         LDAvis_load_lib(\"https://cdn.jsdelivr.net/gh/bmabey/pyLDAvis@3.4.0/pyLDAvis/js/ldavis.v3.0.0.js\", function(){\n",
       "                 new LDAvis(\"#\" + \"ldavis_el1134151249477928698024234\", ldavis_el1134151249477928698024234_data);\n",
       "            })\n",
       "         });\n",
       "}\n",
       "</script>"
      ],
      "text/plain": [
       "<IPython.core.display.HTML object>"
      ]
     },
     "execution_count": 149,
     "metadata": {},
     "output_type": "execute_result"
    }
   ],
   "source": [
    "pyldavis_lda3 = gensimvis.prepare(lda_3, corpus, id2word)\n",
    "pyLDAvis.display(pyldavis_lda3)"
   ]
  },
  {
   "cell_type": "markdown",
   "id": "1df759f5",
   "metadata": {},
   "source": [
    "Con tres tópicos podemos ver: \n",
    "- tópico 1: parece centrado en el contenido narrativo y la experiencia del lector con la historia con palabras como \"story\", \"character\", \"novel\", \"author\", \"reader\" y \"world\"\n",
    "\n",
    "- tópico 2: Este tópico tiene una palabra altamente dominante: \"book\" con un peso muy superior a las demás (0.152). Las demás palabras son bastante genéricas: \"way\", \"thing\", \"something\", \"one\" podría considerarse un poco trash topic o \"tópico basura\"\n",
    "\n",
    "- tópico 3: parece centrado en temas familiares y emocionales con palabras como \"family\", \"father\", \"mother\", \"son\" y \"home\"\n"
   ]
  },
  {
   "cell_type": "markdown",
   "id": "48c85793",
   "metadata": {},
   "source": [
    "Añadir que dentro de lo que cabe, es comprensible que no consigamos detectar tópicos muy marcados, ya que al fin y al cabo todas las reseñas tratan sobre libros. Sería más fácil detectar temas con un corpus más amplio, como por ejemplo reseñas en general de prodictos de amazon o resúmenes de libros."
   ]
  },
  {
   "cell_type": "markdown",
   "id": "YF6i9Y4Lodhq",
   "metadata": {
    "id": "YF6i9Y4Lodhq"
   },
   "source": [
    "<div style=\"background-color: #EDF7FF; border-color: #7C9DBF; border-left: 5px solid #7C9DBF; padding: 0.5em;\">\n",
    "\n",
    "<strong>Ejercicio Opcional:</strong> Tomando como base los resultados de cada modelo LDA, calcular las métricas de calidad denominadas perplejidad y coherencia, las cuales están definidas en el paquete gensim.\n",
    "<br>\n",
    "Tanto la perplejidad como la coherencia son métricas complementarias. Una perplejidad baja indica que el modelo puede generalizar bien a nuevos datos, mientras que una alta coherencia indica que los temas generados son interpretables y distintos entre sí. Cuando evaluamos el rendimiento de un modelo LDA, se sugiere elegir modelos que evidencien un equilibrio entre ambas métricas.\n",
    "<br>\n",
    "Como indica el enunciado este ejercicio es opcional, pero ha sido incorporado en la práctica por sí alguien quiere aprender un poco más el tema. Las métricas mencionadas nos puede ayudar a tener un criterio adicional para elegir el modelo de temas máas apropiado. Para una introducción básica de este tema podrían revisar el siguiente post (https://medium.com/@iqra.bismi/topic-modelling-using-lda-fe81a2a806e0)\n",
    "<br>\n",
    "<b>Salida esperada:</b>\n",
    "<br>\n",
    "- Valores de coherencia y perplejidad de cada modelo (puedes usar el valor absoluto calculado para una mejor interpretación) de cada uno de los 3 modelos de LDA.\n",
    "\n",
    "</div>"
   ]
  },
  {
   "cell_type": "code",
   "execution_count": null,
   "id": "ggDQcxhpoexZ",
   "metadata": {
    "id": "ggDQcxhpoexZ"
   },
   "outputs": [],
   "source": [
    "#############################################\n",
    "# SOLUCIÓN                                  #\n",
    "#############################################\n",
    "#  Calcular perplejidad y coherencia para cada modelo\n",
    "# 3 tópicos\n",
    "perplexity_3 = lda_3.log_perplexity(corpus)\n",
    "coherence_3 = CoherenceModel(model=lda_3, texts=noun_and_collocation_stream, dictionary=id2word, coherence='c_v').get_coherence()\n",
    "\n",
    "# 5 tópicos\n",
    "perplexity_5 = lda_5.log_perplexity(corpus)\n",
    "coherence_5 = CoherenceModel(model=lda_5, texts=noun_and_collocation_stream, dictionary=id2word, coherence='c_v').get_coherence()\n",
    "\n",
    "# 7 tópicos\n",
    "perplexity_7 = lda_7.log_perplexity(corpus)\n",
    "coherence_7 = CoherenceModel(model=lda_7, texts=noun_and_collocation_stream, dictionary=id2word, coherence='c_v').get_coherence()\n",
    "\n",
    "# 10 tópicos\n",
    "perplexity_10 = lda_10.log_perplexity(corpus)\n",
    "coherence_10 = CoherenceModel(model=lda_10, texts=noun_and_collocation_stream, dictionary=id2word, coherence='c_v').get_coherence()\n"
   ]
  },
  {
   "cell_type": "code",
   "execution_count": 155,
   "id": "5870d84b",
   "metadata": {},
   "outputs": [
    {
     "name": "stdout",
     "output_type": "stream",
     "text": [
      "* Modelo con 3 tópicos:\n",
      "   - Perplejidad: 8.2299\n",
      "   - Coherencia: 0.3227\n",
      "\n",
      "* Modelo con 5 tópicos:\n",
      "   - Perplejidad: 8.3167\n",
      "   - Coherencia: 0.2946\n",
      "\n",
      "* Modelo con 7 tópicos:\n",
      "   - Perplejidad: 8.4336\n",
      "   - Coherencia: 0.3477\n",
      "\n",
      "* Modelo con 10 tópicos:\n",
      "   - Perplejidad: 9.1203\n",
      "   - Coherencia: 0.3039\n"
     ]
    }
   ],
   "source": [
    "print(f\"* Modelo con 3 tópicos:\\n   - Perplejidad: {abs(perplexity_3):.4f}\\n   - Coherencia: {coherence_3:.4f}\\n\")\n",
    "print(f\"* Modelo con 5 tópicos:\\n   - Perplejidad: {abs(perplexity_5):.4f}\\n   - Coherencia: {coherence_5:.4f}\\n\")\n",
    "print(f\"* Modelo con 7 tópicos:\\n   - Perplejidad: {abs(perplexity_7):.4f}\\n   - Coherencia: {coherence_7:.4f}\\n\")\n",
    "print(f\"* Modelo con 10 tópicos:\\n   - Perplejidad: {abs(perplexity_10):.4f}\\n   - Coherencia: {coherence_10:.4f}\")"
   ]
  },
  {
   "cell_type": "markdown",
   "id": "1f6ed8c2",
   "metadata": {
    "id": "1f6ed8c2"
   },
   "source": [
    "# 4. Clasificación automática de opiniones positivas y negativas\n",
    "\n",
    "El objetivo de esta parte será crear un clasificador que permita, dado un texto, identificar la polaridad de su opinión.\n",
    "\n",
    "## 4.1 Clasificación binaria de sentimientos según Logistic Regression"
   ]
  },
  {
   "cell_type": "markdown",
   "id": "32290b6e",
   "metadata": {
    "id": "32290b6e"
   },
   "source": [
    "### 4.1.1\n",
    "\n",
    "<div style=\"background-color: #EDF7FF; border-color: #7C9DBF; border-left: 5px solid #7C9DBF; padding: 0.5em;\">\n",
    "<strong>Ejercicio 4.1.1:</strong> Crear un clasificador automático de opiniones positivas y negativas.\n",
    "</div>\n",
    "<br>\n",
    "\n",
    "<b>Pasos a seguir:</b>\n",
    "\n",
    "1. Crear dos listas, una con los textos y otra con las etiquetas de valoración (0 y 1).\n",
    "2. Vectorizar las opiniones con un vectorizador tf.idf. Usad 'word' como analyzer\n",
    "3. Preparar el corpus de entrenamiento y evaluación y entrenar al clasificador con Logistic Regression.\n",
    "4. Utilizar el modelo entrenado para predecir la categoría 1 (positivo) o 0 (negativo) de las opiniones del conjunto de test y mostrar las palabras más informativas para cada categoría.ría."
   ]
  },
  {
   "cell_type": "markdown",
   "id": "3a45ae89",
   "metadata": {
    "id": "3a45ae89"
   },
   "source": [
    "#### 4.1.1.1\n",
    "<div style=\"background-color: #F8F7FF; border-color: #7C9DBF; border-left: 5px solid #7C9DBF; padding: 0.5em;\">\n",
    "\n",
    "<i>Primer paso</i>: Crear dos listas. Una con los textos y otra con las etiquetas de valoración (0 y 1).\n",
    "\n",
    "<b>Salida esperada:</b> Lista de las 3 primeras opiniones.\n",
    "</div>"
   ]
  },
  {
   "cell_type": "code",
   "execution_count": 157,
   "id": "ec874492",
   "metadata": {
    "id": "ec874492"
   },
   "outputs": [
    {
     "name": "stdout",
     "output_type": "stream",
     "text": [
      "Primeras 3 opiniones:\n",
      "1. feeling: 1 ||  good material . i like the concept of the study . might not change your life but might change your way of thinking...\n",
      "2. feeling: 0 ||  generations of solid state physics students including myself have been brought up using this text by kitten . i have also taught from this text numerous times . poor poor students the text contains al...\n",
      "3. feeling: 0 ||  first off when i bought this book i had a lot of high hopes for it but upon reading it i found it to be way to water down for me to like it . first it brings up in candle magic how the view point of b...\n"
     ]
    }
   ],
   "source": [
    "#############################################\n",
    "# SOLUCIÓN                                 #\n",
    "#############################################\n",
    "# 1. Lista de textos\n",
    "texts = df['text'].tolist()\n",
    "\n",
    "# 2. Lista de etiquetas (0 = negativo, 1 = positivo)\n",
    "labels = df['feeling'].astype(int).tolist()\n",
    "\n",
    "# 3. 3 primeras opiniones\n",
    "print(\"Primeras 3 opiniones:\")\n",
    "for i, (t, l) in enumerate(zip(texts[:3], labels[:3]), start=1):\n",
    "    print(f\"{i}. feeling: {l} ||  {t[:200]}...\")\n"
   ]
  },
  {
   "cell_type": "markdown",
   "id": "9720bc32",
   "metadata": {
    "id": "9720bc32"
   },
   "source": [
    "#### 4.1.1.2\n",
    "\n",
    "<div style=\"background-color: #F8F7FF; border-color: #7C9DBF; border-left: 5px solid #7C9DBF; padding: 0.5em;\">\n",
    "\n",
    "<i>Segundo paso</i>: Vectorizar las opiniones con un vectorizador tf.idf. Usar 'word' como analyzer.\n",
    "<br>\n",
    "\n",
    "<b>Salida esperada:</b> Imprimir la matriz de los vectores correpsondientes a las primeras 5 opiniones.\n",
    "</div>"
   ]
  },
  {
   "cell_type": "code",
   "execution_count": 159,
   "id": "db1d3584",
   "metadata": {},
   "outputs": [
    {
     "data": {
      "text/html": [
       "<div>\n",
       "<style scoped>\n",
       "    .dataframe tbody tr th:only-of-type {\n",
       "        vertical-align: middle;\n",
       "    }\n",
       "\n",
       "    .dataframe tbody tr th {\n",
       "        vertical-align: top;\n",
       "    }\n",
       "\n",
       "    .dataframe thead th {\n",
       "        text-align: right;\n",
       "    }\n",
       "</style>\n",
       "<table border=\"1\" class=\"dataframe\">\n",
       "  <thead>\n",
       "    <tr style=\"text-align: right;\">\n",
       "      <th></th>\n",
       "      <th>aaron</th>\n",
       "      <th>abandon</th>\n",
       "      <th>abandoned</th>\n",
       "      <th>abandonment</th>\n",
       "      <th>abandons</th>\n",
       "      <th>abel</th>\n",
       "      <th>abides</th>\n",
       "      <th>abiding</th>\n",
       "      <th>abilities</th>\n",
       "      <th>ability</th>\n",
       "      <th>...</th>\n",
       "      <th>yuck</th>\n",
       "      <th>yugoslavia</th>\n",
       "      <th>zeal</th>\n",
       "      <th>zealand</th>\n",
       "      <th>zen</th>\n",
       "      <th>zero</th>\n",
       "      <th>zest</th>\n",
       "      <th>zombie</th>\n",
       "      <th>zone</th>\n",
       "      <th>zoo</th>\n",
       "    </tr>\n",
       "  </thead>\n",
       "  <tbody>\n",
       "    <tr>\n",
       "      <th>0</th>\n",
       "      <td>0.0</td>\n",
       "      <td>0.0</td>\n",
       "      <td>0.0</td>\n",
       "      <td>0.0</td>\n",
       "      <td>0.0</td>\n",
       "      <td>0.0</td>\n",
       "      <td>0.0</td>\n",
       "      <td>0.0</td>\n",
       "      <td>0.0</td>\n",
       "      <td>0.0</td>\n",
       "      <td>...</td>\n",
       "      <td>0.0</td>\n",
       "      <td>0.0</td>\n",
       "      <td>0.0</td>\n",
       "      <td>0.0</td>\n",
       "      <td>0.0</td>\n",
       "      <td>0.000000</td>\n",
       "      <td>0.0</td>\n",
       "      <td>0.0</td>\n",
       "      <td>0.0</td>\n",
       "      <td>0.0</td>\n",
       "    </tr>\n",
       "    <tr>\n",
       "      <th>1</th>\n",
       "      <td>0.0</td>\n",
       "      <td>0.0</td>\n",
       "      <td>0.0</td>\n",
       "      <td>0.0</td>\n",
       "      <td>0.0</td>\n",
       "      <td>0.0</td>\n",
       "      <td>0.0</td>\n",
       "      <td>0.0</td>\n",
       "      <td>0.0</td>\n",
       "      <td>0.0</td>\n",
       "      <td>...</td>\n",
       "      <td>0.0</td>\n",
       "      <td>0.0</td>\n",
       "      <td>0.0</td>\n",
       "      <td>0.0</td>\n",
       "      <td>0.0</td>\n",
       "      <td>0.000000</td>\n",
       "      <td>0.0</td>\n",
       "      <td>0.0</td>\n",
       "      <td>0.0</td>\n",
       "      <td>0.0</td>\n",
       "    </tr>\n",
       "    <tr>\n",
       "      <th>2</th>\n",
       "      <td>0.0</td>\n",
       "      <td>0.0</td>\n",
       "      <td>0.0</td>\n",
       "      <td>0.0</td>\n",
       "      <td>0.0</td>\n",
       "      <td>0.0</td>\n",
       "      <td>0.0</td>\n",
       "      <td>0.0</td>\n",
       "      <td>0.0</td>\n",
       "      <td>0.0</td>\n",
       "      <td>...</td>\n",
       "      <td>0.0</td>\n",
       "      <td>0.0</td>\n",
       "      <td>0.0</td>\n",
       "      <td>0.0</td>\n",
       "      <td>0.0</td>\n",
       "      <td>0.000000</td>\n",
       "      <td>0.0</td>\n",
       "      <td>0.0</td>\n",
       "      <td>0.0</td>\n",
       "      <td>0.0</td>\n",
       "    </tr>\n",
       "    <tr>\n",
       "      <th>3</th>\n",
       "      <td>0.0</td>\n",
       "      <td>0.0</td>\n",
       "      <td>0.0</td>\n",
       "      <td>0.0</td>\n",
       "      <td>0.0</td>\n",
       "      <td>0.0</td>\n",
       "      <td>0.0</td>\n",
       "      <td>0.0</td>\n",
       "      <td>0.0</td>\n",
       "      <td>0.0</td>\n",
       "      <td>...</td>\n",
       "      <td>0.0</td>\n",
       "      <td>0.0</td>\n",
       "      <td>0.0</td>\n",
       "      <td>0.0</td>\n",
       "      <td>0.0</td>\n",
       "      <td>0.075198</td>\n",
       "      <td>0.0</td>\n",
       "      <td>0.0</td>\n",
       "      <td>0.0</td>\n",
       "      <td>0.0</td>\n",
       "    </tr>\n",
       "    <tr>\n",
       "      <th>4</th>\n",
       "      <td>0.0</td>\n",
       "      <td>0.0</td>\n",
       "      <td>0.0</td>\n",
       "      <td>0.0</td>\n",
       "      <td>0.0</td>\n",
       "      <td>0.0</td>\n",
       "      <td>0.0</td>\n",
       "      <td>0.0</td>\n",
       "      <td>0.0</td>\n",
       "      <td>0.0</td>\n",
       "      <td>...</td>\n",
       "      <td>0.0</td>\n",
       "      <td>0.0</td>\n",
       "      <td>0.0</td>\n",
       "      <td>0.0</td>\n",
       "      <td>0.0</td>\n",
       "      <td>0.000000</td>\n",
       "      <td>0.0</td>\n",
       "      <td>0.0</td>\n",
       "      <td>0.0</td>\n",
       "      <td>0.0</td>\n",
       "    </tr>\n",
       "  </tbody>\n",
       "</table>\n",
       "<p>5 rows × 12157 columns</p>\n",
       "</div>"
      ],
      "text/plain": [
       "   aaron  abandon  abandoned  abandonment  abandons  abel  abides  abiding  \\\n",
       "0    0.0      0.0        0.0          0.0       0.0   0.0     0.0      0.0   \n",
       "1    0.0      0.0        0.0          0.0       0.0   0.0     0.0      0.0   \n",
       "2    0.0      0.0        0.0          0.0       0.0   0.0     0.0      0.0   \n",
       "3    0.0      0.0        0.0          0.0       0.0   0.0     0.0      0.0   \n",
       "4    0.0      0.0        0.0          0.0       0.0   0.0     0.0      0.0   \n",
       "\n",
       "   abilities  ability  ...  yuck  yugoslavia  zeal  zealand  zen      zero  \\\n",
       "0        0.0      0.0  ...   0.0         0.0   0.0      0.0  0.0  0.000000   \n",
       "1        0.0      0.0  ...   0.0         0.0   0.0      0.0  0.0  0.000000   \n",
       "2        0.0      0.0  ...   0.0         0.0   0.0      0.0  0.0  0.000000   \n",
       "3        0.0      0.0  ...   0.0         0.0   0.0      0.0  0.0  0.075198   \n",
       "4        0.0      0.0  ...   0.0         0.0   0.0      0.0  0.0  0.000000   \n",
       "\n",
       "   zest  zombie  zone  zoo  \n",
       "0   0.0     0.0   0.0  0.0  \n",
       "1   0.0     0.0   0.0  0.0  \n",
       "2   0.0     0.0   0.0  0.0  \n",
       "3   0.0     0.0   0.0  0.0  \n",
       "4   0.0     0.0   0.0  0.0  \n",
       "\n",
       "[5 rows x 12157 columns]"
      ]
     },
     "execution_count": 159,
     "metadata": {},
     "output_type": "execute_result"
    }
   ],
   "source": [
    "#############################################\n",
    "# SOLUCIÓN                                 #\n",
    "#############################################\n",
    "\n",
    "# creamos vectorizador con filtros min_df y max_df para evitar palabras demasiado o muy poco frecuentes: \n",
    "# min_df=5 filtra términos que aparecen en menos de 5 documentos\n",
    "# max_df=0.85 filtra términos que aparecen en más del 85% de documentos\n",
    "\n",
    "vectorizer = TfidfVectorizer(analyzer='word', min_df=5, max_df=0.85)\n",
    "\n",
    "# Vectorizar\n",
    "X = vectorizer.fit_transform(texts)\n",
    "\n",
    "# para verlo de forma mas limpia creamos un df \n",
    "feature_names = vectorizer.get_feature_names_out()\n",
    "tfidf_df = pd.DataFrame(X[:5].toarray(), columns=feature_names)\n",
    "\n",
    "tfidf_df.head()\n"
   ]
  },
  {
   "cell_type": "markdown",
   "id": "4e4dcd20",
   "metadata": {},
   "source": [
    "En esta tabla, cada celda representa el peso tf-idf de una palabra en una opinión.\n",
    "\n",
    "Valores altos indican relevancia local, es decir, que una palabra es muy representativa en esa opinión y no tan común en el corpus."
   ]
  },
  {
   "cell_type": "markdown",
   "id": "3122e026",
   "metadata": {
    "id": "3122e026"
   },
   "source": [
    "#### 4.1.1.3\n",
    "\n",
    "<div style=\"background-color: #F8F7FF; border-color: #7C9DBF; border-left: 5px solid #7C9DBF; padding: 0.5em;\">\n",
    "\n",
    "<i>Tercer paso</i>: Preparar el corpus de entrenamiento y evaluación, y entrenar al clasificador con Logistic Regression.\n",
    "<br>\n",
    "<b>Salida esperada:</b> Tiempo de ejecución que conlleva realizar el entrenamiento (fit()).\n",
    "</div>"
   ]
  },
  {
   "cell_type": "code",
   "execution_count": 160,
   "id": "0b251acc",
   "metadata": {
    "id": "0b251acc"
   },
   "outputs": [
    {
     "name": "stdout",
     "output_type": "stream",
     "text": [
      "Tiempo de entrenamiento: 0.0816 segundos\n"
     ]
    }
   ],
   "source": [
    "#############################################\n",
    "# SOLUCIÓN                                  #\n",
    "#############################################\n",
    "# dividir datos en entrenamiento y prueba\n",
    "X_train, X_test, y_train, y_test = train_test_split(X, labels, test_size=0.2, random_state=42)\n",
    "\n",
    "# inicializar el modelo\n",
    "clf = LogisticRegression(max_iter=1000)\n",
    "\n",
    "start = time.time()\n",
    "clf.fit(X_train, y_train)\n",
    "end = time.time()\n",
    "\n",
    "print(f\"Tiempo de entrenamiento: {end - start:.4f} segundos\")"
   ]
  },
  {
   "cell_type": "markdown",
   "id": "8c78a34d",
   "metadata": {
    "id": "8c78a34d"
   },
   "source": [
    "#### 4.1.1.4\n",
    "<div style=\"background-color: #F8F7FF; border-color: #7C9DBF; border-left: 5px solid #7C9DBF; padding: 0.5em;\">\n",
    "\n",
    "<i>Cuarto paso</i>: Utilizar el modelo entrenado para predecir la categoría 1 (positivo) o 0 (negativo) de las opiniones del conjunto de test y mostrar las palabras más informativas para cada categoría.\n",
    "<br>\n",
    "<b>Salida esperada:</b> Lista de las 10 palabras más informativas de cada categoría.\n",
    "</div>"
   ]
  },
  {
   "cell_type": "code",
   "execution_count": 162,
   "id": "160fc014",
   "metadata": {
    "id": "160fc014"
   },
   "outputs": [
    {
     "name": "stdout",
     "output_type": "stream",
     "text": [
      "Palabras más informativas para opiniones positivas (clase 1):\n",
      "great, best, wonderful, excellent, well, enjoyed, love, life, must, loved\n",
      "\n",
      "Palabras más informativas para opiniones negativas (clase 0):\n",
      "not, boring, disappointed, waste, if, no, worst, pages, money, author\n"
     ]
    }
   ],
   "source": [
    "#############################################\n",
    "# SOLUCIÓN                                  #\n",
    "#############################################\n",
    "\n",
    "# predecimos opiniones test\n",
    "y_pred = clf.predict(X_test)\n",
    "\n",
    "# coeficientes del modelo (1 por palabra)\n",
    "feature_names = vectorizer.get_feature_names_out()\n",
    "coefficients = clf.coef_[0]  # Regresión binaria, una sola fila\n",
    "\n",
    "# ordenamos los términos por su importancia\n",
    "top_positive_indices = np.argsort(coefficients)[-10:][::-1]\n",
    "top_negative_indices = np.argsort(coefficients)[:10]\n",
    "\n",
    "top_positive_words = [feature_names[i] for i in top_positive_indices]\n",
    "top_negative_words = [feature_names[i] for i in top_negative_indices]\n",
    "\n",
    "# resultados\n",
    "print(\"Palabras más informativas para opiniones positivas (clase 1):\")\n",
    "print(\", \".join(top_positive_words))\n",
    "\n",
    "print(\"\\nPalabras más informativas para opiniones negativas (clase 0):\")\n",
    "print(\", \".join(top_negative_words))\n"
   ]
  },
  {
   "cell_type": "markdown",
   "id": "4af23001",
   "metadata": {
    "id": "4af23001"
   },
   "source": [
    "### 4.1.2\n",
    "\n",
    "<div style=\"background-color: #EDF7FF; border-color: #7C9DBF; border-left: 5px solid #7C9DBF; padding: 0.5em;\">\n",
    "    \n",
    "<strong>Ejercicio 4.1.2:</strong> Identificar sobre qué aspectos se hacen valoraciones negativas.\n",
    "</div>\n",
    "<br>\n",
    "\n",
    "<b>Pasos a seguir: </b>\n",
    "\n",
    "1. Elegir dos palabras más informativas de la categoría 0 y un conjunto de opiniones en las que aparezcan estas palabras. Preprocesar las opiniones quitando los caracteres de salto de línea.\n",
    "2. Utilizar el diccionario de opiniones (archivo AFINN-111) para extraer la polaridad de cada opinión como la media de los valores de las opinion words del texto.\n",
    "3. Seleccionar opiniones con polaridad negativa que ejemplifiquen los aspectos peor valorados. Comenta cuáles son estos aspectos.tos"
   ]
  },
  {
   "cell_type": "markdown",
   "id": "d8eb0943",
   "metadata": {
    "id": "d8eb0943"
   },
   "source": [
    "#### 4.1.2.1\n",
    "<div style=\"background-color: #F8F7FF; border-color: #7C9DBF; border-left: 5px solid #7C9DBF; padding: 0.5em;\">\n",
    "\n",
    "<i>Primer paso</i>: Elegir dos palabras más informativas de la categoría 0 y un conjunto de opiniones en las que aparezcan estas palabras. Preprocesar las opiniones quitando los caracteres de salto de línea.\n",
    "<br>\n",
    "<b>Salida esperada:</b> Lista de las 3 primeras opiniones en las que aparezcan los términos seleccionados.\n",
    "\n",
    "</div>"
   ]
  },
  {
   "cell_type": "code",
   "execution_count": 163,
   "id": "7eb6ab69",
   "metadata": {
    "id": "7eb6ab69"
   },
   "outputs": [
    {
     "name": "stdout",
     "output_type": "stream",
     "text": [
      "Opiniones que contienen las palabras más informativas (negativas):\n",
      "\n",
      "- this book received such great reviews but i found it incredibly boring . particularly because every story followed the same format and there were no rules to his universe . basic story outline protagonists let s go visit planet arc king of arc i have a problem you need to solve it might be considered a riddle protagonists we all just create a machine to do it because we can build machines that can do absolutely anything king of arc alas you have outsmarted me protagonists that was troubling let s not go to arc again if you can create a machine that can do anything then basically the machine and its creator are basically gods and therefore there will be nothing interesting in their stories . there is no conflict worth telling a story about when everything can be solved by the snap of a finger . furthermore even though the stories are about robots and space travel this book is not science fiction it s just space fantasy . the stories seem like they were written by someone with just a passing understanding of science . granted you have to take lem s time era into consideration but the pulp magazines of early last century did a much better job of creating stories about future technology . you could replace lem s robots with summoned demons and his space ship with a horse and the story would not change because there are zero rules in his universe and that is an incredibly unforgiving fault .\n",
      "\n",
      "- i bought this book the day before writing this . i was very disappointed because it s written from the perspective of two people one a teacher of add kids and the other an herbalist who are not parents or have add themselves so how would they know they don t . as a add person with a add kid whose father has it too i have enough blame placed upon me without reading a book that says my child needs more hugs that we need to cut off the t . v . she s too hyper to watch it and that both parents and teachers have failed add kids . it s a case of people thinking they know what is wrong with add kids without truly knowing . my daughter has a double dose and has always been a handful since she was one . they are saying that parents should t take the words of the teachers and parents should t want their kids labeled . most parents are like me have been dragging their kids to the pediatrician since they were very young begging for someone to listen . i did t need a teacher to confirm what i knew along time ago . i am though trying the natural approach to add and it works to of the time . i am still working on the right combination though . from the point of view of an herbal approach to add i appreciate it for giving even more choices than i had but from the point of view of understanding add they have not a clue\n",
      "\n",
      "- out of the dust was boring i did not like it because it was not funny it was dumb because all it did was blame billie joe about everything . the book is about a girl mom baby pro died . the story at the end was dumb because we do not know what happened to billie joe . if you like bad endings in books the you should read this book .\n",
      "\n"
     ]
    }
   ],
   "source": [
    "#############################################\n",
    "# SOLUCIÓN                                  #\n",
    "#############################################\n",
    "negative_keywords = [\"boring\", \"disappointed\"] \n",
    "\n",
    "# filtramos opiniones que contengan alguna de las palabras seleccionadas\n",
    "opinions_with_neg_words = df[df['text'].str.contains('|'.join(negative_keywords), case=False, na=False)].copy()\n",
    "\n",
    "# limpiamos saltos de línea\n",
    "opinions_with_neg_words['text'] = opinions_with_neg_words['text'].str.replace(r'\\n', ' ', regex=True)\n",
    "\n",
    "# 3 primeras opiniones que contienen esas palabras\n",
    "print(\"Opiniones que contienen las palabras más informativas (negativas):\\n\")\n",
    "for i, row in opinions_with_neg_words.head(3).iterrows():\n",
    "    print(f\"- {row['text']}\\n\")\n"
   ]
  },
  {
   "cell_type": "markdown",
   "id": "b5c24dbb",
   "metadata": {
    "id": "b5c24dbb"
   },
   "source": [
    "#### 4.1.2.2\n",
    "\n",
    "<div style=\"background-color: #F8F7FF; border-color: #7C9DBF; border-left: 5px solid #7C9DBF; padding: 0.5em;\">\n",
    "\n",
    "<i>Segundo paso</i>: Utilizar el diccionario de opiniones (archivo AFINN-111) para extraer la polaridad de cada opinión como la media de los valores de las opinion words del texto.\n",
    "<br>\n",
    "<b>Salida esperada:</b> Lista de las 3 primeras opioniones y el respectivo puntaje de polaridad.\n",
    "\n",
    "</div>"
   ]
  },
  {
   "cell_type": "code",
   "execution_count": 164,
   "id": "895f6b09",
   "metadata": {
    "id": "895f6b09"
   },
   "outputs": [
    {
     "name": "stdout",
     "output_type": "stream",
     "text": [
      "Opiniones con polaridad AFINN:\n",
      "\n",
      "- Polaridad: 0.29\n",
      "this book received such great reviews but i found it incredibly boring . particularly because every story followed the same format and there were no rules to his universe . basic story outline protagonists let s go visit planet arc king of arc i have a problem you need to solve it might be considered a riddle protagonists we all just create a machine to do it because we can build machines that can do absolutely anything king of arc alas you have outsmarted me protagonists that was troubling let s not go to arc again if you can create a machine that can do anything then basically the machine and its creator are basically gods and therefore there will be nothing interesting in their stories . there is no conflict worth telling a story about when everything can be solved by the snap of a finger . furthermore even though the stories are about robots and space travel this book is not science fiction it s just space fantasy . the stories seem like they were written by someone with just a passing understanding of science . granted you have to take lem s time era into consideration but the pulp magazines of early last century did a much better job of creating stories about future technology . you could replace lem s robots with summoned demons and his space ship with a horse and the story would not change because there are zero rules in his universe and that is an incredibly unforgiving fault .\n",
      "\n",
      "- Polaridad: -0.10\n",
      "i bought this book the day before writing this . i was very disappointed because it s written from the perspective of two people one a teacher of add kids and the other an herbalist who are not parents or have add themselves so how would they know they don t . as a add person with a add kid whose father has it too i have enough blame placed upon me without reading a book that says my child needs more hugs that we need to cut off the t . v . she s too hyper to watch it and that both parents and teachers have failed add kids . it s a case of people thinking they know what is wrong with add kids without truly knowing . my daughter has a double dose and has always been a handful since she was one . they are saying that parents should t take the words of the teachers and parents should t want their kids labeled . most parents are like me have been dragging their kids to the pediatrician since they were very young begging for someone to listen . i did t need a teacher to confirm what i knew along time ago . i am though trying the natural approach to add and it works to of the time . i am still working on the right combination though . from the point of view of an herbal approach to add i appreciate it for giving even more choices than i had but from the point of view of understanding add they have not a clue\n",
      "\n",
      "- Polaridad: -1.00\n",
      "out of the dust was boring i did not like it because it was not funny it was dumb because all it did was blame billie joe about everything . the book is about a girl mom baby pro died . the story at the end was dumb because we do not know what happened to billie joe . if you like bad endings in books the you should read this book .\n",
      "\n"
     ]
    }
   ],
   "source": [
    "#############################################\n",
    "# SOLUCIÓN                                  #\n",
    "#############################################\n",
    "\n",
    "# cargamos el diccionario AFINN\n",
    "afinn = {}\n",
    "with open('AFINN-111.txt') as f:\n",
    "    for line in f:\n",
    "        word, score = line.strip().split('\\t')\n",
    "        afinn[word] = int(score)\n",
    "\n",
    "# función para calcular la polaridad promedio\n",
    "def compute_afinn_score(text):\n",
    "    tokens = word_tokenize(text.lower())\n",
    "    scores = [afinn[word] for word in tokens if word in afinn]\n",
    "    return sum(scores) / len(scores) if scores else 0\n",
    "\n",
    "# aplicamos la función a las opiniones seleccionadas\n",
    "opinions_with_neg_words[\"afinn_score\"] = opinions_with_neg_words[\"text\"].apply(compute_afinn_score)\n",
    "\n",
    "# 3 primeras opiniones y su polaridad\n",
    "print(\"Opiniones con polaridad AFINN:\\n\")\n",
    "for i, row in opinions_with_neg_words.head(3).iterrows():\n",
    "    print(f\"- Polaridad: {row['afinn_score']:.2f}\\n{row['text']}\\n\")\n"
   ]
  },
  {
   "cell_type": "markdown",
   "id": "a28b5fcb",
   "metadata": {},
   "source": [
    "Al leer las tres reseñas se puede observar que claramente todas tienen un tono bastante negativo; critican la falta de originalidad, demuestran frustración y dicen que son libros aburridos. Sin embargo, la puntuación objetiva obtenida varía significativamente entre una y otra:\n",
    "\n",
    "- La puntuación de la primera reseña es 0.29 (ligeramente positiva), esto no refleja adecuadamente el tono claramente negativo del texto.\n",
    "Esto se debe a que AFINN solo puntúa palabras individuales, no analiza estructura, ironía o argumentos complejos. Palabras como \"great\", \"incredible\", \"fantasy\" pueden elevar artificialmente el puntaje aunque el contexto sea negativo.\n",
    "\n",
    "- Para la segunda reseña la polaridad -0.10 refleja un tono más neutro que lo que en realidad transmite. Aunque se mantiene la calsificación negativa \n",
    "\n",
    "- La última reseña es en la que la puntuación mejor refleja el tono real. El lenguaje usado es directo y usa términos negativos explícitos como \"boring\", \"dumb\", \"bad\" que sí están en el diccionario AFINN. Aquí, la polaridad sí coincide con la interpretación humana."
   ]
  },
  {
   "cell_type": "markdown",
   "id": "1561cfe1",
   "metadata": {
    "id": "1561cfe1"
   },
   "source": [
    "#### 4.1.2.3 \n",
    "\n",
    "<div style=\"background-color: #F8F7FF; border-color: #7C9DBF; border-left: 5px solid #7C9DBF; padding: 0.5em;\">\n",
    "\n",
    "<i>Tercer paso:</i> Seleccionar opiniones con polaridad negativa que ejemplifiquen los aspectos peor valorados (utilizar un umbral para seleccionar las peores reseñas). Comenta cuáles son estos aspectos.\n",
    "<br>\n",
    "<b>Salida esperada: </b>\n",
    "<br>\n",
    "- Lista de las tres primeras opiniones negativas.\n",
    "<br>\n",
    "- Respuesta a la pregunta ¿Cuáles son los aspectos peor valorados por los clientes?\n",
    "\n",
    "</div>"
   ]
  },
  {
   "cell_type": "code",
   "execution_count": 173,
   "id": "412f2bf5",
   "metadata": {
    "id": "412f2bf5"
   },
   "outputs": [
    {
     "name": "stdout",
     "output_type": "stream",
     "text": [
      "Opiniones con polaridad más negativa:\n",
      "\n",
      "- Polaridad: -3.00\n",
      "i hated this book it was very boring . i would read things i find on the ground before i read it\n",
      "again .\n",
      "\n",
      "- Polaridad: -3.00\n",
      "i think that the book is boring for the most part but it is a really old book so i understand why i\n",
      "hated it .\n",
      "\n",
      "- Polaridad: -3.00\n",
      "i got up to around page and gave up . i simply don t understand what all of the to do is about . i\n",
      "found this simply boring . but not to give up on hemingway i will also try for whom the bell tolls\n",
      "and see how that fares .\n",
      "\n"
     ]
    }
   ],
   "source": [
    "#############################################\n",
    "# SOLUCIÓN                                  #\n",
    "#############################################\n",
    "\n",
    "# opiniones con polaridad negativa \n",
    "umbral = -2.5 # umbral \n",
    "opiniones_muy_negativas = opinions_with_neg_words[opinions_with_neg_words[\"afinn_score\"] < umbral]\n",
    "\n",
    "# 3 primeras opiniones más negativas\n",
    "print(\"Opiniones con polaridad más negativa:\\n\")\n",
    "for i, row in opiniones_muy_negativas.head(3).iterrows():\n",
    "    print(f\"- Polaridad: {row['afinn_score']:.2f}\\n{textwrap.fill(row['text'], 100)}\\n\")"
   ]
  },
  {
   "cell_type": "markdown",
   "id": "ec874de6",
   "metadata": {},
   "source": [
    "Las opiniones con mayor negatividad señalan que los temas peor valorados por los lectores son el aburrimiento general, la falta de claridad narrativa y la desconexión con el lector. En todos los casos, se observa un alto grado de frustración y una crítica clara hacia el contenido que consideran insatisfactorio o sin valor personal o literario."
   ]
  },
  {
   "cell_type": "markdown",
   "id": "27df604a",
   "metadata": {},
   "source": [
    "Para crearnos una idea mas detallada podemos generar un wordcloud tanto de las opiniones mas negativas como de las mas positivas"
   ]
  },
  {
   "cell_type": "code",
   "execution_count": 177,
   "id": "e17511d2",
   "metadata": {},
   "outputs": [
    {
     "data": {
      "image/png": "[encoded data removed]",
      "text/plain": [
       "<Figure size 1200x600 with 1 Axes>"
      ]
     },
     "metadata": {},
     "output_type": "display_data"
    }
   ],
   "source": [
    "# unimos todo el texto de las opiniones muy negativas\n",
    "text_negativo = \" \".join(opiniones_muy_negativas[\"text\"].tolist())\n",
    "\n",
    "# wordcloud\n",
    "wordcloud = WordCloud(width=800, height=400, background_color='white',\n",
    "                      colormap='Reds', max_words=100).generate(text_negativo)\n",
    "\n",
    "plt.figure(figsize=(12, 6))\n",
    "plt.imshow(wordcloud, interpolation='bilinear')\n",
    "plt.axis('off')\n",
    "plt.title(\"Word Cloud de opiniones más negativas\")\n",
    "plt.show()"
   ]
  },
  {
   "cell_type": "code",
   "execution_count": 178,
   "id": "02b57326",
   "metadata": {},
   "outputs": [
    {
     "data": {
      "image/png": "[encoded data removed]",
      "text/plain": [
       "<Figure size 1200x600 with 1 Axes>"
      ]
     },
     "metadata": {},
     "output_type": "display_data"
    }
   ],
   "source": [
    "# opiniones con polaridad muy positiva\n",
    "umbral_positivo = 2.5\n",
    "opiniones_muy_positivas = opinions_with_neg_words[opinions_with_neg_words[\"afinn_score\"] > umbral_positivo]\n",
    "\n",
    "# unimos todo el texto\n",
    "text_positivo = \" \".join(opiniones_muy_positivas[\"text\"].tolist())\n",
    "\n",
    "# wordcloud\n",
    "wordcloud_pos = WordCloud(width=800, height=400, background_color='white',\n",
    "                          colormap='Greens', max_words=100).generate(text_positivo)\n",
    "\n",
    "plt.figure(figsize=(12, 6))\n",
    "plt.imshow(wordcloud_pos, interpolation='bilinear')\n",
    "plt.axis('off')\n",
    "plt.title(\"Word Cloud de opiniones más positivas\")\n",
    "plt.show()"
   ]
  },
  {
   "cell_type": "markdown",
   "id": "fd22b5d6-b863-4ff6-92a6-a4e35325fa38",
   "metadata": {
    "id": "fd22b5d6-b863-4ff6-92a6-a4e35325fa38"
   },
   "source": [
    "# 5. Evaluación: comparación de modelos y discusión de resultados"
   ]
  },
  {
   "cell_type": "markdown",
   "id": "b69d8d2f",
   "metadata": {
    "id": "b69d8d2f"
   },
   "source": [
    "### 5.1\n",
    "\n",
    "<div style=\"background-color: #EDF7FF; border-color: #7C9DBF; border-left: 5px solid #7C9DBF; padding: 0.5em;\">\n",
    "\n",
    "<strong>Ejercicio 5.1:</strong> Obtén los resultados de las métricas de evaluación del clasificador basado en regresión logística.\n",
    "\n",
    "<b>Salida esperada: </b> Métricas de redimiento del modelo de regresión logística (por clase).\n",
    "</div>"
   ]
  },
  {
   "cell_type": "code",
   "execution_count": null,
   "id": "afc6ad8f",
   "metadata": {
    "id": "afc6ad8f"
   },
   "outputs": [
    {
     "name": "stdout",
     "output_type": "stream",
     "text": [
      "Clasification Report:\n",
      "              precision    recall  f1-score   support\n",
      "\n",
      "Negativa (0)       0.86      0.85      0.85       998\n",
      "Positiva (1)       0.85      0.86      0.86       986\n",
      "\n",
      "    accuracy                           0.86      1984\n",
      "   macro avg       0.86      0.86      0.86      1984\n",
      "weighted avg       0.86      0.86      0.86      1984\n",
      "\n",
      "\n",
      "Accuracy: 0.8553\n"
     ]
    },
    {
     "data": {
      "image/png": "[encoded data removed]",
      "text/plain": [
       "<Figure size 640x480 with 2 Axes>"
      ]
     },
     "metadata": {},
     "output_type": "display_data"
    }
   ],
   "source": [
    "#############################################\n",
    "# SOLUCIÓN MODELO REGRESIÓN LOGÍSTICA       #\n",
    "#############################################\n",
    "\n",
    "# predecir\n",
    "y_pred = clf.predict(X_test)\n",
    "\n",
    "# métricas de evaluación\n",
    "print(\"Clasification Report:\")\n",
    "print(classification_report(y_test, y_pred, target_names=[\"Negativa (0)\", \"Positiva (1)\"]))\n",
    "\n",
    "# accuracy\n",
    "print(f\"\\nAccuracy: {accuracy_score(y_test, y_pred):.4f}\")\n",
    "\n",
    "# matriz de confusión\n",
    "cm = confusion_matrix(y_test, y_pred)\n",
    "sns.heatmap(cm, annot=True, fmt='d', cmap='Blues', xticklabels=[\"Neg\", \"Pos\"], yticklabels=[\"Neg\", \"Pos\"])\n",
    "plt.xlabel(\"Predicho\")\n",
    "plt.ylabel(\"Real\")\n",
    "plt.title(\"Matriz de Confusión\")\n",
    "plt.show()"
   ]
  },
  {
   "cell_type": "markdown",
   "id": "48a98d15",
   "metadata": {},
   "source": [
    "Un accuracy del 85.5% y métricas similares entre clases (f1-score ≈ 0.85 para negativas y 0.86 para positivas), nos indican que el modelo es capaz de identificar correctamente tanto valoraciones negativas como positivas, sin mostrar sesgo hacia ninguna de ellas"
   ]
  },
  {
   "cell_type": "markdown",
   "id": "82c5988e-ce7e-4b4c-afca-023941c34fa7",
   "metadata": {
    "id": "82c5988e-ce7e-4b4c-afca-023941c34fa7"
   },
   "source": [
    "### 5.2\n",
    "\n",
    "<div style=\"background-color: #EDF7FF; border-color: #7C9DBF; border-left: 5px solid #7C9DBF; padding: 0.5em;\">\n",
    "\n",
    "<strong>Ejercicio 5.2:</strong> Obtener también los resultados de las métricas de evaluación para un clasificador diferente. Por ejemplo, utilizar SVM.\n",
    "<br>\n",
    "<b>Salida esperada: </b>\n",
    "<br>\n",
    "- Tiempo de ejecución que conlleva realizar el entrenamiento (fit()).\n",
    "<br>\n",
    "- Métricas de redimiento del modelo SVM (por clase).\n",
    "<br>\n",
    "</div>"
   ]
  },
  {
   "cell_type": "code",
   "execution_count": 183,
   "id": "210a7df8",
   "metadata": {
    "id": "210a7df8"
   },
   "outputs": [
    {
     "name": "stdout",
     "output_type": "stream",
     "text": [
      "Tiempo de entrenamiento (SVM): 0.0366 segundos\n",
      "\n",
      "Clasification Report (SVM):\n",
      "              precision    recall  f1-score   support\n",
      "\n",
      "Negativa (0)       0.85      0.84      0.85       998\n",
      "Positiva (1)       0.84      0.85      0.85       986\n",
      "\n",
      "    accuracy                           0.85      1984\n",
      "   macro avg       0.85      0.85      0.85      1984\n",
      "weighted avg       0.85      0.85      0.85      1984\n",
      "\n",
      "Accuracy (SVM): 0.8463\n"
     ]
    },
    {
     "data": {
      "image/png": "[encoded data removed]",
      "text/plain": [
       "<Figure size 640x480 with 2 Axes>"
      ]
     },
     "metadata": {},
     "output_type": "display_data"
    }
   ],
   "source": [
    "#############################################\n",
    "# SOLUCIÓN MODELO SVM                       #\n",
    "#############################################\n",
    "\n",
    "# modelo\n",
    "svm_model = LinearSVC()\n",
    "\n",
    "# tiempo de entrenamiento\n",
    "start = time.time()\n",
    "svm_model.fit(X_train, y_train)\n",
    "end = time.time()\n",
    "\n",
    "print(f\"Tiempo de entrenamiento (SVM): {end - start:.4f} segundos\")\n",
    "\n",
    "# predecir en el conjunto de prueba\n",
    "y_pred_svm = svm_model.predict(X_test)\n",
    "\n",
    "# métricas\n",
    "print(\"\\nClasification Report (SVM):\")\n",
    "print(classification_report(y_test, y_pred_svm, target_names=[\"Negativa (0)\", \"Positiva (1)\"]))\n",
    "\n",
    "# accuracy\n",
    "print(f\"Accuracy (SVM): {accuracy_score(y_test, y_pred_svm):.4f}\")\n",
    "\n",
    "# matriz de confusión\n",
    "cm = confusion_matrix(y_test, y_pred_svm)\n",
    "sns.heatmap(cm, annot=True, fmt='d', cmap='Purples', xticklabels=[\"Neg\", \"Pos\"], yticklabels=[\"Neg\", \"Pos\"])\n",
    "plt.xlabel(\"Predicho\")\n",
    "plt.ylabel(\"Real\")\n",
    "plt.title(\"Matriz de Confusión - SVM\")\n",
    "plt.show()\n"
   ]
  },
  {
   "cell_type": "markdown",
   "id": "829e135c",
   "metadata": {},
   "source": [
    "Un accuracy del 84.6% y métricas similares entre clases, nos indican nuevamente que el modelo es capaz de identificar correctamente tanto valoraciones negativas como positivas, sin mostrar sesgo hacia ninguna de ellas."
   ]
  },
  {
   "cell_type": "markdown",
   "id": "52e3098e",
   "metadata": {},
   "source": [
    "Adicionalmente podemos probar con Naive Bayes a ver si las metricas varían en algún sentido "
   ]
  },
  {
   "cell_type": "code",
   "execution_count": null,
   "id": "cef5e7eb",
   "metadata": {},
   "outputs": [
    {
     "name": "stdout",
     "output_type": "stream",
     "text": [
      "Tiempo de entrenamiento (Naive Bayes): 0.0025 segundos\n",
      "\n",
      "Classification Report (Naive Bayes):\n",
      "              precision    recall  f1-score   support\n",
      "\n",
      "Negativa (0)       0.86      0.87      0.86       998\n",
      "Positiva (1)       0.86      0.85      0.86       986\n",
      "\n",
      "    accuracy                           0.86      1984\n",
      "   macro avg       0.86      0.86      0.86      1984\n",
      "weighted avg       0.86      0.86      0.86      1984\n",
      "\n",
      "Accuracy (Naive Bayes): 0.8599\n"
     ]
    },
    {
     "data": {
      "image/png": "[encoded data removed]",
      "text/plain": [
       "<Figure size 640x480 with 2 Axes>"
      ]
     },
     "metadata": {},
     "output_type": "display_data"
    }
   ],
   "source": [
    "\n",
    "\n",
    "#############################################\n",
    "# MODELO NAIVE BAYES - MultinomialNB\n",
    "#############################################\n",
    "\n",
    "# modelo\n",
    "nb_model = MultinomialNB()\n",
    "\n",
    "# tiempo de entrenamiento\n",
    "start = time.time()\n",
    "nb_model.fit(X_train, y_train)\n",
    "end = time.time()\n",
    "\n",
    "# 3. Mostrar tiempo\n",
    "print(f\"Tiempo de entrenamiento (Naive Bayes): {end - start:.4f} segundos\")\n",
    "\n",
    "# predecir en el conjunto de test\n",
    "y_pred_nb = nb_model.predict(X_test)\n",
    "\n",
    "# métricas\n",
    "print(\"\\nClassification Report (Naive Bayes):\")\n",
    "print(classification_report(y_test, y_pred_nb, target_names=[\"Negativa (0)\", \"Positiva (1)\"]))\n",
    "\n",
    "# accuracy\n",
    "print(f\"Accuracy (Naive Bayes): {accuracy_score(y_test, y_pred_nb):.4f}\")\n",
    "\n",
    "# matriz de confusión\n",
    "cm_nb = confusion_matrix(y_test, y_pred_nb)\n",
    "sns.heatmap(cm_nb, annot=True, fmt='d', cmap='Oranges', xticklabels=[\"Neg\", \"Pos\"], yticklabels=[\"Neg\", \"Pos\"])\n",
    "plt.xlabel(\"Predicho\")\n",
    "plt.ylabel(\"Real\")\n",
    "plt.title(\"Matriz de Confusión - Naive Bayes\")\n",
    "plt.show()\n"
   ]
  },
  {
   "cell_type": "markdown",
   "id": "e7e3157b",
   "metadata": {},
   "source": [
    "Como se puede observar se mantiene el rendimiento que tenían los modelos anteriores"
   ]
  }
 ],
 "metadata": {
  "colab": {
   "provenance": []
  },
  "kernelspec": {
   "display_name": "Python 3",
   "language": "python",
   "name": "python3"
  },
  "language_info": {
   "codemirror_mode": {
    "name": "ipython",
    "version": 3
   },
   "file_extension": ".py",
   "mimetype": "text/x-python",
   "name": "python",
   "nbconvert_exporter": "python",
   "pygments_lexer": "ipython3",
   "version": "3.9.6"
  }
 },
 "nbformat": 4,
 "nbformat_minor": 5
}
